{
  "cells": [
    {
      "cell_type": "markdown",
      "metadata": {
        "id": "ZXLVh9ts8rnC"
      },
      "source": [
        "##### Dataset Link : https://archive.ics.uci.edu/ml/datasets/gene+expression+cancer+RNA-Seq"
      ]
    },
    {
      "cell_type": "code",
      "execution_count": null,
      "metadata": {
        "colab": {
          "base_uri": "https://localhost:8080/"
        },
        "id": "R8kJf5tMDQQc",
        "outputId": "8d60d0d4-04ec-4c5b-9ba2-f3c3c44eeedd"
      },
      "outputs": [
        {
          "name": "stdout",
          "output_type": "stream",
          "text": [
            "Using matplotlib backend: agg\n"
          ]
        }
      ],
      "source": [
        "import pandas as pd\n",
        "import numpy as np\n",
        "\n",
        "import tensorflow as tf\n",
        "from tensorflow import keras\n",
        "from keras import backend as K\n",
        "import keras\n",
        "\n",
        "from sklearn.metrics import confusion_matrix\n",
        "from sklearn import metrics\n",
        "\n",
        "from sklearn.tree import DecisionTreeClassifier\n",
        "from sklearn.metrics import accuracy_score\n",
        "from sklearn import tree\n",
        "\n",
        "from sklearn.preprocessing import StandardScaler\n",
        "from sklearn.neighbors import KNeighborsClassifier\n",
        "from sklearn.svm import SVC\n",
        "from sklearn.tree import DecisionTreeClassifier, export_graphviz\n",
        "\n",
        "from sklearn.multiclass import OneVsRestClassifier\n",
        "import os\n",
        "import matplotlib.pyplot as plt\n",
        "%matplotlib"
      ]
    },
    {
      "cell_type": "code",
      "execution_count": null,
      "metadata": {
        "colab": {
          "base_uri": "https://localhost:8080/",
          "height": 35
        },
        "id": "2tWGrBSZQPYg",
        "outputId": "e2a4ffb8-e4ec-4fee-f608-5b22f21f7476"
      },
      "outputs": [
        {
          "data": {
            "application/vnd.google.colaboratory.intrinsic+json": {
              "type": "string"
            },
            "text/plain": [
              "'2.8.0'"
            ]
          },
          "execution_count": 3,
          "metadata": {},
          "output_type": "execute_result"
        }
      ],
      "source": [
        "tf.__version__"
      ]
    },
    {
      "cell_type": "code",
      "execution_count": null,
      "metadata": {
        "id": "MXBkMwH89g97"
      },
      "outputs": [],
      "source": [
        "from sklearn.model_selection import train_test_split\n",
        "from sklearn.metrics import confusion_matrix\n",
        "from sklearn.metrics import accuracy_score\n",
        "from matplotlib import pyplot as plt\n",
        "import random\n",
        "np.random.seed(1607094)"
      ]
    },
    {
      "cell_type": "code",
      "execution_count": null,
      "metadata": {
        "id": "JdneIwuC-KKb"
      },
      "outputs": [],
      "source": [
        "import warnings\n",
        "warnings.filterwarnings(action='ignore', category=UserWarning)"
      ]
    },
    {
      "cell_type": "code",
      "execution_count": null,
      "metadata": {
        "colab": {
          "base_uri": "https://localhost:8080/"
        },
        "id": "Nrh5nJ8j-Mms",
        "outputId": "b3765757-d2b6-4ed6-8564-ead1d405e3d0"
      },
      "outputs": [
        {
          "name": "stdout",
          "output_type": "stream",
          "text": [
            "Mounted at /content/drive\n"
          ]
        }
      ],
      "source": [
        "from google.colab import drive\n",
        "drive.mount('/content/drive')"
      ]
    },
    {
      "cell_type": "code",
      "execution_count": null,
      "metadata": {
        "id": "fhQ3K403-HJd"
      },
      "outputs": [],
      "source": [
        "path=\"/content/drive/MyDrive/Research/\""
      ]
    },
    {
      "cell_type": "code",
      "execution_count": null,
      "metadata": {
        "id": "5UkWxta8A_5e"
      },
      "outputs": [],
      "source": [
        "# !unrar e \"/content/drive/MyDrive/Thesis_Data_CSE4000/dataset.rar\""
      ]
    },
    {
      "cell_type": "code",
      "execution_count": null,
      "metadata": {
        "id": "hvVhcgLMjwhX"
      },
      "outputs": [],
      "source": [
        "# load dataset\n",
        "data=pd.read_csv(path+\"data.csv\",sep=r'\\s*,\\s*',header=0, encoding='ascii', engine='python')\n",
        "label=pd.read_csv(path+\"labels.csv\",sep=r'\\s*,\\s*',header=0, encoding='ascii', engine='python')"
      ]
    },
    {
      "cell_type": "code",
      "execution_count": null,
      "metadata": {
        "colab": {
          "base_uri": "https://localhost:8080/",
          "height": 317
        },
        "id": "XzISNW9Zjwd4",
        "outputId": "8da59aff-f0cf-42e1-fbd4-296db8abf6f6"
      },
      "outputs": [
        {
          "data": {
            "text/html": [
              "\n",
              "  <div id=\"df-bb3060aa-6a1a-457d-9a51-b57fce3f4a25\">\n",
              "    <div class=\"colab-df-container\">\n",
              "      <div>\n",
              "<style scoped>\n",
              "    .dataframe tbody tr th:only-of-type {\n",
              "        vertical-align: middle;\n",
              "    }\n",
              "\n",
              "    .dataframe tbody tr th {\n",
              "        vertical-align: top;\n",
              "    }\n",
              "\n",
              "    .dataframe thead th {\n",
              "        text-align: right;\n",
              "    }\n",
              "</style>\n",
              "<table border=\"1\" class=\"dataframe\">\n",
              "  <thead>\n",
              "    <tr style=\"text-align: right;\">\n",
              "      <th></th>\n",
              "      <th>Unnamed: 0</th>\n",
              "      <th>gene_0</th>\n",
              "      <th>gene_1</th>\n",
              "      <th>gene_2</th>\n",
              "      <th>gene_3</th>\n",
              "      <th>gene_4</th>\n",
              "      <th>gene_5</th>\n",
              "      <th>gene_6</th>\n",
              "      <th>gene_7</th>\n",
              "      <th>gene_8</th>\n",
              "      <th>...</th>\n",
              "      <th>gene_20521</th>\n",
              "      <th>gene_20522</th>\n",
              "      <th>gene_20523</th>\n",
              "      <th>gene_20524</th>\n",
              "      <th>gene_20525</th>\n",
              "      <th>gene_20526</th>\n",
              "      <th>gene_20527</th>\n",
              "      <th>gene_20528</th>\n",
              "      <th>gene_20529</th>\n",
              "      <th>gene_20530</th>\n",
              "    </tr>\n",
              "  </thead>\n",
              "  <tbody>\n",
              "    <tr>\n",
              "      <th>0</th>\n",
              "      <td>sample_0</td>\n",
              "      <td>0.0</td>\n",
              "      <td>2.017209</td>\n",
              "      <td>3.265527</td>\n",
              "      <td>5.478487</td>\n",
              "      <td>10.431999</td>\n",
              "      <td>0.0</td>\n",
              "      <td>7.175175</td>\n",
              "      <td>0.591871</td>\n",
              "      <td>0.0</td>\n",
              "      <td>...</td>\n",
              "      <td>4.926711</td>\n",
              "      <td>8.210257</td>\n",
              "      <td>9.723516</td>\n",
              "      <td>7.220030</td>\n",
              "      <td>9.119813</td>\n",
              "      <td>12.003135</td>\n",
              "      <td>9.650743</td>\n",
              "      <td>8.921326</td>\n",
              "      <td>5.286759</td>\n",
              "      <td>0.0</td>\n",
              "    </tr>\n",
              "    <tr>\n",
              "      <th>1</th>\n",
              "      <td>sample_1</td>\n",
              "      <td>0.0</td>\n",
              "      <td>0.592732</td>\n",
              "      <td>1.588421</td>\n",
              "      <td>7.586157</td>\n",
              "      <td>9.623011</td>\n",
              "      <td>0.0</td>\n",
              "      <td>6.816049</td>\n",
              "      <td>0.000000</td>\n",
              "      <td>0.0</td>\n",
              "      <td>...</td>\n",
              "      <td>4.593372</td>\n",
              "      <td>7.323865</td>\n",
              "      <td>9.740931</td>\n",
              "      <td>6.256586</td>\n",
              "      <td>8.381612</td>\n",
              "      <td>12.674552</td>\n",
              "      <td>10.517059</td>\n",
              "      <td>9.397854</td>\n",
              "      <td>2.094168</td>\n",
              "      <td>0.0</td>\n",
              "    </tr>\n",
              "    <tr>\n",
              "      <th>2</th>\n",
              "      <td>sample_2</td>\n",
              "      <td>0.0</td>\n",
              "      <td>3.511759</td>\n",
              "      <td>4.327199</td>\n",
              "      <td>6.881787</td>\n",
              "      <td>9.870730</td>\n",
              "      <td>0.0</td>\n",
              "      <td>6.972130</td>\n",
              "      <td>0.452595</td>\n",
              "      <td>0.0</td>\n",
              "      <td>...</td>\n",
              "      <td>5.125213</td>\n",
              "      <td>8.127123</td>\n",
              "      <td>10.908640</td>\n",
              "      <td>5.401607</td>\n",
              "      <td>9.911597</td>\n",
              "      <td>9.045255</td>\n",
              "      <td>9.788359</td>\n",
              "      <td>10.090470</td>\n",
              "      <td>1.683023</td>\n",
              "      <td>0.0</td>\n",
              "    </tr>\n",
              "    <tr>\n",
              "      <th>3</th>\n",
              "      <td>sample_3</td>\n",
              "      <td>0.0</td>\n",
              "      <td>3.663618</td>\n",
              "      <td>4.507649</td>\n",
              "      <td>6.659068</td>\n",
              "      <td>10.196184</td>\n",
              "      <td>0.0</td>\n",
              "      <td>7.843375</td>\n",
              "      <td>0.434882</td>\n",
              "      <td>0.0</td>\n",
              "      <td>...</td>\n",
              "      <td>6.076566</td>\n",
              "      <td>8.792959</td>\n",
              "      <td>10.141520</td>\n",
              "      <td>8.942805</td>\n",
              "      <td>9.601208</td>\n",
              "      <td>11.392682</td>\n",
              "      <td>9.694814</td>\n",
              "      <td>9.684365</td>\n",
              "      <td>3.292001</td>\n",
              "      <td>0.0</td>\n",
              "    </tr>\n",
              "    <tr>\n",
              "      <th>4</th>\n",
              "      <td>sample_4</td>\n",
              "      <td>0.0</td>\n",
              "      <td>2.655741</td>\n",
              "      <td>2.821547</td>\n",
              "      <td>6.539454</td>\n",
              "      <td>9.738265</td>\n",
              "      <td>0.0</td>\n",
              "      <td>6.566967</td>\n",
              "      <td>0.360982</td>\n",
              "      <td>0.0</td>\n",
              "      <td>...</td>\n",
              "      <td>5.996032</td>\n",
              "      <td>8.891425</td>\n",
              "      <td>10.373790</td>\n",
              "      <td>7.181162</td>\n",
              "      <td>9.846910</td>\n",
              "      <td>11.922439</td>\n",
              "      <td>9.217749</td>\n",
              "      <td>9.461191</td>\n",
              "      <td>5.110372</td>\n",
              "      <td>0.0</td>\n",
              "    </tr>\n",
              "  </tbody>\n",
              "</table>\n",
              "<p>5 rows × 20532 columns</p>\n",
              "</div>\n",
              "      <button class=\"colab-df-convert\" onclick=\"convertToInteractive('df-bb3060aa-6a1a-457d-9a51-b57fce3f4a25')\"\n",
              "              title=\"Convert this dataframe to an interactive table.\"\n",
              "              style=\"display:none;\">\n",
              "        \n",
              "  <svg xmlns=\"http://www.w3.org/2000/svg\" height=\"24px\"viewBox=\"0 0 24 24\"\n",
              "       width=\"24px\">\n",
              "    <path d=\"M0 0h24v24H0V0z\" fill=\"none\"/>\n",
              "    <path d=\"M18.56 5.44l.94 2.06.94-2.06 2.06-.94-2.06-.94-.94-2.06-.94 2.06-2.06.94zm-11 1L8.5 8.5l.94-2.06 2.06-.94-2.06-.94L8.5 2.5l-.94 2.06-2.06.94zm10 10l.94 2.06.94-2.06 2.06-.94-2.06-.94-.94-2.06-.94 2.06-2.06.94z\"/><path d=\"M17.41 7.96l-1.37-1.37c-.4-.4-.92-.59-1.43-.59-.52 0-1.04.2-1.43.59L10.3 9.45l-7.72 7.72c-.78.78-.78 2.05 0 2.83L4 21.41c.39.39.9.59 1.41.59.51 0 1.02-.2 1.41-.59l7.78-7.78 2.81-2.81c.8-.78.8-2.07 0-2.86zM5.41 20L4 18.59l7.72-7.72 1.47 1.35L5.41 20z\"/>\n",
              "  </svg>\n",
              "      </button>\n",
              "      \n",
              "  <style>\n",
              "    .colab-df-container {\n",
              "      display:flex;\n",
              "      flex-wrap:wrap;\n",
              "      gap: 12px;\n",
              "    }\n",
              "\n",
              "    .colab-df-convert {\n",
              "      background-color: #E8F0FE;\n",
              "      border: none;\n",
              "      border-radius: 50%;\n",
              "      cursor: pointer;\n",
              "      display: none;\n",
              "      fill: #1967D2;\n",
              "      height: 32px;\n",
              "      padding: 0 0 0 0;\n",
              "      width: 32px;\n",
              "    }\n",
              "\n",
              "    .colab-df-convert:hover {\n",
              "      background-color: #E2EBFA;\n",
              "      box-shadow: 0px 1px 2px rgba(60, 64, 67, 0.3), 0px 1px 3px 1px rgba(60, 64, 67, 0.15);\n",
              "      fill: #174EA6;\n",
              "    }\n",
              "\n",
              "    [theme=dark] .colab-df-convert {\n",
              "      background-color: #3B4455;\n",
              "      fill: #D2E3FC;\n",
              "    }\n",
              "\n",
              "    [theme=dark] .colab-df-convert:hover {\n",
              "      background-color: #434B5C;\n",
              "      box-shadow: 0px 1px 3px 1px rgba(0, 0, 0, 0.15);\n",
              "      filter: drop-shadow(0px 1px 2px rgba(0, 0, 0, 0.3));\n",
              "      fill: #FFFFFF;\n",
              "    }\n",
              "  </style>\n",
              "\n",
              "      <script>\n",
              "        const buttonEl =\n",
              "          document.querySelector('#df-bb3060aa-6a1a-457d-9a51-b57fce3f4a25 button.colab-df-convert');\n",
              "        buttonEl.style.display =\n",
              "          google.colab.kernel.accessAllowed ? 'block' : 'none';\n",
              "\n",
              "        async function convertToInteractive(key) {\n",
              "          const element = document.querySelector('#df-bb3060aa-6a1a-457d-9a51-b57fce3f4a25');\n",
              "          const dataTable =\n",
              "            await google.colab.kernel.invokeFunction('convertToInteractive',\n",
              "                                                     [key], {});\n",
              "          if (!dataTable) return;\n",
              "\n",
              "          const docLinkHtml = 'Like what you see? Visit the ' +\n",
              "            '<a target=\"_blank\" href=https://colab.research.google.com/notebooks/data_table.ipynb>data table notebook</a>'\n",
              "            + ' to learn more about interactive tables.';\n",
              "          element.innerHTML = '';\n",
              "          dataTable['output_type'] = 'display_data';\n",
              "          await google.colab.output.renderOutput(dataTable, element);\n",
              "          const docLink = document.createElement('div');\n",
              "          docLink.innerHTML = docLinkHtml;\n",
              "          element.appendChild(docLink);\n",
              "        }\n",
              "      </script>\n",
              "    </div>\n",
              "  </div>\n",
              "  "
            ],
            "text/plain": [
              "  Unnamed: 0  gene_0    gene_1    gene_2    gene_3     gene_4  gene_5  \\\n",
              "0   sample_0     0.0  2.017209  3.265527  5.478487  10.431999     0.0   \n",
              "1   sample_1     0.0  0.592732  1.588421  7.586157   9.623011     0.0   \n",
              "2   sample_2     0.0  3.511759  4.327199  6.881787   9.870730     0.0   \n",
              "3   sample_3     0.0  3.663618  4.507649  6.659068  10.196184     0.0   \n",
              "4   sample_4     0.0  2.655741  2.821547  6.539454   9.738265     0.0   \n",
              "\n",
              "     gene_6    gene_7  gene_8  ...  gene_20521  gene_20522  gene_20523  \\\n",
              "0  7.175175  0.591871     0.0  ...    4.926711    8.210257    9.723516   \n",
              "1  6.816049  0.000000     0.0  ...    4.593372    7.323865    9.740931   \n",
              "2  6.972130  0.452595     0.0  ...    5.125213    8.127123   10.908640   \n",
              "3  7.843375  0.434882     0.0  ...    6.076566    8.792959   10.141520   \n",
              "4  6.566967  0.360982     0.0  ...    5.996032    8.891425   10.373790   \n",
              "\n",
              "   gene_20524  gene_20525  gene_20526  gene_20527  gene_20528  gene_20529  \\\n",
              "0    7.220030    9.119813   12.003135    9.650743    8.921326    5.286759   \n",
              "1    6.256586    8.381612   12.674552   10.517059    9.397854    2.094168   \n",
              "2    5.401607    9.911597    9.045255    9.788359   10.090470    1.683023   \n",
              "3    8.942805    9.601208   11.392682    9.694814    9.684365    3.292001   \n",
              "4    7.181162    9.846910   11.922439    9.217749    9.461191    5.110372   \n",
              "\n",
              "   gene_20530  \n",
              "0         0.0  \n",
              "1         0.0  \n",
              "2         0.0  \n",
              "3         0.0  \n",
              "4         0.0  \n",
              "\n",
              "[5 rows x 20532 columns]"
            ]
          },
          "execution_count": 8,
          "metadata": {},
          "output_type": "execute_result"
        }
      ],
      "source": [
        "data.head()"
      ]
    },
    {
      "cell_type": "code",
      "execution_count": null,
      "metadata": {
        "colab": {
          "base_uri": "https://localhost:8080/",
          "height": 394
        },
        "id": "--RFyplujwbE",
        "outputId": "4fcdf725-8c21-4188-8859-f74310001e2b"
      },
      "outputs": [
        {
          "data": {
            "text/html": [
              "\n",
              "  <div id=\"df-dbe679ab-8078-407a-9164-f0550c2576a8\">\n",
              "    <div class=\"colab-df-container\">\n",
              "      <div>\n",
              "<style scoped>\n",
              "    .dataframe tbody tr th:only-of-type {\n",
              "        vertical-align: middle;\n",
              "    }\n",
              "\n",
              "    .dataframe tbody tr th {\n",
              "        vertical-align: top;\n",
              "    }\n",
              "\n",
              "    .dataframe thead th {\n",
              "        text-align: right;\n",
              "    }\n",
              "</style>\n",
              "<table border=\"1\" class=\"dataframe\">\n",
              "  <thead>\n",
              "    <tr style=\"text-align: right;\">\n",
              "      <th></th>\n",
              "      <th>gene_0</th>\n",
              "      <th>gene_1</th>\n",
              "      <th>gene_2</th>\n",
              "      <th>gene_3</th>\n",
              "      <th>gene_4</th>\n",
              "      <th>gene_5</th>\n",
              "      <th>gene_6</th>\n",
              "      <th>gene_7</th>\n",
              "      <th>gene_8</th>\n",
              "      <th>gene_9</th>\n",
              "      <th>...</th>\n",
              "      <th>gene_20521</th>\n",
              "      <th>gene_20522</th>\n",
              "      <th>gene_20523</th>\n",
              "      <th>gene_20524</th>\n",
              "      <th>gene_20525</th>\n",
              "      <th>gene_20526</th>\n",
              "      <th>gene_20527</th>\n",
              "      <th>gene_20528</th>\n",
              "      <th>gene_20529</th>\n",
              "      <th>gene_20530</th>\n",
              "    </tr>\n",
              "  </thead>\n",
              "  <tbody>\n",
              "    <tr>\n",
              "      <th>count</th>\n",
              "      <td>801.000000</td>\n",
              "      <td>801.000000</td>\n",
              "      <td>801.000000</td>\n",
              "      <td>801.000000</td>\n",
              "      <td>801.000000</td>\n",
              "      <td>801.0</td>\n",
              "      <td>801.000000</td>\n",
              "      <td>801.000000</td>\n",
              "      <td>801.000000</td>\n",
              "      <td>801.000000</td>\n",
              "      <td>...</td>\n",
              "      <td>801.000000</td>\n",
              "      <td>801.000000</td>\n",
              "      <td>801.000000</td>\n",
              "      <td>801.000000</td>\n",
              "      <td>801.000000</td>\n",
              "      <td>801.000000</td>\n",
              "      <td>801.000000</td>\n",
              "      <td>801.000000</td>\n",
              "      <td>801.000000</td>\n",
              "      <td>801.000000</td>\n",
              "    </tr>\n",
              "    <tr>\n",
              "      <th>mean</th>\n",
              "      <td>0.026642</td>\n",
              "      <td>3.010909</td>\n",
              "      <td>3.095350</td>\n",
              "      <td>6.722305</td>\n",
              "      <td>9.813612</td>\n",
              "      <td>0.0</td>\n",
              "      <td>7.405509</td>\n",
              "      <td>0.499882</td>\n",
              "      <td>0.016744</td>\n",
              "      <td>0.013428</td>\n",
              "      <td>...</td>\n",
              "      <td>5.896573</td>\n",
              "      <td>8.765891</td>\n",
              "      <td>10.056252</td>\n",
              "      <td>4.847727</td>\n",
              "      <td>9.741987</td>\n",
              "      <td>11.742228</td>\n",
              "      <td>10.155271</td>\n",
              "      <td>9.590726</td>\n",
              "      <td>5.528177</td>\n",
              "      <td>0.095411</td>\n",
              "    </tr>\n",
              "    <tr>\n",
              "      <th>std</th>\n",
              "      <td>0.136850</td>\n",
              "      <td>1.200828</td>\n",
              "      <td>1.065601</td>\n",
              "      <td>0.638819</td>\n",
              "      <td>0.506537</td>\n",
              "      <td>0.0</td>\n",
              "      <td>1.108237</td>\n",
              "      <td>0.508799</td>\n",
              "      <td>0.133635</td>\n",
              "      <td>0.204722</td>\n",
              "      <td>...</td>\n",
              "      <td>0.746399</td>\n",
              "      <td>0.603176</td>\n",
              "      <td>0.379278</td>\n",
              "      <td>2.382728</td>\n",
              "      <td>0.533898</td>\n",
              "      <td>0.670371</td>\n",
              "      <td>0.580569</td>\n",
              "      <td>0.563849</td>\n",
              "      <td>2.073859</td>\n",
              "      <td>0.364529</td>\n",
              "    </tr>\n",
              "    <tr>\n",
              "      <th>min</th>\n",
              "      <td>0.000000</td>\n",
              "      <td>0.000000</td>\n",
              "      <td>0.000000</td>\n",
              "      <td>5.009284</td>\n",
              "      <td>8.435999</td>\n",
              "      <td>0.0</td>\n",
              "      <td>3.930747</td>\n",
              "      <td>0.000000</td>\n",
              "      <td>0.000000</td>\n",
              "      <td>0.000000</td>\n",
              "      <td>...</td>\n",
              "      <td>2.853517</td>\n",
              "      <td>6.678368</td>\n",
              "      <td>8.669456</td>\n",
              "      <td>0.000000</td>\n",
              "      <td>7.974942</td>\n",
              "      <td>9.045255</td>\n",
              "      <td>7.530141</td>\n",
              "      <td>7.864533</td>\n",
              "      <td>0.593975</td>\n",
              "      <td>0.000000</td>\n",
              "    </tr>\n",
              "    <tr>\n",
              "      <th>25%</th>\n",
              "      <td>0.000000</td>\n",
              "      <td>2.299039</td>\n",
              "      <td>2.390365</td>\n",
              "      <td>6.303346</td>\n",
              "      <td>9.464466</td>\n",
              "      <td>0.0</td>\n",
              "      <td>6.676042</td>\n",
              "      <td>0.000000</td>\n",
              "      <td>0.000000</td>\n",
              "      <td>0.000000</td>\n",
              "      <td>...</td>\n",
              "      <td>5.454926</td>\n",
              "      <td>8.383834</td>\n",
              "      <td>9.826027</td>\n",
              "      <td>3.130750</td>\n",
              "      <td>9.400747</td>\n",
              "      <td>11.315857</td>\n",
              "      <td>9.836525</td>\n",
              "      <td>9.244219</td>\n",
              "      <td>4.092385</td>\n",
              "      <td>0.000000</td>\n",
              "    </tr>\n",
              "    <tr>\n",
              "      <th>50%</th>\n",
              "      <td>0.000000</td>\n",
              "      <td>3.143687</td>\n",
              "      <td>3.127006</td>\n",
              "      <td>6.655893</td>\n",
              "      <td>9.791599</td>\n",
              "      <td>0.0</td>\n",
              "      <td>7.450114</td>\n",
              "      <td>0.443076</td>\n",
              "      <td>0.000000</td>\n",
              "      <td>0.000000</td>\n",
              "      <td>...</td>\n",
              "      <td>5.972582</td>\n",
              "      <td>8.784144</td>\n",
              "      <td>10.066385</td>\n",
              "      <td>5.444935</td>\n",
              "      <td>9.784524</td>\n",
              "      <td>11.749802</td>\n",
              "      <td>10.191207</td>\n",
              "      <td>9.566511</td>\n",
              "      <td>5.218618</td>\n",
              "      <td>0.000000</td>\n",
              "    </tr>\n",
              "    <tr>\n",
              "      <th>75%</th>\n",
              "      <td>0.000000</td>\n",
              "      <td>3.883484</td>\n",
              "      <td>3.802534</td>\n",
              "      <td>7.038447</td>\n",
              "      <td>10.142324</td>\n",
              "      <td>0.0</td>\n",
              "      <td>8.121984</td>\n",
              "      <td>0.789354</td>\n",
              "      <td>0.000000</td>\n",
              "      <td>0.000000</td>\n",
              "      <td>...</td>\n",
              "      <td>6.411292</td>\n",
              "      <td>9.147136</td>\n",
              "      <td>10.299025</td>\n",
              "      <td>6.637412</td>\n",
              "      <td>10.082269</td>\n",
              "      <td>12.177852</td>\n",
              "      <td>10.578561</td>\n",
              "      <td>9.917888</td>\n",
              "      <td>6.876382</td>\n",
              "      <td>0.000000</td>\n",
              "    </tr>\n",
              "    <tr>\n",
              "      <th>max</th>\n",
              "      <td>1.482332</td>\n",
              "      <td>6.237034</td>\n",
              "      <td>6.063484</td>\n",
              "      <td>10.129528</td>\n",
              "      <td>11.355621</td>\n",
              "      <td>0.0</td>\n",
              "      <td>10.718190</td>\n",
              "      <td>2.779008</td>\n",
              "      <td>1.785592</td>\n",
              "      <td>4.067604</td>\n",
              "      <td>...</td>\n",
              "      <td>7.771054</td>\n",
              "      <td>11.105431</td>\n",
              "      <td>11.318243</td>\n",
              "      <td>9.207495</td>\n",
              "      <td>11.811632</td>\n",
              "      <td>13.715361</td>\n",
              "      <td>11.675653</td>\n",
              "      <td>12.813320</td>\n",
              "      <td>11.205836</td>\n",
              "      <td>5.254133</td>\n",
              "    </tr>\n",
              "  </tbody>\n",
              "</table>\n",
              "<p>8 rows × 20531 columns</p>\n",
              "</div>\n",
              "      <button class=\"colab-df-convert\" onclick=\"convertToInteractive('df-dbe679ab-8078-407a-9164-f0550c2576a8')\"\n",
              "              title=\"Convert this dataframe to an interactive table.\"\n",
              "              style=\"display:none;\">\n",
              "        \n",
              "  <svg xmlns=\"http://www.w3.org/2000/svg\" height=\"24px\"viewBox=\"0 0 24 24\"\n",
              "       width=\"24px\">\n",
              "    <path d=\"M0 0h24v24H0V0z\" fill=\"none\"/>\n",
              "    <path d=\"M18.56 5.44l.94 2.06.94-2.06 2.06-.94-2.06-.94-.94-2.06-.94 2.06-2.06.94zm-11 1L8.5 8.5l.94-2.06 2.06-.94-2.06-.94L8.5 2.5l-.94 2.06-2.06.94zm10 10l.94 2.06.94-2.06 2.06-.94-2.06-.94-.94-2.06-.94 2.06-2.06.94z\"/><path d=\"M17.41 7.96l-1.37-1.37c-.4-.4-.92-.59-1.43-.59-.52 0-1.04.2-1.43.59L10.3 9.45l-7.72 7.72c-.78.78-.78 2.05 0 2.83L4 21.41c.39.39.9.59 1.41.59.51 0 1.02-.2 1.41-.59l7.78-7.78 2.81-2.81c.8-.78.8-2.07 0-2.86zM5.41 20L4 18.59l7.72-7.72 1.47 1.35L5.41 20z\"/>\n",
              "  </svg>\n",
              "      </button>\n",
              "      \n",
              "  <style>\n",
              "    .colab-df-container {\n",
              "      display:flex;\n",
              "      flex-wrap:wrap;\n",
              "      gap: 12px;\n",
              "    }\n",
              "\n",
              "    .colab-df-convert {\n",
              "      background-color: #E8F0FE;\n",
              "      border: none;\n",
              "      border-radius: 50%;\n",
              "      cursor: pointer;\n",
              "      display: none;\n",
              "      fill: #1967D2;\n",
              "      height: 32px;\n",
              "      padding: 0 0 0 0;\n",
              "      width: 32px;\n",
              "    }\n",
              "\n",
              "    .colab-df-convert:hover {\n",
              "      background-color: #E2EBFA;\n",
              "      box-shadow: 0px 1px 2px rgba(60, 64, 67, 0.3), 0px 1px 3px 1px rgba(60, 64, 67, 0.15);\n",
              "      fill: #174EA6;\n",
              "    }\n",
              "\n",
              "    [theme=dark] .colab-df-convert {\n",
              "      background-color: #3B4455;\n",
              "      fill: #D2E3FC;\n",
              "    }\n",
              "\n",
              "    [theme=dark] .colab-df-convert:hover {\n",
              "      background-color: #434B5C;\n",
              "      box-shadow: 0px 1px 3px 1px rgba(0, 0, 0, 0.15);\n",
              "      filter: drop-shadow(0px 1px 2px rgba(0, 0, 0, 0.3));\n",
              "      fill: #FFFFFF;\n",
              "    }\n",
              "  </style>\n",
              "\n",
              "      <script>\n",
              "        const buttonEl =\n",
              "          document.querySelector('#df-dbe679ab-8078-407a-9164-f0550c2576a8 button.colab-df-convert');\n",
              "        buttonEl.style.display =\n",
              "          google.colab.kernel.accessAllowed ? 'block' : 'none';\n",
              "\n",
              "        async function convertToInteractive(key) {\n",
              "          const element = document.querySelector('#df-dbe679ab-8078-407a-9164-f0550c2576a8');\n",
              "          const dataTable =\n",
              "            await google.colab.kernel.invokeFunction('convertToInteractive',\n",
              "                                                     [key], {});\n",
              "          if (!dataTable) return;\n",
              "\n",
              "          const docLinkHtml = 'Like what you see? Visit the ' +\n",
              "            '<a target=\"_blank\" href=https://colab.research.google.com/notebooks/data_table.ipynb>data table notebook</a>'\n",
              "            + ' to learn more about interactive tables.';\n",
              "          element.innerHTML = '';\n",
              "          dataTable['output_type'] = 'display_data';\n",
              "          await google.colab.output.renderOutput(dataTable, element);\n",
              "          const docLink = document.createElement('div');\n",
              "          docLink.innerHTML = docLinkHtml;\n",
              "          element.appendChild(docLink);\n",
              "        }\n",
              "      </script>\n",
              "    </div>\n",
              "  </div>\n",
              "  "
            ],
            "text/plain": [
              "           gene_0      gene_1      gene_2      gene_3      gene_4  gene_5  \\\n",
              "count  801.000000  801.000000  801.000000  801.000000  801.000000   801.0   \n",
              "mean     0.026642    3.010909    3.095350    6.722305    9.813612     0.0   \n",
              "std      0.136850    1.200828    1.065601    0.638819    0.506537     0.0   \n",
              "min      0.000000    0.000000    0.000000    5.009284    8.435999     0.0   \n",
              "25%      0.000000    2.299039    2.390365    6.303346    9.464466     0.0   \n",
              "50%      0.000000    3.143687    3.127006    6.655893    9.791599     0.0   \n",
              "75%      0.000000    3.883484    3.802534    7.038447   10.142324     0.0   \n",
              "max      1.482332    6.237034    6.063484   10.129528   11.355621     0.0   \n",
              "\n",
              "           gene_6      gene_7      gene_8      gene_9  ...  gene_20521  \\\n",
              "count  801.000000  801.000000  801.000000  801.000000  ...  801.000000   \n",
              "mean     7.405509    0.499882    0.016744    0.013428  ...    5.896573   \n",
              "std      1.108237    0.508799    0.133635    0.204722  ...    0.746399   \n",
              "min      3.930747    0.000000    0.000000    0.000000  ...    2.853517   \n",
              "25%      6.676042    0.000000    0.000000    0.000000  ...    5.454926   \n",
              "50%      7.450114    0.443076    0.000000    0.000000  ...    5.972582   \n",
              "75%      8.121984    0.789354    0.000000    0.000000  ...    6.411292   \n",
              "max     10.718190    2.779008    1.785592    4.067604  ...    7.771054   \n",
              "\n",
              "       gene_20522  gene_20523  gene_20524  gene_20525  gene_20526  gene_20527  \\\n",
              "count  801.000000  801.000000  801.000000  801.000000  801.000000  801.000000   \n",
              "mean     8.765891   10.056252    4.847727    9.741987   11.742228   10.155271   \n",
              "std      0.603176    0.379278    2.382728    0.533898    0.670371    0.580569   \n",
              "min      6.678368    8.669456    0.000000    7.974942    9.045255    7.530141   \n",
              "25%      8.383834    9.826027    3.130750    9.400747   11.315857    9.836525   \n",
              "50%      8.784144   10.066385    5.444935    9.784524   11.749802   10.191207   \n",
              "75%      9.147136   10.299025    6.637412   10.082269   12.177852   10.578561   \n",
              "max     11.105431   11.318243    9.207495   11.811632   13.715361   11.675653   \n",
              "\n",
              "       gene_20528  gene_20529  gene_20530  \n",
              "count  801.000000  801.000000  801.000000  \n",
              "mean     9.590726    5.528177    0.095411  \n",
              "std      0.563849    2.073859    0.364529  \n",
              "min      7.864533    0.593975    0.000000  \n",
              "25%      9.244219    4.092385    0.000000  \n",
              "50%      9.566511    5.218618    0.000000  \n",
              "75%      9.917888    6.876382    0.000000  \n",
              "max     12.813320   11.205836    5.254133  \n",
              "\n",
              "[8 rows x 20531 columns]"
            ]
          },
          "execution_count": 9,
          "metadata": {},
          "output_type": "execute_result"
        }
      ],
      "source": [
        "data.describe()"
      ]
    },
    {
      "cell_type": "code",
      "execution_count": null,
      "metadata": {
        "colab": {
          "base_uri": "https://localhost:8080/"
        },
        "id": "LcNH8XeVjwIb",
        "outputId": "5f933b3b-cc89-4f5b-be48-56b9e0b482e0"
      },
      "outputs": [
        {
          "name": "stdout",
          "output_type": "stream",
          "text": [
            "<class 'pandas.core.frame.DataFrame'>\n",
            "RangeIndex: 801 entries, 0 to 800\n",
            "Columns: 20532 entries, Unnamed: 0 to gene_20530\n",
            "dtypes: float64(20531), object(1)\n",
            "memory usage: 125.5+ MB\n"
          ]
        }
      ],
      "source": [
        "data.info()"
      ]
    },
    {
      "cell_type": "code",
      "execution_count": null,
      "metadata": {
        "id": "maV96Ezq6oIH"
      },
      "outputs": [],
      "source": [
        "feature_cols=len(data.columns)"
      ]
    },
    {
      "cell_type": "code",
      "execution_count": null,
      "metadata": {
        "colab": {
          "base_uri": "https://localhost:8080/"
        },
        "id": "HXI4Lt-P9UJx",
        "outputId": "259d0a6f-3c29-4cdb-c567-69c26d19be32"
      },
      "outputs": [
        {
          "data": {
            "text/plain": [
              "(801, 20532)"
            ]
          },
          "execution_count": 12,
          "metadata": {},
          "output_type": "execute_result"
        }
      ],
      "source": [
        "data.shape"
      ]
    },
    {
      "cell_type": "code",
      "execution_count": null,
      "metadata": {
        "colab": {
          "base_uri": "https://localhost:8080/"
        },
        "id": "BD-I8YcvlX4T",
        "outputId": "404a33c1-c53f-4bb7-9935-1ea2ce44fe3b"
      },
      "outputs": [
        {
          "data": {
            "text/plain": [
              "Unnamed: 0    False\n",
              "gene_0        False\n",
              "gene_1        False\n",
              "gene_2        False\n",
              "gene_3        False\n",
              "              ...  \n",
              "gene_20526    False\n",
              "gene_20527    False\n",
              "gene_20528    False\n",
              "gene_20529    False\n",
              "gene_20530    False\n",
              "Length: 20532, dtype: bool"
            ]
          },
          "execution_count": 13,
          "metadata": {},
          "output_type": "execute_result"
        }
      ],
      "source": [
        "#check any value is null\n",
        "data.isna().any()"
      ]
    },
    {
      "cell_type": "code",
      "execution_count": null,
      "metadata": {
        "colab": {
          "base_uri": "https://localhost:8080/"
        },
        "id": "hNj6fIrCleUt",
        "outputId": "99798cdc-08b6-49de-b4bb-abd9ec1e8d2b"
      },
      "outputs": [
        {
          "data": {
            "text/plain": [
              "(801, 20532)"
            ]
          },
          "execution_count": 14,
          "metadata": {},
          "output_type": "execute_result"
        }
      ],
      "source": [
        "#Checking for duplicates and removing them\n",
        "data.drop_duplicates(inplace = True)\n",
        "data.shape"
      ]
    },
    {
      "cell_type": "code",
      "execution_count": null,
      "metadata": {
        "colab": {
          "base_uri": "https://localhost:8080/",
          "height": 206
        },
        "id": "LMJbGHlIliji",
        "outputId": "4f8e0c57-031d-4f69-be07-d4095019801a"
      },
      "outputs": [
        {
          "data": {
            "text/html": [
              "\n",
              "  <div id=\"df-91258398-7e10-461c-a342-f2cd72b775f4\">\n",
              "    <div class=\"colab-df-container\">\n",
              "      <div>\n",
              "<style scoped>\n",
              "    .dataframe tbody tr th:only-of-type {\n",
              "        vertical-align: middle;\n",
              "    }\n",
              "\n",
              "    .dataframe tbody tr th {\n",
              "        vertical-align: top;\n",
              "    }\n",
              "\n",
              "    .dataframe thead th {\n",
              "        text-align: right;\n",
              "    }\n",
              "</style>\n",
              "<table border=\"1\" class=\"dataframe\">\n",
              "  <thead>\n",
              "    <tr style=\"text-align: right;\">\n",
              "      <th></th>\n",
              "      <th>Unnamed: 0</th>\n",
              "      <th>Class</th>\n",
              "    </tr>\n",
              "  </thead>\n",
              "  <tbody>\n",
              "    <tr>\n",
              "      <th>0</th>\n",
              "      <td>sample_0</td>\n",
              "      <td>PRAD</td>\n",
              "    </tr>\n",
              "    <tr>\n",
              "      <th>1</th>\n",
              "      <td>sample_1</td>\n",
              "      <td>LUAD</td>\n",
              "    </tr>\n",
              "    <tr>\n",
              "      <th>2</th>\n",
              "      <td>sample_2</td>\n",
              "      <td>PRAD</td>\n",
              "    </tr>\n",
              "    <tr>\n",
              "      <th>3</th>\n",
              "      <td>sample_3</td>\n",
              "      <td>PRAD</td>\n",
              "    </tr>\n",
              "    <tr>\n",
              "      <th>4</th>\n",
              "      <td>sample_4</td>\n",
              "      <td>BRCA</td>\n",
              "    </tr>\n",
              "  </tbody>\n",
              "</table>\n",
              "</div>\n",
              "      <button class=\"colab-df-convert\" onclick=\"convertToInteractive('df-91258398-7e10-461c-a342-f2cd72b775f4')\"\n",
              "              title=\"Convert this dataframe to an interactive table.\"\n",
              "              style=\"display:none;\">\n",
              "        \n",
              "  <svg xmlns=\"http://www.w3.org/2000/svg\" height=\"24px\"viewBox=\"0 0 24 24\"\n",
              "       width=\"24px\">\n",
              "    <path d=\"M0 0h24v24H0V0z\" fill=\"none\"/>\n",
              "    <path d=\"M18.56 5.44l.94 2.06.94-2.06 2.06-.94-2.06-.94-.94-2.06-.94 2.06-2.06.94zm-11 1L8.5 8.5l.94-2.06 2.06-.94-2.06-.94L8.5 2.5l-.94 2.06-2.06.94zm10 10l.94 2.06.94-2.06 2.06-.94-2.06-.94-.94-2.06-.94 2.06-2.06.94z\"/><path d=\"M17.41 7.96l-1.37-1.37c-.4-.4-.92-.59-1.43-.59-.52 0-1.04.2-1.43.59L10.3 9.45l-7.72 7.72c-.78.78-.78 2.05 0 2.83L4 21.41c.39.39.9.59 1.41.59.51 0 1.02-.2 1.41-.59l7.78-7.78 2.81-2.81c.8-.78.8-2.07 0-2.86zM5.41 20L4 18.59l7.72-7.72 1.47 1.35L5.41 20z\"/>\n",
              "  </svg>\n",
              "      </button>\n",
              "      \n",
              "  <style>\n",
              "    .colab-df-container {\n",
              "      display:flex;\n",
              "      flex-wrap:wrap;\n",
              "      gap: 12px;\n",
              "    }\n",
              "\n",
              "    .colab-df-convert {\n",
              "      background-color: #E8F0FE;\n",
              "      border: none;\n",
              "      border-radius: 50%;\n",
              "      cursor: pointer;\n",
              "      display: none;\n",
              "      fill: #1967D2;\n",
              "      height: 32px;\n",
              "      padding: 0 0 0 0;\n",
              "      width: 32px;\n",
              "    }\n",
              "\n",
              "    .colab-df-convert:hover {\n",
              "      background-color: #E2EBFA;\n",
              "      box-shadow: 0px 1px 2px rgba(60, 64, 67, 0.3), 0px 1px 3px 1px rgba(60, 64, 67, 0.15);\n",
              "      fill: #174EA6;\n",
              "    }\n",
              "\n",
              "    [theme=dark] .colab-df-convert {\n",
              "      background-color: #3B4455;\n",
              "      fill: #D2E3FC;\n",
              "    }\n",
              "\n",
              "    [theme=dark] .colab-df-convert:hover {\n",
              "      background-color: #434B5C;\n",
              "      box-shadow: 0px 1px 3px 1px rgba(0, 0, 0, 0.15);\n",
              "      filter: drop-shadow(0px 1px 2px rgba(0, 0, 0, 0.3));\n",
              "      fill: #FFFFFF;\n",
              "    }\n",
              "  </style>\n",
              "\n",
              "      <script>\n",
              "        const buttonEl =\n",
              "          document.querySelector('#df-91258398-7e10-461c-a342-f2cd72b775f4 button.colab-df-convert');\n",
              "        buttonEl.style.display =\n",
              "          google.colab.kernel.accessAllowed ? 'block' : 'none';\n",
              "\n",
              "        async function convertToInteractive(key) {\n",
              "          const element = document.querySelector('#df-91258398-7e10-461c-a342-f2cd72b775f4');\n",
              "          const dataTable =\n",
              "            await google.colab.kernel.invokeFunction('convertToInteractive',\n",
              "                                                     [key], {});\n",
              "          if (!dataTable) return;\n",
              "\n",
              "          const docLinkHtml = 'Like what you see? Visit the ' +\n",
              "            '<a target=\"_blank\" href=https://colab.research.google.com/notebooks/data_table.ipynb>data table notebook</a>'\n",
              "            + ' to learn more about interactive tables.';\n",
              "          element.innerHTML = '';\n",
              "          dataTable['output_type'] = 'display_data';\n",
              "          await google.colab.output.renderOutput(dataTable, element);\n",
              "          const docLink = document.createElement('div');\n",
              "          docLink.innerHTML = docLinkHtml;\n",
              "          element.appendChild(docLink);\n",
              "        }\n",
              "      </script>\n",
              "    </div>\n",
              "  </div>\n",
              "  "
            ],
            "text/plain": [
              "  Unnamed: 0 Class\n",
              "0   sample_0  PRAD\n",
              "1   sample_1  LUAD\n",
              "2   sample_2  PRAD\n",
              "3   sample_3  PRAD\n",
              "4   sample_4  BRCA"
            ]
          },
          "execution_count": 15,
          "metadata": {},
          "output_type": "execute_result"
        }
      ],
      "source": [
        "label.head()"
      ]
    },
    {
      "cell_type": "code",
      "execution_count": null,
      "metadata": {
        "colab": {
          "base_uri": "https://localhost:8080/",
          "height": 175
        },
        "id": "xa3LFPDnlw2D",
        "outputId": "083ed902-4533-4ba9-9475-5b957d06f10a"
      },
      "outputs": [
        {
          "data": {
            "text/html": [
              "\n",
              "  <div id=\"df-a4d428cf-8b70-48f0-bb5f-e0aa6ced8b4e\">\n",
              "    <div class=\"colab-df-container\">\n",
              "      <div>\n",
              "<style scoped>\n",
              "    .dataframe tbody tr th:only-of-type {\n",
              "        vertical-align: middle;\n",
              "    }\n",
              "\n",
              "    .dataframe tbody tr th {\n",
              "        vertical-align: top;\n",
              "    }\n",
              "\n",
              "    .dataframe thead th {\n",
              "        text-align: right;\n",
              "    }\n",
              "</style>\n",
              "<table border=\"1\" class=\"dataframe\">\n",
              "  <thead>\n",
              "    <tr style=\"text-align: right;\">\n",
              "      <th></th>\n",
              "      <th>Unnamed: 0</th>\n",
              "      <th>Class</th>\n",
              "    </tr>\n",
              "  </thead>\n",
              "  <tbody>\n",
              "    <tr>\n",
              "      <th>count</th>\n",
              "      <td>801</td>\n",
              "      <td>801</td>\n",
              "    </tr>\n",
              "    <tr>\n",
              "      <th>unique</th>\n",
              "      <td>801</td>\n",
              "      <td>5</td>\n",
              "    </tr>\n",
              "    <tr>\n",
              "      <th>top</th>\n",
              "      <td>sample_0</td>\n",
              "      <td>BRCA</td>\n",
              "    </tr>\n",
              "    <tr>\n",
              "      <th>freq</th>\n",
              "      <td>1</td>\n",
              "      <td>300</td>\n",
              "    </tr>\n",
              "  </tbody>\n",
              "</table>\n",
              "</div>\n",
              "      <button class=\"colab-df-convert\" onclick=\"convertToInteractive('df-a4d428cf-8b70-48f0-bb5f-e0aa6ced8b4e')\"\n",
              "              title=\"Convert this dataframe to an interactive table.\"\n",
              "              style=\"display:none;\">\n",
              "        \n",
              "  <svg xmlns=\"http://www.w3.org/2000/svg\" height=\"24px\"viewBox=\"0 0 24 24\"\n",
              "       width=\"24px\">\n",
              "    <path d=\"M0 0h24v24H0V0z\" fill=\"none\"/>\n",
              "    <path d=\"M18.56 5.44l.94 2.06.94-2.06 2.06-.94-2.06-.94-.94-2.06-.94 2.06-2.06.94zm-11 1L8.5 8.5l.94-2.06 2.06-.94-2.06-.94L8.5 2.5l-.94 2.06-2.06.94zm10 10l.94 2.06.94-2.06 2.06-.94-2.06-.94-.94-2.06-.94 2.06-2.06.94z\"/><path d=\"M17.41 7.96l-1.37-1.37c-.4-.4-.92-.59-1.43-.59-.52 0-1.04.2-1.43.59L10.3 9.45l-7.72 7.72c-.78.78-.78 2.05 0 2.83L4 21.41c.39.39.9.59 1.41.59.51 0 1.02-.2 1.41-.59l7.78-7.78 2.81-2.81c.8-.78.8-2.07 0-2.86zM5.41 20L4 18.59l7.72-7.72 1.47 1.35L5.41 20z\"/>\n",
              "  </svg>\n",
              "      </button>\n",
              "      \n",
              "  <style>\n",
              "    .colab-df-container {\n",
              "      display:flex;\n",
              "      flex-wrap:wrap;\n",
              "      gap: 12px;\n",
              "    }\n",
              "\n",
              "    .colab-df-convert {\n",
              "      background-color: #E8F0FE;\n",
              "      border: none;\n",
              "      border-radius: 50%;\n",
              "      cursor: pointer;\n",
              "      display: none;\n",
              "      fill: #1967D2;\n",
              "      height: 32px;\n",
              "      padding: 0 0 0 0;\n",
              "      width: 32px;\n",
              "    }\n",
              "\n",
              "    .colab-df-convert:hover {\n",
              "      background-color: #E2EBFA;\n",
              "      box-shadow: 0px 1px 2px rgba(60, 64, 67, 0.3), 0px 1px 3px 1px rgba(60, 64, 67, 0.15);\n",
              "      fill: #174EA6;\n",
              "    }\n",
              "\n",
              "    [theme=dark] .colab-df-convert {\n",
              "      background-color: #3B4455;\n",
              "      fill: #D2E3FC;\n",
              "    }\n",
              "\n",
              "    [theme=dark] .colab-df-convert:hover {\n",
              "      background-color: #434B5C;\n",
              "      box-shadow: 0px 1px 3px 1px rgba(0, 0, 0, 0.15);\n",
              "      filter: drop-shadow(0px 1px 2px rgba(0, 0, 0, 0.3));\n",
              "      fill: #FFFFFF;\n",
              "    }\n",
              "  </style>\n",
              "\n",
              "      <script>\n",
              "        const buttonEl =\n",
              "          document.querySelector('#df-a4d428cf-8b70-48f0-bb5f-e0aa6ced8b4e button.colab-df-convert');\n",
              "        buttonEl.style.display =\n",
              "          google.colab.kernel.accessAllowed ? 'block' : 'none';\n",
              "\n",
              "        async function convertToInteractive(key) {\n",
              "          const element = document.querySelector('#df-a4d428cf-8b70-48f0-bb5f-e0aa6ced8b4e');\n",
              "          const dataTable =\n",
              "            await google.colab.kernel.invokeFunction('convertToInteractive',\n",
              "                                                     [key], {});\n",
              "          if (!dataTable) return;\n",
              "\n",
              "          const docLinkHtml = 'Like what you see? Visit the ' +\n",
              "            '<a target=\"_blank\" href=https://colab.research.google.com/notebooks/data_table.ipynb>data table notebook</a>'\n",
              "            + ' to learn more about interactive tables.';\n",
              "          element.innerHTML = '';\n",
              "          dataTable['output_type'] = 'display_data';\n",
              "          await google.colab.output.renderOutput(dataTable, element);\n",
              "          const docLink = document.createElement('div');\n",
              "          docLink.innerHTML = docLinkHtml;\n",
              "          element.appendChild(docLink);\n",
              "        }\n",
              "      </script>\n",
              "    </div>\n",
              "  </div>\n",
              "  "
            ],
            "text/plain": [
              "       Unnamed: 0 Class\n",
              "count         801   801\n",
              "unique        801     5\n",
              "top      sample_0  BRCA\n",
              "freq            1   300"
            ]
          },
          "execution_count": 16,
          "metadata": {},
          "output_type": "execute_result"
        }
      ],
      "source": [
        "label.describe()"
      ]
    },
    {
      "cell_type": "code",
      "execution_count": null,
      "metadata": {
        "colab": {
          "base_uri": "https://localhost:8080/"
        },
        "id": "M7kc7JZjl6VH",
        "outputId": "fb92cddb-0fe4-4907-8451-86f41317b751"
      },
      "outputs": [
        {
          "data": {
            "text/plain": [
              "0        sample_0\n",
              "1        sample_1\n",
              "2        sample_2\n",
              "3        sample_3\n",
              "4        sample_4\n",
              "          ...    \n",
              "796    sample_796\n",
              "797    sample_797\n",
              "798    sample_798\n",
              "799    sample_799\n",
              "800    sample_800\n",
              "Name: Unnamed: 0, Length: 801, dtype: object"
            ]
          },
          "execution_count": 17,
          "metadata": {},
          "output_type": "execute_result"
        }
      ],
      "source": [
        "data[\"Unnamed: 0\"]"
      ]
    },
    {
      "cell_type": "code",
      "execution_count": null,
      "metadata": {
        "colab": {
          "base_uri": "https://localhost:8080/"
        },
        "id": "EmoKyFJambHm",
        "outputId": "5c070e93-5ad1-49e8-cb01-2c7b2c0b4917"
      },
      "outputs": [
        {
          "data": {
            "text/plain": [
              "0        sample_0\n",
              "1        sample_1\n",
              "2        sample_2\n",
              "3        sample_3\n",
              "4        sample_4\n",
              "          ...    \n",
              "796    sample_796\n",
              "797    sample_797\n",
              "798    sample_798\n",
              "799    sample_799\n",
              "800    sample_800\n",
              "Name: Unnamed: 0, Length: 801, dtype: object"
            ]
          },
          "execution_count": 18,
          "metadata": {},
          "output_type": "execute_result"
        }
      ],
      "source": [
        "label['Unnamed: 0']"
      ]
    },
    {
      "cell_type": "code",
      "execution_count": null,
      "metadata": {
        "colab": {
          "base_uri": "https://localhost:8080/"
        },
        "id": "CYbvnQN3mcs8",
        "outputId": "dba9e449-0416-4f91-8a03-5a3c71fcf179"
      },
      "outputs": [
        {
          "data": {
            "text/plain": [
              "0      PRAD\n",
              "1      LUAD\n",
              "2      PRAD\n",
              "3      PRAD\n",
              "4      BRCA\n",
              "       ... \n",
              "796    BRCA\n",
              "797    LUAD\n",
              "798    COAD\n",
              "799    PRAD\n",
              "800    PRAD\n",
              "Name: Class, Length: 801, dtype: object"
            ]
          },
          "execution_count": 13,
          "metadata": {},
          "output_type": "execute_result"
        }
      ],
      "source": [
        "class_labels=label[\"Class\"]\n",
        "class_labels"
      ]
    },
    {
      "cell_type": "code",
      "execution_count": null,
      "metadata": {
        "colab": {
          "base_uri": "https://localhost:8080/"
        },
        "id": "nZ0-MJ0hmnQR",
        "outputId": "7261ab32-541a-4d64-b318-1c08a2e1a3ac"
      },
      "outputs": [
        {
          "name": "stdout",
          "output_type": "stream",
          "text": [
            "['PRAD' 'LUAD' 'BRCA' 'KIRC' 'COAD']\n",
            "BRCA    300\n",
            "KIRC    146\n",
            "LUAD    141\n",
            "PRAD    136\n",
            "COAD     78\n",
            "Name: Class, dtype: int64\n"
          ]
        }
      ],
      "source": [
        "print(class_labels.unique())\n",
        "print(class_labels.value_counts())"
      ]
    },
    {
      "cell_type": "code",
      "execution_count": null,
      "metadata": {
        "colab": {
          "base_uri": "https://localhost:8080/"
        },
        "id": "DKXVyV0cnvJE",
        "outputId": "2aed387e-0166-4bbc-e35c-b2fe1f05621e"
      },
      "outputs": [
        {
          "name": "stdout",
          "output_type": "stream",
          "text": [
            "Class:  5\n"
          ]
        }
      ],
      "source": [
        "print(\"Class: \",len(class_labels.unique()))"
      ]
    },
    {
      "cell_type": "code",
      "execution_count": null,
      "metadata": {
        "colab": {
          "base_uri": "https://localhost:8080/",
          "height": 247
        },
        "id": "vPXnZitCmqhQ",
        "outputId": "d2c9d617-9059-4acb-b6ea-fad9392c8eee"
      },
      "outputs": [
        {
          "data": {
            "text/plain": [
              "<matplotlib.axes._subplots.AxesSubplot at 0x7f1b34506950>"
            ]
          },
          "execution_count": 22,
          "metadata": {},
          "output_type": "execute_result"
        },
        {
          "data": {
            "image/png": "[encoded data removed]",
            "text/plain": [
              "<Figure size 288x216 with 1 Axes>"
            ]
          },
          "metadata": {
            "needs_background": "light"
          },
          "output_type": "display_data"
        }
      ],
      "source": [
        "class_labels.value_counts().plot(kind='bar',color=['firebrick', 'green', 'blue', 'black', 'red'], figsize=(4,3))"
      ]
    },
    {
      "cell_type": "code",
      "execution_count": null,
      "metadata": {
        "id": "zJE5Ux9DnF3B"
      },
      "outputs": [],
      "source": [
        "label = label.replace({'PRAD': 0})\n",
        "label = label.replace({'LUAD': 1})\n",
        "label = label.replace({'BRCA': 2})\n",
        "label = label.replace({'KIRC': 3})\n",
        "label = label.replace({'COAD': 4})"
      ]
    },
    {
      "cell_type": "code",
      "execution_count": null,
      "metadata": {
        "colab": {
          "base_uri": "https://localhost:8080/",
          "height": 206
        },
        "id": "qL_17I0FsZNU",
        "outputId": "6a71e818-603c-4350-8277-09da29fac247"
      },
      "outputs": [
        {
          "data": {
            "text/html": [
              "\n",
              "  <div id=\"df-1a496a95-a174-48b1-a56a-5481dc2cc6df\">\n",
              "    <div class=\"colab-df-container\">\n",
              "      <div>\n",
              "<style scoped>\n",
              "    .dataframe tbody tr th:only-of-type {\n",
              "        vertical-align: middle;\n",
              "    }\n",
              "\n",
              "    .dataframe tbody tr th {\n",
              "        vertical-align: top;\n",
              "    }\n",
              "\n",
              "    .dataframe thead th {\n",
              "        text-align: right;\n",
              "    }\n",
              "</style>\n",
              "<table border=\"1\" class=\"dataframe\">\n",
              "  <thead>\n",
              "    <tr style=\"text-align: right;\">\n",
              "      <th></th>\n",
              "      <th>Unnamed: 0</th>\n",
              "      <th>Class</th>\n",
              "    </tr>\n",
              "  </thead>\n",
              "  <tbody>\n",
              "    <tr>\n",
              "      <th>0</th>\n",
              "      <td>sample_0</td>\n",
              "      <td>0</td>\n",
              "    </tr>\n",
              "    <tr>\n",
              "      <th>1</th>\n",
              "      <td>sample_1</td>\n",
              "      <td>1</td>\n",
              "    </tr>\n",
              "    <tr>\n",
              "      <th>2</th>\n",
              "      <td>sample_2</td>\n",
              "      <td>0</td>\n",
              "    </tr>\n",
              "    <tr>\n",
              "      <th>3</th>\n",
              "      <td>sample_3</td>\n",
              "      <td>0</td>\n",
              "    </tr>\n",
              "    <tr>\n",
              "      <th>4</th>\n",
              "      <td>sample_4</td>\n",
              "      <td>2</td>\n",
              "    </tr>\n",
              "  </tbody>\n",
              "</table>\n",
              "</div>\n",
              "      <button class=\"colab-df-convert\" onclick=\"convertToInteractive('df-1a496a95-a174-48b1-a56a-5481dc2cc6df')\"\n",
              "              title=\"Convert this dataframe to an interactive table.\"\n",
              "              style=\"display:none;\">\n",
              "        \n",
              "  <svg xmlns=\"http://www.w3.org/2000/svg\" height=\"24px\"viewBox=\"0 0 24 24\"\n",
              "       width=\"24px\">\n",
              "    <path d=\"M0 0h24v24H0V0z\" fill=\"none\"/>\n",
              "    <path d=\"M18.56 5.44l.94 2.06.94-2.06 2.06-.94-2.06-.94-.94-2.06-.94 2.06-2.06.94zm-11 1L8.5 8.5l.94-2.06 2.06-.94-2.06-.94L8.5 2.5l-.94 2.06-2.06.94zm10 10l.94 2.06.94-2.06 2.06-.94-2.06-.94-.94-2.06-.94 2.06-2.06.94z\"/><path d=\"M17.41 7.96l-1.37-1.37c-.4-.4-.92-.59-1.43-.59-.52 0-1.04.2-1.43.59L10.3 9.45l-7.72 7.72c-.78.78-.78 2.05 0 2.83L4 21.41c.39.39.9.59 1.41.59.51 0 1.02-.2 1.41-.59l7.78-7.78 2.81-2.81c.8-.78.8-2.07 0-2.86zM5.41 20L4 18.59l7.72-7.72 1.47 1.35L5.41 20z\"/>\n",
              "  </svg>\n",
              "      </button>\n",
              "      \n",
              "  <style>\n",
              "    .colab-df-container {\n",
              "      display:flex;\n",
              "      flex-wrap:wrap;\n",
              "      gap: 12px;\n",
              "    }\n",
              "\n",
              "    .colab-df-convert {\n",
              "      background-color: #E8F0FE;\n",
              "      border: none;\n",
              "      border-radius: 50%;\n",
              "      cursor: pointer;\n",
              "      display: none;\n",
              "      fill: #1967D2;\n",
              "      height: 32px;\n",
              "      padding: 0 0 0 0;\n",
              "      width: 32px;\n",
              "    }\n",
              "\n",
              "    .colab-df-convert:hover {\n",
              "      background-color: #E2EBFA;\n",
              "      box-shadow: 0px 1px 2px rgba(60, 64, 67, 0.3), 0px 1px 3px 1px rgba(60, 64, 67, 0.15);\n",
              "      fill: #174EA6;\n",
              "    }\n",
              "\n",
              "    [theme=dark] .colab-df-convert {\n",
              "      background-color: #3B4455;\n",
              "      fill: #D2E3FC;\n",
              "    }\n",
              "\n",
              "    [theme=dark] .colab-df-convert:hover {\n",
              "      background-color: #434B5C;\n",
              "      box-shadow: 0px 1px 3px 1px rgba(0, 0, 0, 0.15);\n",
              "      filter: drop-shadow(0px 1px 2px rgba(0, 0, 0, 0.3));\n",
              "      fill: #FFFFFF;\n",
              "    }\n",
              "  </style>\n",
              "\n",
              "      <script>\n",
              "        const buttonEl =\n",
              "          document.querySelector('#df-1a496a95-a174-48b1-a56a-5481dc2cc6df button.colab-df-convert');\n",
              "        buttonEl.style.display =\n",
              "          google.colab.kernel.accessAllowed ? 'block' : 'none';\n",
              "\n",
              "        async function convertToInteractive(key) {\n",
              "          const element = document.querySelector('#df-1a496a95-a174-48b1-a56a-5481dc2cc6df');\n",
              "          const dataTable =\n",
              "            await google.colab.kernel.invokeFunction('convertToInteractive',\n",
              "                                                     [key], {});\n",
              "          if (!dataTable) return;\n",
              "\n",
              "          const docLinkHtml = 'Like what you see? Visit the ' +\n",
              "            '<a target=\"_blank\" href=https://colab.research.google.com/notebooks/data_table.ipynb>data table notebook</a>'\n",
              "            + ' to learn more about interactive tables.';\n",
              "          element.innerHTML = '';\n",
              "          dataTable['output_type'] = 'display_data';\n",
              "          await google.colab.output.renderOutput(dataTable, element);\n",
              "          const docLink = document.createElement('div');\n",
              "          docLink.innerHTML = docLinkHtml;\n",
              "          element.appendChild(docLink);\n",
              "        }\n",
              "      </script>\n",
              "    </div>\n",
              "  </div>\n",
              "  "
            ],
            "text/plain": [
              "  Unnamed: 0  Class\n",
              "0   sample_0      0\n",
              "1   sample_1      1\n",
              "2   sample_2      0\n",
              "3   sample_3      0\n",
              "4   sample_4      2"
            ]
          },
          "execution_count": 24,
          "metadata": {},
          "output_type": "execute_result"
        }
      ],
      "source": [
        "label.head()"
      ]
    },
    {
      "cell_type": "code",
      "execution_count": null,
      "metadata": {
        "colab": {
          "base_uri": "https://localhost:8080/",
          "height": 317
        },
        "id": "fbcnMsKWJn66",
        "outputId": "5d9bfe95-f27f-4678-f5ce-cc2be24a4352"
      },
      "outputs": [
        {
          "data": {
            "text/html": [
              "\n",
              "  <div id=\"df-96efeade-f835-4514-9734-5b9cd425a3d7\">\n",
              "    <div class=\"colab-df-container\">\n",
              "      <div>\n",
              "<style scoped>\n",
              "    .dataframe tbody tr th:only-of-type {\n",
              "        vertical-align: middle;\n",
              "    }\n",
              "\n",
              "    .dataframe tbody tr th {\n",
              "        vertical-align: top;\n",
              "    }\n",
              "\n",
              "    .dataframe thead th {\n",
              "        text-align: right;\n",
              "    }\n",
              "</style>\n",
              "<table border=\"1\" class=\"dataframe\">\n",
              "  <thead>\n",
              "    <tr style=\"text-align: right;\">\n",
              "      <th></th>\n",
              "      <th>Unnamed: 0</th>\n",
              "      <th>gene_0</th>\n",
              "      <th>gene_1</th>\n",
              "      <th>gene_2</th>\n",
              "      <th>gene_3</th>\n",
              "      <th>gene_4</th>\n",
              "      <th>gene_5</th>\n",
              "      <th>gene_6</th>\n",
              "      <th>gene_7</th>\n",
              "      <th>gene_8</th>\n",
              "      <th>...</th>\n",
              "      <th>gene_20521</th>\n",
              "      <th>gene_20522</th>\n",
              "      <th>gene_20523</th>\n",
              "      <th>gene_20524</th>\n",
              "      <th>gene_20525</th>\n",
              "      <th>gene_20526</th>\n",
              "      <th>gene_20527</th>\n",
              "      <th>gene_20528</th>\n",
              "      <th>gene_20529</th>\n",
              "      <th>gene_20530</th>\n",
              "    </tr>\n",
              "  </thead>\n",
              "  <tbody>\n",
              "    <tr>\n",
              "      <th>0</th>\n",
              "      <td>sample_0</td>\n",
              "      <td>0.0</td>\n",
              "      <td>2.017209</td>\n",
              "      <td>3.265527</td>\n",
              "      <td>5.478487</td>\n",
              "      <td>10.431999</td>\n",
              "      <td>0.0</td>\n",
              "      <td>7.175175</td>\n",
              "      <td>0.591871</td>\n",
              "      <td>0.0</td>\n",
              "      <td>...</td>\n",
              "      <td>4.926711</td>\n",
              "      <td>8.210257</td>\n",
              "      <td>9.723516</td>\n",
              "      <td>7.220030</td>\n",
              "      <td>9.119813</td>\n",
              "      <td>12.003135</td>\n",
              "      <td>9.650743</td>\n",
              "      <td>8.921326</td>\n",
              "      <td>5.286759</td>\n",
              "      <td>0.0</td>\n",
              "    </tr>\n",
              "    <tr>\n",
              "      <th>1</th>\n",
              "      <td>sample_1</td>\n",
              "      <td>0.0</td>\n",
              "      <td>0.592732</td>\n",
              "      <td>1.588421</td>\n",
              "      <td>7.586157</td>\n",
              "      <td>9.623011</td>\n",
              "      <td>0.0</td>\n",
              "      <td>6.816049</td>\n",
              "      <td>0.000000</td>\n",
              "      <td>0.0</td>\n",
              "      <td>...</td>\n",
              "      <td>4.593372</td>\n",
              "      <td>7.323865</td>\n",
              "      <td>9.740931</td>\n",
              "      <td>6.256586</td>\n",
              "      <td>8.381612</td>\n",
              "      <td>12.674552</td>\n",
              "      <td>10.517059</td>\n",
              "      <td>9.397854</td>\n",
              "      <td>2.094168</td>\n",
              "      <td>0.0</td>\n",
              "    </tr>\n",
              "    <tr>\n",
              "      <th>2</th>\n",
              "      <td>sample_2</td>\n",
              "      <td>0.0</td>\n",
              "      <td>3.511759</td>\n",
              "      <td>4.327199</td>\n",
              "      <td>6.881787</td>\n",
              "      <td>9.870730</td>\n",
              "      <td>0.0</td>\n",
              "      <td>6.972130</td>\n",
              "      <td>0.452595</td>\n",
              "      <td>0.0</td>\n",
              "      <td>...</td>\n",
              "      <td>5.125213</td>\n",
              "      <td>8.127123</td>\n",
              "      <td>10.908640</td>\n",
              "      <td>5.401607</td>\n",
              "      <td>9.911597</td>\n",
              "      <td>9.045255</td>\n",
              "      <td>9.788359</td>\n",
              "      <td>10.090470</td>\n",
              "      <td>1.683023</td>\n",
              "      <td>0.0</td>\n",
              "    </tr>\n",
              "    <tr>\n",
              "      <th>3</th>\n",
              "      <td>sample_3</td>\n",
              "      <td>0.0</td>\n",
              "      <td>3.663618</td>\n",
              "      <td>4.507649</td>\n",
              "      <td>6.659068</td>\n",
              "      <td>10.196184</td>\n",
              "      <td>0.0</td>\n",
              "      <td>7.843375</td>\n",
              "      <td>0.434882</td>\n",
              "      <td>0.0</td>\n",
              "      <td>...</td>\n",
              "      <td>6.076566</td>\n",
              "      <td>8.792959</td>\n",
              "      <td>10.141520</td>\n",
              "      <td>8.942805</td>\n",
              "      <td>9.601208</td>\n",
              "      <td>11.392682</td>\n",
              "      <td>9.694814</td>\n",
              "      <td>9.684365</td>\n",
              "      <td>3.292001</td>\n",
              "      <td>0.0</td>\n",
              "    </tr>\n",
              "    <tr>\n",
              "      <th>4</th>\n",
              "      <td>sample_4</td>\n",
              "      <td>0.0</td>\n",
              "      <td>2.655741</td>\n",
              "      <td>2.821547</td>\n",
              "      <td>6.539454</td>\n",
              "      <td>9.738265</td>\n",
              "      <td>0.0</td>\n",
              "      <td>6.566967</td>\n",
              "      <td>0.360982</td>\n",
              "      <td>0.0</td>\n",
              "      <td>...</td>\n",
              "      <td>5.996032</td>\n",
              "      <td>8.891425</td>\n",
              "      <td>10.373790</td>\n",
              "      <td>7.181162</td>\n",
              "      <td>9.846910</td>\n",
              "      <td>11.922439</td>\n",
              "      <td>9.217749</td>\n",
              "      <td>9.461191</td>\n",
              "      <td>5.110372</td>\n",
              "      <td>0.0</td>\n",
              "    </tr>\n",
              "  </tbody>\n",
              "</table>\n",
              "<p>5 rows × 20532 columns</p>\n",
              "</div>\n",
              "      <button class=\"colab-df-convert\" onclick=\"convertToInteractive('df-96efeade-f835-4514-9734-5b9cd425a3d7')\"\n",
              "              title=\"Convert this dataframe to an interactive table.\"\n",
              "              style=\"display:none;\">\n",
              "        \n",
              "  <svg xmlns=\"http://www.w3.org/2000/svg\" height=\"24px\"viewBox=\"0 0 24 24\"\n",
              "       width=\"24px\">\n",
              "    <path d=\"M0 0h24v24H0V0z\" fill=\"none\"/>\n",
              "    <path d=\"M18.56 5.44l.94 2.06.94-2.06 2.06-.94-2.06-.94-.94-2.06-.94 2.06-2.06.94zm-11 1L8.5 8.5l.94-2.06 2.06-.94-2.06-.94L8.5 2.5l-.94 2.06-2.06.94zm10 10l.94 2.06.94-2.06 2.06-.94-2.06-.94-.94-2.06-.94 2.06-2.06.94z\"/><path d=\"M17.41 7.96l-1.37-1.37c-.4-.4-.92-.59-1.43-.59-.52 0-1.04.2-1.43.59L10.3 9.45l-7.72 7.72c-.78.78-.78 2.05 0 2.83L4 21.41c.39.39.9.59 1.41.59.51 0 1.02-.2 1.41-.59l7.78-7.78 2.81-2.81c.8-.78.8-2.07 0-2.86zM5.41 20L4 18.59l7.72-7.72 1.47 1.35L5.41 20z\"/>\n",
              "  </svg>\n",
              "      </button>\n",
              "      \n",
              "  <style>\n",
              "    .colab-df-container {\n",
              "      display:flex;\n",
              "      flex-wrap:wrap;\n",
              "      gap: 12px;\n",
              "    }\n",
              "\n",
              "    .colab-df-convert {\n",
              "      background-color: #E8F0FE;\n",
              "      border: none;\n",
              "      border-radius: 50%;\n",
              "      cursor: pointer;\n",
              "      display: none;\n",
              "      fill: #1967D2;\n",
              "      height: 32px;\n",
              "      padding: 0 0 0 0;\n",
              "      width: 32px;\n",
              "    }\n",
              "\n",
              "    .colab-df-convert:hover {\n",
              "      background-color: #E2EBFA;\n",
              "      box-shadow: 0px 1px 2px rgba(60, 64, 67, 0.3), 0px 1px 3px 1px rgba(60, 64, 67, 0.15);\n",
              "      fill: #174EA6;\n",
              "    }\n",
              "\n",
              "    [theme=dark] .colab-df-convert {\n",
              "      background-color: #3B4455;\n",
              "      fill: #D2E3FC;\n",
              "    }\n",
              "\n",
              "    [theme=dark] .colab-df-convert:hover {\n",
              "      background-color: #434B5C;\n",
              "      box-shadow: 0px 1px 3px 1px rgba(0, 0, 0, 0.15);\n",
              "      filter: drop-shadow(0px 1px 2px rgba(0, 0, 0, 0.3));\n",
              "      fill: #FFFFFF;\n",
              "    }\n",
              "  </style>\n",
              "\n",
              "      <script>\n",
              "        const buttonEl =\n",
              "          document.querySelector('#df-96efeade-f835-4514-9734-5b9cd425a3d7 button.colab-df-convert');\n",
              "        buttonEl.style.display =\n",
              "          google.colab.kernel.accessAllowed ? 'block' : 'none';\n",
              "\n",
              "        async function convertToInteractive(key) {\n",
              "          const element = document.querySelector('#df-96efeade-f835-4514-9734-5b9cd425a3d7');\n",
              "          const dataTable =\n",
              "            await google.colab.kernel.invokeFunction('convertToInteractive',\n",
              "                                                     [key], {});\n",
              "          if (!dataTable) return;\n",
              "\n",
              "          const docLinkHtml = 'Like what you see? Visit the ' +\n",
              "            '<a target=\"_blank\" href=https://colab.research.google.com/notebooks/data_table.ipynb>data table notebook</a>'\n",
              "            + ' to learn more about interactive tables.';\n",
              "          element.innerHTML = '';\n",
              "          dataTable['output_type'] = 'display_data';\n",
              "          await google.colab.output.renderOutput(dataTable, element);\n",
              "          const docLink = document.createElement('div');\n",
              "          docLink.innerHTML = docLinkHtml;\n",
              "          element.appendChild(docLink);\n",
              "        }\n",
              "      </script>\n",
              "    </div>\n",
              "  </div>\n",
              "  "
            ],
            "text/plain": [
              "  Unnamed: 0  gene_0    gene_1    gene_2    gene_3     gene_4  gene_5  \\\n",
              "0   sample_0     0.0  2.017209  3.265527  5.478487  10.431999     0.0   \n",
              "1   sample_1     0.0  0.592732  1.588421  7.586157   9.623011     0.0   \n",
              "2   sample_2     0.0  3.511759  4.327199  6.881787   9.870730     0.0   \n",
              "3   sample_3     0.0  3.663618  4.507649  6.659068  10.196184     0.0   \n",
              "4   sample_4     0.0  2.655741  2.821547  6.539454   9.738265     0.0   \n",
              "\n",
              "     gene_6    gene_7  gene_8  ...  gene_20521  gene_20522  gene_20523  \\\n",
              "0  7.175175  0.591871     0.0  ...    4.926711    8.210257    9.723516   \n",
              "1  6.816049  0.000000     0.0  ...    4.593372    7.323865    9.740931   \n",
              "2  6.972130  0.452595     0.0  ...    5.125213    8.127123   10.908640   \n",
              "3  7.843375  0.434882     0.0  ...    6.076566    8.792959   10.141520   \n",
              "4  6.566967  0.360982     0.0  ...    5.996032    8.891425   10.373790   \n",
              "\n",
              "   gene_20524  gene_20525  gene_20526  gene_20527  gene_20528  gene_20529  \\\n",
              "0    7.220030    9.119813   12.003135    9.650743    8.921326    5.286759   \n",
              "1    6.256586    8.381612   12.674552   10.517059    9.397854    2.094168   \n",
              "2    5.401607    9.911597    9.045255    9.788359   10.090470    1.683023   \n",
              "3    8.942805    9.601208   11.392682    9.694814    9.684365    3.292001   \n",
              "4    7.181162    9.846910   11.922439    9.217749    9.461191    5.110372   \n",
              "\n",
              "   gene_20530  \n",
              "0         0.0  \n",
              "1         0.0  \n",
              "2         0.0  \n",
              "3         0.0  \n",
              "4         0.0  \n",
              "\n",
              "[5 rows x 20532 columns]"
            ]
          },
          "execution_count": 53,
          "metadata": {},
          "output_type": "execute_result"
        }
      ],
      "source": []
    },
    {
      "cell_type": "code",
      "execution_count": null,
      "metadata": {
        "id": "4gRpOsDIsbXs"
      },
      "outputs": [],
      "source": [
        "X=data.iloc[:,1:]\n",
        "y=label.iloc[:,1:]"
      ]
    },
    {
      "cell_type": "code",
      "execution_count": null,
      "metadata": {
        "colab": {
          "base_uri": "https://localhost:8080/",
          "height": 300
        },
        "id": "rWhknBkPuZO4",
        "outputId": "4c16fe48-720c-404b-e7c7-12838358fc1e"
      },
      "outputs": [
        {
          "data": {
            "text/html": [
              "\n",
              "  <div id=\"df-b750adf4-539d-4907-8717-7030803ea900\">\n",
              "    <div class=\"colab-df-container\">\n",
              "      <div>\n",
              "<style scoped>\n",
              "    .dataframe tbody tr th:only-of-type {\n",
              "        vertical-align: middle;\n",
              "    }\n",
              "\n",
              "    .dataframe tbody tr th {\n",
              "        vertical-align: top;\n",
              "    }\n",
              "\n",
              "    .dataframe thead th {\n",
              "        text-align: right;\n",
              "    }\n",
              "</style>\n",
              "<table border=\"1\" class=\"dataframe\">\n",
              "  <thead>\n",
              "    <tr style=\"text-align: right;\">\n",
              "      <th></th>\n",
              "      <th>gene_0</th>\n",
              "      <th>gene_1</th>\n",
              "      <th>gene_2</th>\n",
              "      <th>gene_3</th>\n",
              "      <th>gene_4</th>\n",
              "      <th>gene_5</th>\n",
              "      <th>gene_6</th>\n",
              "      <th>gene_7</th>\n",
              "      <th>gene_8</th>\n",
              "      <th>gene_9</th>\n",
              "      <th>...</th>\n",
              "      <th>gene_20521</th>\n",
              "      <th>gene_20522</th>\n",
              "      <th>gene_20523</th>\n",
              "      <th>gene_20524</th>\n",
              "      <th>gene_20525</th>\n",
              "      <th>gene_20526</th>\n",
              "      <th>gene_20527</th>\n",
              "      <th>gene_20528</th>\n",
              "      <th>gene_20529</th>\n",
              "      <th>gene_20530</th>\n",
              "    </tr>\n",
              "  </thead>\n",
              "  <tbody>\n",
              "    <tr>\n",
              "      <th>0</th>\n",
              "      <td>0.0</td>\n",
              "      <td>2.017209</td>\n",
              "      <td>3.265527</td>\n",
              "      <td>5.478487</td>\n",
              "      <td>10.431999</td>\n",
              "      <td>0.0</td>\n",
              "      <td>7.175175</td>\n",
              "      <td>0.591871</td>\n",
              "      <td>0.0</td>\n",
              "      <td>0.0</td>\n",
              "      <td>...</td>\n",
              "      <td>4.926711</td>\n",
              "      <td>8.210257</td>\n",
              "      <td>9.723516</td>\n",
              "      <td>7.220030</td>\n",
              "      <td>9.119813</td>\n",
              "      <td>12.003135</td>\n",
              "      <td>9.650743</td>\n",
              "      <td>8.921326</td>\n",
              "      <td>5.286759</td>\n",
              "      <td>0.0</td>\n",
              "    </tr>\n",
              "    <tr>\n",
              "      <th>1</th>\n",
              "      <td>0.0</td>\n",
              "      <td>0.592732</td>\n",
              "      <td>1.588421</td>\n",
              "      <td>7.586157</td>\n",
              "      <td>9.623011</td>\n",
              "      <td>0.0</td>\n",
              "      <td>6.816049</td>\n",
              "      <td>0.000000</td>\n",
              "      <td>0.0</td>\n",
              "      <td>0.0</td>\n",
              "      <td>...</td>\n",
              "      <td>4.593372</td>\n",
              "      <td>7.323865</td>\n",
              "      <td>9.740931</td>\n",
              "      <td>6.256586</td>\n",
              "      <td>8.381612</td>\n",
              "      <td>12.674552</td>\n",
              "      <td>10.517059</td>\n",
              "      <td>9.397854</td>\n",
              "      <td>2.094168</td>\n",
              "      <td>0.0</td>\n",
              "    </tr>\n",
              "    <tr>\n",
              "      <th>2</th>\n",
              "      <td>0.0</td>\n",
              "      <td>3.511759</td>\n",
              "      <td>4.327199</td>\n",
              "      <td>6.881787</td>\n",
              "      <td>9.870730</td>\n",
              "      <td>0.0</td>\n",
              "      <td>6.972130</td>\n",
              "      <td>0.452595</td>\n",
              "      <td>0.0</td>\n",
              "      <td>0.0</td>\n",
              "      <td>...</td>\n",
              "      <td>5.125213</td>\n",
              "      <td>8.127123</td>\n",
              "      <td>10.908640</td>\n",
              "      <td>5.401607</td>\n",
              "      <td>9.911597</td>\n",
              "      <td>9.045255</td>\n",
              "      <td>9.788359</td>\n",
              "      <td>10.090470</td>\n",
              "      <td>1.683023</td>\n",
              "      <td>0.0</td>\n",
              "    </tr>\n",
              "    <tr>\n",
              "      <th>3</th>\n",
              "      <td>0.0</td>\n",
              "      <td>3.663618</td>\n",
              "      <td>4.507649</td>\n",
              "      <td>6.659068</td>\n",
              "      <td>10.196184</td>\n",
              "      <td>0.0</td>\n",
              "      <td>7.843375</td>\n",
              "      <td>0.434882</td>\n",
              "      <td>0.0</td>\n",
              "      <td>0.0</td>\n",
              "      <td>...</td>\n",
              "      <td>6.076566</td>\n",
              "      <td>8.792959</td>\n",
              "      <td>10.141520</td>\n",
              "      <td>8.942805</td>\n",
              "      <td>9.601208</td>\n",
              "      <td>11.392682</td>\n",
              "      <td>9.694814</td>\n",
              "      <td>9.684365</td>\n",
              "      <td>3.292001</td>\n",
              "      <td>0.0</td>\n",
              "    </tr>\n",
              "    <tr>\n",
              "      <th>4</th>\n",
              "      <td>0.0</td>\n",
              "      <td>2.655741</td>\n",
              "      <td>2.821547</td>\n",
              "      <td>6.539454</td>\n",
              "      <td>9.738265</td>\n",
              "      <td>0.0</td>\n",
              "      <td>6.566967</td>\n",
              "      <td>0.360982</td>\n",
              "      <td>0.0</td>\n",
              "      <td>0.0</td>\n",
              "      <td>...</td>\n",
              "      <td>5.996032</td>\n",
              "      <td>8.891425</td>\n",
              "      <td>10.373790</td>\n",
              "      <td>7.181162</td>\n",
              "      <td>9.846910</td>\n",
              "      <td>11.922439</td>\n",
              "      <td>9.217749</td>\n",
              "      <td>9.461191</td>\n",
              "      <td>5.110372</td>\n",
              "      <td>0.0</td>\n",
              "    </tr>\n",
              "  </tbody>\n",
              "</table>\n",
              "<p>5 rows × 20531 columns</p>\n",
              "</div>\n",
              "      <button class=\"colab-df-convert\" onclick=\"convertToInteractive('df-b750adf4-539d-4907-8717-7030803ea900')\"\n",
              "              title=\"Convert this dataframe to an interactive table.\"\n",
              "              style=\"display:none;\">\n",
              "        \n",
              "  <svg xmlns=\"http://www.w3.org/2000/svg\" height=\"24px\"viewBox=\"0 0 24 24\"\n",
              "       width=\"24px\">\n",
              "    <path d=\"M0 0h24v24H0V0z\" fill=\"none\"/>\n",
              "    <path d=\"M18.56 5.44l.94 2.06.94-2.06 2.06-.94-2.06-.94-.94-2.06-.94 2.06-2.06.94zm-11 1L8.5 8.5l.94-2.06 2.06-.94-2.06-.94L8.5 2.5l-.94 2.06-2.06.94zm10 10l.94 2.06.94-2.06 2.06-.94-2.06-.94-.94-2.06-.94 2.06-2.06.94z\"/><path d=\"M17.41 7.96l-1.37-1.37c-.4-.4-.92-.59-1.43-.59-.52 0-1.04.2-1.43.59L10.3 9.45l-7.72 7.72c-.78.78-.78 2.05 0 2.83L4 21.41c.39.39.9.59 1.41.59.51 0 1.02-.2 1.41-.59l7.78-7.78 2.81-2.81c.8-.78.8-2.07 0-2.86zM5.41 20L4 18.59l7.72-7.72 1.47 1.35L5.41 20z\"/>\n",
              "  </svg>\n",
              "      </button>\n",
              "      \n",
              "  <style>\n",
              "    .colab-df-container {\n",
              "      display:flex;\n",
              "      flex-wrap:wrap;\n",
              "      gap: 12px;\n",
              "    }\n",
              "\n",
              "    .colab-df-convert {\n",
              "      background-color: #E8F0FE;\n",
              "      border: none;\n",
              "      border-radius: 50%;\n",
              "      cursor: pointer;\n",
              "      display: none;\n",
              "      fill: #1967D2;\n",
              "      height: 32px;\n",
              "      padding: 0 0 0 0;\n",
              "      width: 32px;\n",
              "    }\n",
              "\n",
              "    .colab-df-convert:hover {\n",
              "      background-color: #E2EBFA;\n",
              "      box-shadow: 0px 1px 2px rgba(60, 64, 67, 0.3), 0px 1px 3px 1px rgba(60, 64, 67, 0.15);\n",
              "      fill: #174EA6;\n",
              "    }\n",
              "\n",
              "    [theme=dark] .colab-df-convert {\n",
              "      background-color: #3B4455;\n",
              "      fill: #D2E3FC;\n",
              "    }\n",
              "\n",
              "    [theme=dark] .colab-df-convert:hover {\n",
              "      background-color: #434B5C;\n",
              "      box-shadow: 0px 1px 3px 1px rgba(0, 0, 0, 0.15);\n",
              "      filter: drop-shadow(0px 1px 2px rgba(0, 0, 0, 0.3));\n",
              "      fill: #FFFFFF;\n",
              "    }\n",
              "  </style>\n",
              "\n",
              "      <script>\n",
              "        const buttonEl =\n",
              "          document.querySelector('#df-b750adf4-539d-4907-8717-7030803ea900 button.colab-df-convert');\n",
              "        buttonEl.style.display =\n",
              "          google.colab.kernel.accessAllowed ? 'block' : 'none';\n",
              "\n",
              "        async function convertToInteractive(key) {\n",
              "          const element = document.querySelector('#df-b750adf4-539d-4907-8717-7030803ea900');\n",
              "          const dataTable =\n",
              "            await google.colab.kernel.invokeFunction('convertToInteractive',\n",
              "                                                     [key], {});\n",
              "          if (!dataTable) return;\n",
              "\n",
              "          const docLinkHtml = 'Like what you see? Visit the ' +\n",
              "            '<a target=\"_blank\" href=https://colab.research.google.com/notebooks/data_table.ipynb>data table notebook</a>'\n",
              "            + ' to learn more about interactive tables.';\n",
              "          element.innerHTML = '';\n",
              "          dataTable['output_type'] = 'display_data';\n",
              "          await google.colab.output.renderOutput(dataTable, element);\n",
              "          const docLink = document.createElement('div');\n",
              "          docLink.innerHTML = docLinkHtml;\n",
              "          element.appendChild(docLink);\n",
              "        }\n",
              "      </script>\n",
              "    </div>\n",
              "  </div>\n",
              "  "
            ],
            "text/plain": [
              "   gene_0    gene_1    gene_2    gene_3     gene_4  gene_5    gene_6  \\\n",
              "0     0.0  2.017209  3.265527  5.478487  10.431999     0.0  7.175175   \n",
              "1     0.0  0.592732  1.588421  7.586157   9.623011     0.0  6.816049   \n",
              "2     0.0  3.511759  4.327199  6.881787   9.870730     0.0  6.972130   \n",
              "3     0.0  3.663618  4.507649  6.659068  10.196184     0.0  7.843375   \n",
              "4     0.0  2.655741  2.821547  6.539454   9.738265     0.0  6.566967   \n",
              "\n",
              "     gene_7  gene_8  gene_9  ...  gene_20521  gene_20522  gene_20523  \\\n",
              "0  0.591871     0.0     0.0  ...    4.926711    8.210257    9.723516   \n",
              "1  0.000000     0.0     0.0  ...    4.593372    7.323865    9.740931   \n",
              "2  0.452595     0.0     0.0  ...    5.125213    8.127123   10.908640   \n",
              "3  0.434882     0.0     0.0  ...    6.076566    8.792959   10.141520   \n",
              "4  0.360982     0.0     0.0  ...    5.996032    8.891425   10.373790   \n",
              "\n",
              "   gene_20524  gene_20525  gene_20526  gene_20527  gene_20528  gene_20529  \\\n",
              "0    7.220030    9.119813   12.003135    9.650743    8.921326    5.286759   \n",
              "1    6.256586    8.381612   12.674552   10.517059    9.397854    2.094168   \n",
              "2    5.401607    9.911597    9.045255    9.788359   10.090470    1.683023   \n",
              "3    8.942805    9.601208   11.392682    9.694814    9.684365    3.292001   \n",
              "4    7.181162    9.846910   11.922439    9.217749    9.461191    5.110372   \n",
              "\n",
              "   gene_20530  \n",
              "0         0.0  \n",
              "1         0.0  \n",
              "2         0.0  \n",
              "3         0.0  \n",
              "4         0.0  \n",
              "\n",
              "[5 rows x 20531 columns]"
            ]
          },
          "execution_count": 26,
          "metadata": {},
          "output_type": "execute_result"
        }
      ],
      "source": [
        "X.head()"
      ]
    },
    {
      "cell_type": "code",
      "execution_count": null,
      "metadata": {
        "colab": {
          "base_uri": "https://localhost:8080/"
        },
        "id": "0ag1ul6Qvv7M",
        "outputId": "4973d5a2-7d84-43bf-e070-7f1fee16a5b3"
      },
      "outputs": [
        {
          "data": {
            "text/plain": [
              "(801, 20531)"
            ]
          },
          "execution_count": 27,
          "metadata": {},
          "output_type": "execute_result"
        }
      ],
      "source": [
        "X.shape"
      ]
    },
    {
      "cell_type": "code",
      "execution_count": null,
      "metadata": {
        "colab": {
          "base_uri": "https://localhost:8080/"
        },
        "id": "7v81e8JBuamb",
        "outputId": "4dcbdb50-6be7-4c88-e858-9171f42b53b1"
      },
      "outputs": [
        {
          "data": {
            "text/plain": [
              "(801, 1)"
            ]
          },
          "execution_count": 28,
          "metadata": {},
          "output_type": "execute_result"
        }
      ],
      "source": [
        "y.shape"
      ]
    },
    {
      "cell_type": "code",
      "execution_count": null,
      "metadata": {
        "colab": {
          "base_uri": "https://localhost:8080/",
          "height": 424
        },
        "id": "etPHLMnju80F",
        "outputId": "c0b71a48-f12f-4750-d3b7-a7145d839e1e"
      },
      "outputs": [
        {
          "data": {
            "text/html": [
              "\n",
              "  <div id=\"df-53f1aba6-9ead-4597-9d5d-f3452a57ab2e\">\n",
              "    <div class=\"colab-df-container\">\n",
              "      <div>\n",
              "<style scoped>\n",
              "    .dataframe tbody tr th:only-of-type {\n",
              "        vertical-align: middle;\n",
              "    }\n",
              "\n",
              "    .dataframe tbody tr th {\n",
              "        vertical-align: top;\n",
              "    }\n",
              "\n",
              "    .dataframe thead th {\n",
              "        text-align: right;\n",
              "    }\n",
              "</style>\n",
              "<table border=\"1\" class=\"dataframe\">\n",
              "  <thead>\n",
              "    <tr style=\"text-align: right;\">\n",
              "      <th></th>\n",
              "      <th>Class</th>\n",
              "    </tr>\n",
              "  </thead>\n",
              "  <tbody>\n",
              "    <tr>\n",
              "      <th>0</th>\n",
              "      <td>0</td>\n",
              "    </tr>\n",
              "    <tr>\n",
              "      <th>1</th>\n",
              "      <td>1</td>\n",
              "    </tr>\n",
              "    <tr>\n",
              "      <th>2</th>\n",
              "      <td>0</td>\n",
              "    </tr>\n",
              "    <tr>\n",
              "      <th>3</th>\n",
              "      <td>0</td>\n",
              "    </tr>\n",
              "    <tr>\n",
              "      <th>4</th>\n",
              "      <td>2</td>\n",
              "    </tr>\n",
              "    <tr>\n",
              "      <th>...</th>\n",
              "      <td>...</td>\n",
              "    </tr>\n",
              "    <tr>\n",
              "      <th>796</th>\n",
              "      <td>2</td>\n",
              "    </tr>\n",
              "    <tr>\n",
              "      <th>797</th>\n",
              "      <td>1</td>\n",
              "    </tr>\n",
              "    <tr>\n",
              "      <th>798</th>\n",
              "      <td>4</td>\n",
              "    </tr>\n",
              "    <tr>\n",
              "      <th>799</th>\n",
              "      <td>0</td>\n",
              "    </tr>\n",
              "    <tr>\n",
              "      <th>800</th>\n",
              "      <td>0</td>\n",
              "    </tr>\n",
              "  </tbody>\n",
              "</table>\n",
              "<p>801 rows × 1 columns</p>\n",
              "</div>\n",
              "      <button class=\"colab-df-convert\" onclick=\"convertToInteractive('df-53f1aba6-9ead-4597-9d5d-f3452a57ab2e')\"\n",
              "              title=\"Convert this dataframe to an interactive table.\"\n",
              "              style=\"display:none;\">\n",
              "        \n",
              "  <svg xmlns=\"http://www.w3.org/2000/svg\" height=\"24px\"viewBox=\"0 0 24 24\"\n",
              "       width=\"24px\">\n",
              "    <path d=\"M0 0h24v24H0V0z\" fill=\"none\"/>\n",
              "    <path d=\"M18.56 5.44l.94 2.06.94-2.06 2.06-.94-2.06-.94-.94-2.06-.94 2.06-2.06.94zm-11 1L8.5 8.5l.94-2.06 2.06-.94-2.06-.94L8.5 2.5l-.94 2.06-2.06.94zm10 10l.94 2.06.94-2.06 2.06-.94-2.06-.94-.94-2.06-.94 2.06-2.06.94z\"/><path d=\"M17.41 7.96l-1.37-1.37c-.4-.4-.92-.59-1.43-.59-.52 0-1.04.2-1.43.59L10.3 9.45l-7.72 7.72c-.78.78-.78 2.05 0 2.83L4 21.41c.39.39.9.59 1.41.59.51 0 1.02-.2 1.41-.59l7.78-7.78 2.81-2.81c.8-.78.8-2.07 0-2.86zM5.41 20L4 18.59l7.72-7.72 1.47 1.35L5.41 20z\"/>\n",
              "  </svg>\n",
              "      </button>\n",
              "      \n",
              "  <style>\n",
              "    .colab-df-container {\n",
              "      display:flex;\n",
              "      flex-wrap:wrap;\n",
              "      gap: 12px;\n",
              "    }\n",
              "\n",
              "    .colab-df-convert {\n",
              "      background-color: #E8F0FE;\n",
              "      border: none;\n",
              "      border-radius: 50%;\n",
              "      cursor: pointer;\n",
              "      display: none;\n",
              "      fill: #1967D2;\n",
              "      height: 32px;\n",
              "      padding: 0 0 0 0;\n",
              "      width: 32px;\n",
              "    }\n",
              "\n",
              "    .colab-df-convert:hover {\n",
              "      background-color: #E2EBFA;\n",
              "      box-shadow: 0px 1px 2px rgba(60, 64, 67, 0.3), 0px 1px 3px 1px rgba(60, 64, 67, 0.15);\n",
              "      fill: #174EA6;\n",
              "    }\n",
              "\n",
              "    [theme=dark] .colab-df-convert {\n",
              "      background-color: #3B4455;\n",
              "      fill: #D2E3FC;\n",
              "    }\n",
              "\n",
              "    [theme=dark] .colab-df-convert:hover {\n",
              "      background-color: #434B5C;\n",
              "      box-shadow: 0px 1px 3px 1px rgba(0, 0, 0, 0.15);\n",
              "      filter: drop-shadow(0px 1px 2px rgba(0, 0, 0, 0.3));\n",
              "      fill: #FFFFFF;\n",
              "    }\n",
              "  </style>\n",
              "\n",
              "      <script>\n",
              "        const buttonEl =\n",
              "          document.querySelector('#df-53f1aba6-9ead-4597-9d5d-f3452a57ab2e button.colab-df-convert');\n",
              "        buttonEl.style.display =\n",
              "          google.colab.kernel.accessAllowed ? 'block' : 'none';\n",
              "\n",
              "        async function convertToInteractive(key) {\n",
              "          const element = document.querySelector('#df-53f1aba6-9ead-4597-9d5d-f3452a57ab2e');\n",
              "          const dataTable =\n",
              "            await google.colab.kernel.invokeFunction('convertToInteractive',\n",
              "                                                     [key], {});\n",
              "          if (!dataTable) return;\n",
              "\n",
              "          const docLinkHtml = 'Like what you see? Visit the ' +\n",
              "            '<a target=\"_blank\" href=https://colab.research.google.com/notebooks/data_table.ipynb>data table notebook</a>'\n",
              "            + ' to learn more about interactive tables.';\n",
              "          element.innerHTML = '';\n",
              "          dataTable['output_type'] = 'display_data';\n",
              "          await google.colab.output.renderOutput(dataTable, element);\n",
              "          const docLink = document.createElement('div');\n",
              "          docLink.innerHTML = docLinkHtml;\n",
              "          element.appendChild(docLink);\n",
              "        }\n",
              "      </script>\n",
              "    </div>\n",
              "  </div>\n",
              "  "
            ],
            "text/plain": [
              "     Class\n",
              "0        0\n",
              "1        1\n",
              "2        0\n",
              "3        0\n",
              "4        2\n",
              "..     ...\n",
              "796      2\n",
              "797      1\n",
              "798      4\n",
              "799      0\n",
              "800      0\n",
              "\n",
              "[801 rows x 1 columns]"
            ]
          },
          "execution_count": 29,
          "metadata": {},
          "output_type": "execute_result"
        }
      ],
      "source": [
        "y"
      ]
    },
    {
      "cell_type": "code",
      "execution_count": null,
      "metadata": {
        "colab": {
          "base_uri": "https://localhost:8080/"
        },
        "id": "a2MDTFKsdozd",
        "outputId": "7c44ebc7-cf7d-4585-8421-3a3f5001102f"
      },
      "outputs": [
        {
          "data": {
            "text/plain": [
              "(801,)"
            ]
          },
          "execution_count": 30,
          "metadata": {},
          "output_type": "execute_result"
        }
      ],
      "source": [
        "class_labels.shape"
      ]
    },
    {
      "cell_type": "code",
      "execution_count": null,
      "metadata": {
        "id": "NSqeNginc93T"
      },
      "outputs": [],
      "source": [
        "dataset=pd.concat([X, class_labels], axis=1)"
      ]
    },
    {
      "cell_type": "code",
      "execution_count": null,
      "metadata": {
        "id": "0VeHnXnzeeRW"
      },
      "outputs": [],
      "source": [
        "dataset = dataset.set_index('Class').sort_index()"
      ]
    },
    {
      "cell_type": "code",
      "execution_count": null,
      "metadata": {
        "colab": {
          "base_uri": "https://localhost:8080/",
          "height": 331
        },
        "id": "U3TzTk2ydPFR",
        "outputId": "bd80678f-e664-4116-bc10-aaf6a8696453"
      },
      "outputs": [
        {
          "data": {
            "text/html": [
              "\n",
              "  <div id=\"df-5ddc9dd1-d22e-4983-95f8-969d43085b05\">\n",
              "    <div class=\"colab-df-container\">\n",
              "      <div>\n",
              "<style scoped>\n",
              "    .dataframe tbody tr th:only-of-type {\n",
              "        vertical-align: middle;\n",
              "    }\n",
              "\n",
              "    .dataframe tbody tr th {\n",
              "        vertical-align: top;\n",
              "    }\n",
              "\n",
              "    .dataframe thead th {\n",
              "        text-align: right;\n",
              "    }\n",
              "</style>\n",
              "<table border=\"1\" class=\"dataframe\">\n",
              "  <thead>\n",
              "    <tr style=\"text-align: right;\">\n",
              "      <th></th>\n",
              "      <th>gene_0</th>\n",
              "      <th>gene_1</th>\n",
              "      <th>gene_2</th>\n",
              "      <th>gene_3</th>\n",
              "      <th>gene_4</th>\n",
              "      <th>gene_5</th>\n",
              "      <th>gene_6</th>\n",
              "      <th>gene_7</th>\n",
              "      <th>gene_8</th>\n",
              "      <th>gene_9</th>\n",
              "      <th>...</th>\n",
              "      <th>gene_20521</th>\n",
              "      <th>gene_20522</th>\n",
              "      <th>gene_20523</th>\n",
              "      <th>gene_20524</th>\n",
              "      <th>gene_20525</th>\n",
              "      <th>gene_20526</th>\n",
              "      <th>gene_20527</th>\n",
              "      <th>gene_20528</th>\n",
              "      <th>gene_20529</th>\n",
              "      <th>gene_20530</th>\n",
              "    </tr>\n",
              "    <tr>\n",
              "      <th>Class</th>\n",
              "      <th></th>\n",
              "      <th></th>\n",
              "      <th></th>\n",
              "      <th></th>\n",
              "      <th></th>\n",
              "      <th></th>\n",
              "      <th></th>\n",
              "      <th></th>\n",
              "      <th></th>\n",
              "      <th></th>\n",
              "      <th></th>\n",
              "      <th></th>\n",
              "      <th></th>\n",
              "      <th></th>\n",
              "      <th></th>\n",
              "      <th></th>\n",
              "      <th></th>\n",
              "      <th></th>\n",
              "      <th></th>\n",
              "      <th></th>\n",
              "      <th></th>\n",
              "    </tr>\n",
              "  </thead>\n",
              "  <tbody>\n",
              "    <tr>\n",
              "      <th>BRCA</th>\n",
              "      <td>0.0</td>\n",
              "      <td>3.801873</td>\n",
              "      <td>5.025591</td>\n",
              "      <td>6.404150</td>\n",
              "      <td>9.564754</td>\n",
              "      <td>0.0</td>\n",
              "      <td>9.997688</td>\n",
              "      <td>1.025241</td>\n",
              "      <td>0.0</td>\n",
              "      <td>0.0</td>\n",
              "      <td>...</td>\n",
              "      <td>5.919628</td>\n",
              "      <td>8.507347</td>\n",
              "      <td>9.849333</td>\n",
              "      <td>8.184360</td>\n",
              "      <td>9.796564</td>\n",
              "      <td>11.607552</td>\n",
              "      <td>10.456272</td>\n",
              "      <td>9.949412</td>\n",
              "      <td>5.980037</td>\n",
              "      <td>0.000000</td>\n",
              "    </tr>\n",
              "    <tr>\n",
              "      <th>BRCA</th>\n",
              "      <td>0.0</td>\n",
              "      <td>3.277330</td>\n",
              "      <td>2.629846</td>\n",
              "      <td>6.000487</td>\n",
              "      <td>9.627027</td>\n",
              "      <td>0.0</td>\n",
              "      <td>8.375748</td>\n",
              "      <td>1.029559</td>\n",
              "      <td>0.0</td>\n",
              "      <td>0.0</td>\n",
              "      <td>...</td>\n",
              "      <td>6.152192</td>\n",
              "      <td>9.015499</td>\n",
              "      <td>10.244994</td>\n",
              "      <td>5.172335</td>\n",
              "      <td>9.788066</td>\n",
              "      <td>11.582057</td>\n",
              "      <td>11.098776</td>\n",
              "      <td>9.909158</td>\n",
              "      <td>5.494595</td>\n",
              "      <td>0.000000</td>\n",
              "    </tr>\n",
              "    <tr>\n",
              "      <th>BRCA</th>\n",
              "      <td>0.0</td>\n",
              "      <td>1.149975</td>\n",
              "      <td>0.462576</td>\n",
              "      <td>5.861427</td>\n",
              "      <td>10.092440</td>\n",
              "      <td>0.0</td>\n",
              "      <td>5.445833</td>\n",
              "      <td>1.045932</td>\n",
              "      <td>0.0</td>\n",
              "      <td>0.0</td>\n",
              "      <td>...</td>\n",
              "      <td>6.494526</td>\n",
              "      <td>9.549727</td>\n",
              "      <td>10.037602</td>\n",
              "      <td>6.636375</td>\n",
              "      <td>9.459339</td>\n",
              "      <td>10.109922</td>\n",
              "      <td>10.442394</td>\n",
              "      <td>9.574616</td>\n",
              "      <td>3.541862</td>\n",
              "      <td>0.000000</td>\n",
              "    </tr>\n",
              "    <tr>\n",
              "      <th>BRCA</th>\n",
              "      <td>0.0</td>\n",
              "      <td>4.538159</td>\n",
              "      <td>3.955722</td>\n",
              "      <td>6.259862</td>\n",
              "      <td>9.103243</td>\n",
              "      <td>0.0</td>\n",
              "      <td>6.918327</td>\n",
              "      <td>1.162726</td>\n",
              "      <td>0.0</td>\n",
              "      <td>0.0</td>\n",
              "      <td>...</td>\n",
              "      <td>7.102994</td>\n",
              "      <td>9.813018</td>\n",
              "      <td>10.629311</td>\n",
              "      <td>7.128757</td>\n",
              "      <td>10.409104</td>\n",
              "      <td>11.195225</td>\n",
              "      <td>11.169593</td>\n",
              "      <td>10.513451</td>\n",
              "      <td>6.729131</td>\n",
              "      <td>0.270828</td>\n",
              "    </tr>\n",
              "    <tr>\n",
              "      <th>BRCA</th>\n",
              "      <td>0.0</td>\n",
              "      <td>2.599770</td>\n",
              "      <td>2.562792</td>\n",
              "      <td>7.365491</td>\n",
              "      <td>10.462155</td>\n",
              "      <td>0.0</td>\n",
              "      <td>7.922370</td>\n",
              "      <td>0.000000</td>\n",
              "      <td>0.0</td>\n",
              "      <td>0.0</td>\n",
              "      <td>...</td>\n",
              "      <td>5.036873</td>\n",
              "      <td>8.267555</td>\n",
              "      <td>9.630254</td>\n",
              "      <td>5.531385</td>\n",
              "      <td>9.241642</td>\n",
              "      <td>11.459872</td>\n",
              "      <td>10.045882</td>\n",
              "      <td>9.091528</td>\n",
              "      <td>9.356654</td>\n",
              "      <td>0.000000</td>\n",
              "    </tr>\n",
              "  </tbody>\n",
              "</table>\n",
              "<p>5 rows × 20531 columns</p>\n",
              "</div>\n",
              "      <button class=\"colab-df-convert\" onclick=\"convertToInteractive('df-5ddc9dd1-d22e-4983-95f8-969d43085b05')\"\n",
              "              title=\"Convert this dataframe to an interactive table.\"\n",
              "              style=\"display:none;\">\n",
              "        \n",
              "  <svg xmlns=\"http://www.w3.org/2000/svg\" height=\"24px\"viewBox=\"0 0 24 24\"\n",
              "       width=\"24px\">\n",
              "    <path d=\"M0 0h24v24H0V0z\" fill=\"none\"/>\n",
              "    <path d=\"M18.56 5.44l.94 2.06.94-2.06 2.06-.94-2.06-.94-.94-2.06-.94 2.06-2.06.94zm-11 1L8.5 8.5l.94-2.06 2.06-.94-2.06-.94L8.5 2.5l-.94 2.06-2.06.94zm10 10l.94 2.06.94-2.06 2.06-.94-2.06-.94-.94-2.06-.94 2.06-2.06.94z\"/><path d=\"M17.41 7.96l-1.37-1.37c-.4-.4-.92-.59-1.43-.59-.52 0-1.04.2-1.43.59L10.3 9.45l-7.72 7.72c-.78.78-.78 2.05 0 2.83L4 21.41c.39.39.9.59 1.41.59.51 0 1.02-.2 1.41-.59l7.78-7.78 2.81-2.81c.8-.78.8-2.07 0-2.86zM5.41 20L4 18.59l7.72-7.72 1.47 1.35L5.41 20z\"/>\n",
              "  </svg>\n",
              "      </button>\n",
              "      \n",
              "  <style>\n",
              "    .colab-df-container {\n",
              "      display:flex;\n",
              "      flex-wrap:wrap;\n",
              "      gap: 12px;\n",
              "    }\n",
              "\n",
              "    .colab-df-convert {\n",
              "      background-color: #E8F0FE;\n",
              "      border: none;\n",
              "      border-radius: 50%;\n",
              "      cursor: pointer;\n",
              "      display: none;\n",
              "      fill: #1967D2;\n",
              "      height: 32px;\n",
              "      padding: 0 0 0 0;\n",
              "      width: 32px;\n",
              "    }\n",
              "\n",
              "    .colab-df-convert:hover {\n",
              "      background-color: #E2EBFA;\n",
              "      box-shadow: 0px 1px 2px rgba(60, 64, 67, 0.3), 0px 1px 3px 1px rgba(60, 64, 67, 0.15);\n",
              "      fill: #174EA6;\n",
              "    }\n",
              "\n",
              "    [theme=dark] .colab-df-convert {\n",
              "      background-color: #3B4455;\n",
              "      fill: #D2E3FC;\n",
              "    }\n",
              "\n",
              "    [theme=dark] .colab-df-convert:hover {\n",
              "      background-color: #434B5C;\n",
              "      box-shadow: 0px 1px 3px 1px rgba(0, 0, 0, 0.15);\n",
              "      filter: drop-shadow(0px 1px 2px rgba(0, 0, 0, 0.3));\n",
              "      fill: #FFFFFF;\n",
              "    }\n",
              "  </style>\n",
              "\n",
              "      <script>\n",
              "        const buttonEl =\n",
              "          document.querySelector('#df-5ddc9dd1-d22e-4983-95f8-969d43085b05 button.colab-df-convert');\n",
              "        buttonEl.style.display =\n",
              "          google.colab.kernel.accessAllowed ? 'block' : 'none';\n",
              "\n",
              "        async function convertToInteractive(key) {\n",
              "          const element = document.querySelector('#df-5ddc9dd1-d22e-4983-95f8-969d43085b05');\n",
              "          const dataTable =\n",
              "            await google.colab.kernel.invokeFunction('convertToInteractive',\n",
              "                                                     [key], {});\n",
              "          if (!dataTable) return;\n",
              "\n",
              "          const docLinkHtml = 'Like what you see? Visit the ' +\n",
              "            '<a target=\"_blank\" href=https://colab.research.google.com/notebooks/data_table.ipynb>data table notebook</a>'\n",
              "            + ' to learn more about interactive tables.';\n",
              "          element.innerHTML = '';\n",
              "          dataTable['output_type'] = 'display_data';\n",
              "          await google.colab.output.renderOutput(dataTable, element);\n",
              "          const docLink = document.createElement('div');\n",
              "          docLink.innerHTML = docLinkHtml;\n",
              "          element.appendChild(docLink);\n",
              "        }\n",
              "      </script>\n",
              "    </div>\n",
              "  </div>\n",
              "  "
            ],
            "text/plain": [
              "       gene_0    gene_1    gene_2    gene_3     gene_4  gene_5    gene_6  \\\n",
              "Class                                                                      \n",
              "BRCA      0.0  3.801873  5.025591  6.404150   9.564754     0.0  9.997688   \n",
              "BRCA      0.0  3.277330  2.629846  6.000487   9.627027     0.0  8.375748   \n",
              "BRCA      0.0  1.149975  0.462576  5.861427  10.092440     0.0  5.445833   \n",
              "BRCA      0.0  4.538159  3.955722  6.259862   9.103243     0.0  6.918327   \n",
              "BRCA      0.0  2.599770  2.562792  7.365491  10.462155     0.0  7.922370   \n",
              "\n",
              "         gene_7  gene_8  gene_9  ...  gene_20521  gene_20522  gene_20523  \\\n",
              "Class                            ...                                       \n",
              "BRCA   1.025241     0.0     0.0  ...    5.919628    8.507347    9.849333   \n",
              "BRCA   1.029559     0.0     0.0  ...    6.152192    9.015499   10.244994   \n",
              "BRCA   1.045932     0.0     0.0  ...    6.494526    9.549727   10.037602   \n",
              "BRCA   1.162726     0.0     0.0  ...    7.102994    9.813018   10.629311   \n",
              "BRCA   0.000000     0.0     0.0  ...    5.036873    8.267555    9.630254   \n",
              "\n",
              "       gene_20524  gene_20525  gene_20526  gene_20527  gene_20528  gene_20529  \\\n",
              "Class                                                                           \n",
              "BRCA     8.184360    9.796564   11.607552   10.456272    9.949412    5.980037   \n",
              "BRCA     5.172335    9.788066   11.582057   11.098776    9.909158    5.494595   \n",
              "BRCA     6.636375    9.459339   10.109922   10.442394    9.574616    3.541862   \n",
              "BRCA     7.128757   10.409104   11.195225   11.169593   10.513451    6.729131   \n",
              "BRCA     5.531385    9.241642   11.459872   10.045882    9.091528    9.356654   \n",
              "\n",
              "       gene_20530  \n",
              "Class              \n",
              "BRCA     0.000000  \n",
              "BRCA     0.000000  \n",
              "BRCA     0.000000  \n",
              "BRCA     0.270828  \n",
              "BRCA     0.000000  \n",
              "\n",
              "[5 rows x 20531 columns]"
            ]
          },
          "execution_count": 33,
          "metadata": {},
          "output_type": "execute_result"
        }
      ],
      "source": [
        "dataset.head()"
      ]
    },
    {
      "cell_type": "code",
      "execution_count": null,
      "metadata": {
        "colab": {
          "base_uri": "https://localhost:8080/"
        },
        "id": "O2qkdJ5teV29",
        "outputId": "e80041c3-af85-455f-b6cc-f7b13c2697bb"
      },
      "outputs": [
        {
          "data": {
            "text/plain": [
              "(801, 20531)"
            ]
          },
          "execution_count": 34,
          "metadata": {},
          "output_type": "execute_result"
        }
      ],
      "source": [
        "dataset.shape"
      ]
    },
    {
      "cell_type": "code",
      "execution_count": null,
      "metadata": {
        "colab": {
          "base_uri": "https://localhost:8080/"
        },
        "id": "g8O3DGWVHesY",
        "outputId": "afda1cac-cea7-4426-ecfe-24aee4a1c82c"
      },
      "outputs": [
        {
          "data": {
            "text/plain": [
              "Index(['gene_0', 'gene_1', 'gene_2', 'gene_3', 'gene_4', 'gene_5', 'gene_6',\n",
              "       'gene_7', 'gene_8', 'gene_9',\n",
              "       ...\n",
              "       'gene_20521', 'gene_20522', 'gene_20523', 'gene_20524', 'gene_20525',\n",
              "       'gene_20526', 'gene_20527', 'gene_20528', 'gene_20529', 'gene_20530'],\n",
              "      dtype='object', length=20531)"
            ]
          },
          "execution_count": 35,
          "metadata": {},
          "output_type": "execute_result"
        }
      ],
      "source": [
        "dataset.columns"
      ]
    },
    {
      "cell_type": "code",
      "execution_count": null,
      "metadata": {
        "colab": {
          "base_uri": "https://localhost:8080/"
        },
        "id": "XSGXdom4HrFA",
        "outputId": "1c6f0f23-a282-4cdc-855a-778fd26b4fd8"
      },
      "outputs": [
        {
          "data": {
            "text/plain": [
              "20531"
            ]
          },
          "execution_count": 36,
          "metadata": {},
          "output_type": "execute_result"
        }
      ],
      "source": [
        "len(dataset.columns)"
      ]
    },
    {
      "cell_type": "code",
      "execution_count": null,
      "metadata": {
        "id": "COvGKuZOHj9P"
      },
      "outputs": [],
      "source": [
        "dt=dataset"
      ]
    },
    {
      "cell_type": "code",
      "execution_count": null,
      "metadata": {
        "id": "XtNVsYxYHw77"
      },
      "outputs": [],
      "source": [
        "missing=[]\n",
        "for i in range(len(dataset.columns)):\n",
        "    if((dt['gene_'+str(i)]==0).all()):\n",
        "        missing.append(i)"
      ]
    },
    {
      "cell_type": "code",
      "execution_count": null,
      "metadata": {
        "colab": {
          "base_uri": "https://localhost:8080/"
        },
        "id": "bMmxaAlrIWgw",
        "outputId": "7654a090-0af6-4635-9eec-5817b32a5f30"
      },
      "outputs": [
        {
          "name": "stdout",
          "output_type": "stream",
          "text": [
            "267\n"
          ]
        }
      ],
      "source": [
        "print(len(missing))"
      ]
    },
    {
      "cell_type": "code",
      "execution_count": null,
      "metadata": {
        "colab": {
          "base_uri": "https://localhost:8080/"
        },
        "id": "8QA7za7RIaHq",
        "outputId": "e7d92e28-efc6-4f0a-cf5a-653df3405c2c"
      },
      "outputs": [
        {
          "name": "stdout",
          "output_type": "stream",
          "text": [
            "5 23 4370 4808 4809 4814 4816 4817 4831 5288 7661 7662 7663 7664 7665 8121 9304 9306 9314 9316 9320 9452 10121 11958 13991 14158 14159 14161 15138 15140 15141 15446 16566 16568 16569 16571 16575 16578 16579 16604 16634 16637 16677 16697 16698 16699 16700 16701 16702 16704 16705 16706 16707 16708 16709 16710 16711 16712 16713 16714 16715 16716 16717 16718 16719 16720 16721 16722 16723 16724 16725 16726 16727 16728 16729 16730 16731 16732 16733 16734 16735 16736 16737 16738 16739 16740 16741 16742 16743 16744 16745 16746 16748 16749 16750 16751 16752 16753 16754 16756 16757 16758 16759 16760 16761 16762 16763 16764 16765 16766 16767 16768 16769 16770 16771 16772 16774 16775 16776 16777 16778 16779 16780 16781 16782 16783 16785 16787 16788 16789 16790 16791 16792 16794 16795 16796 16798 16799 16800 16801 16802 16803 16804 16805 16806 16807 16808 16809 16810 16811 16812 16813 16816 16818 16819 16820 16821 16822 16823 16824 16826 16827 16830 16831 16832 16833 16834 16835 16836 16837 16838 16839 16840 16841 16842 16843 16844 16845 16846 16847 16848 16849 16850 16851 16852 16853 16854 16855 16856 16857 16858 16859 16860 16861 16862 16863 16864 16865 16866 16867 16868 16869 16870 16871 16872 16873 16874 16875 16876 16877 16878 16879 16880 16881 16882 16883 16884 16885 16886 16888 16889 16890 16891 16892 16893 16894 16895 16896 16897 16898 16899 16900 16901 16902 16903 16904 16905 16906 16907 16908 16909 16910 16911 16914 16915 16916 16917 16918 16920 16921 16922 16924 16925 16926 18829 18902 18903 18908 18909 18910 18911 18914 18915 19450 19451 19452 19671 "
          ]
        }
      ],
      "source": [
        "for i in range(len(missing)):\n",
        "    print(missing[i],end=' ')"
      ]
    },
    {
      "cell_type": "code",
      "execution_count": null,
      "metadata": {
        "id": "0t12CbEpIgtW"
      },
      "outputs": [],
      "source": [
        "for i in range(len(missing)):\n",
        "    X=X.drop(['gene_'+str(missing[i])], axis = 1)"
      ]
    },
    {
      "cell_type": "code",
      "execution_count": null,
      "metadata": {
        "colab": {
          "base_uri": "https://localhost:8080/"
        },
        "id": "4a9k9xuLIxYW",
        "outputId": "c775675f-6762-497b-d569-e92edf2feaab"
      },
      "outputs": [
        {
          "data": {
            "text/plain": [
              "(801, 20264)"
            ]
          },
          "execution_count": 57,
          "metadata": {},
          "output_type": "execute_result"
        }
      ],
      "source": [
        "X.shape"
      ]
    },
    {
      "cell_type": "code",
      "execution_count": null,
      "metadata": {
        "colab": {
          "base_uri": "https://localhost:8080/",
          "height": 237
        },
        "id": "XL-He5kSI02E",
        "outputId": "96475e55-766e-4160-8720-262ef97ab09c"
      },
      "outputs": [
        {
          "data": {
            "text/html": [
              "\n",
              "  <div id=\"df-4e539224-697e-4c73-a42a-2a64cebc152d\">\n",
              "    <div class=\"colab-df-container\">\n",
              "      <div>\n",
              "<style scoped>\n",
              "    .dataframe tbody tr th:only-of-type {\n",
              "        vertical-align: middle;\n",
              "    }\n",
              "\n",
              "    .dataframe tbody tr th {\n",
              "        vertical-align: top;\n",
              "    }\n",
              "\n",
              "    .dataframe thead th {\n",
              "        text-align: right;\n",
              "    }\n",
              "</style>\n",
              "<table border=\"1\" class=\"dataframe\">\n",
              "  <thead>\n",
              "    <tr style=\"text-align: right;\">\n",
              "      <th></th>\n",
              "      <th>gene_0</th>\n",
              "      <th>gene_1</th>\n",
              "      <th>gene_2</th>\n",
              "      <th>gene_3</th>\n",
              "      <th>gene_4</th>\n",
              "      <th>gene_6</th>\n",
              "      <th>gene_7</th>\n",
              "      <th>gene_8</th>\n",
              "      <th>gene_9</th>\n",
              "      <th>gene_10</th>\n",
              "      <th>...</th>\n",
              "      <th>gene_20521</th>\n",
              "      <th>gene_20522</th>\n",
              "      <th>gene_20523</th>\n",
              "      <th>gene_20524</th>\n",
              "      <th>gene_20525</th>\n",
              "      <th>gene_20526</th>\n",
              "      <th>gene_20527</th>\n",
              "      <th>gene_20528</th>\n",
              "      <th>gene_20529</th>\n",
              "      <th>gene_20530</th>\n",
              "    </tr>\n",
              "  </thead>\n",
              "  <tbody>\n",
              "    <tr>\n",
              "      <th>0</th>\n",
              "      <td>0.0</td>\n",
              "      <td>2.017209</td>\n",
              "      <td>3.265527</td>\n",
              "      <td>5.478487</td>\n",
              "      <td>10.431999</td>\n",
              "      <td>7.175175</td>\n",
              "      <td>0.591871</td>\n",
              "      <td>0.0</td>\n",
              "      <td>0.0</td>\n",
              "      <td>0.591871</td>\n",
              "      <td>...</td>\n",
              "      <td>4.926711</td>\n",
              "      <td>8.210257</td>\n",
              "      <td>9.723516</td>\n",
              "      <td>7.220030</td>\n",
              "      <td>9.119813</td>\n",
              "      <td>12.003135</td>\n",
              "      <td>9.650743</td>\n",
              "      <td>8.921326</td>\n",
              "      <td>5.286759</td>\n",
              "      <td>0.0</td>\n",
              "    </tr>\n",
              "    <tr>\n",
              "      <th>1</th>\n",
              "      <td>0.0</td>\n",
              "      <td>0.592732</td>\n",
              "      <td>1.588421</td>\n",
              "      <td>7.586157</td>\n",
              "      <td>9.623011</td>\n",
              "      <td>6.816049</td>\n",
              "      <td>0.000000</td>\n",
              "      <td>0.0</td>\n",
              "      <td>0.0</td>\n",
              "      <td>0.000000</td>\n",
              "      <td>...</td>\n",
              "      <td>4.593372</td>\n",
              "      <td>7.323865</td>\n",
              "      <td>9.740931</td>\n",
              "      <td>6.256586</td>\n",
              "      <td>8.381612</td>\n",
              "      <td>12.674552</td>\n",
              "      <td>10.517059</td>\n",
              "      <td>9.397854</td>\n",
              "      <td>2.094168</td>\n",
              "      <td>0.0</td>\n",
              "    </tr>\n",
              "    <tr>\n",
              "      <th>2</th>\n",
              "      <td>0.0</td>\n",
              "      <td>3.511759</td>\n",
              "      <td>4.327199</td>\n",
              "      <td>6.881787</td>\n",
              "      <td>9.870730</td>\n",
              "      <td>6.972130</td>\n",
              "      <td>0.452595</td>\n",
              "      <td>0.0</td>\n",
              "      <td>0.0</td>\n",
              "      <td>0.000000</td>\n",
              "      <td>...</td>\n",
              "      <td>5.125213</td>\n",
              "      <td>8.127123</td>\n",
              "      <td>10.908640</td>\n",
              "      <td>5.401607</td>\n",
              "      <td>9.911597</td>\n",
              "      <td>9.045255</td>\n",
              "      <td>9.788359</td>\n",
              "      <td>10.090470</td>\n",
              "      <td>1.683023</td>\n",
              "      <td>0.0</td>\n",
              "    </tr>\n",
              "  </tbody>\n",
              "</table>\n",
              "<p>3 rows × 20264 columns</p>\n",
              "</div>\n",
              "      <button class=\"colab-df-convert\" onclick=\"convertToInteractive('df-4e539224-697e-4c73-a42a-2a64cebc152d')\"\n",
              "              title=\"Convert this dataframe to an interactive table.\"\n",
              "              style=\"display:none;\">\n",
              "        \n",
              "  <svg xmlns=\"http://www.w3.org/2000/svg\" height=\"24px\"viewBox=\"0 0 24 24\"\n",
              "       width=\"24px\">\n",
              "    <path d=\"M0 0h24v24H0V0z\" fill=\"none\"/>\n",
              "    <path d=\"M18.56 5.44l.94 2.06.94-2.06 2.06-.94-2.06-.94-.94-2.06-.94 2.06-2.06.94zm-11 1L8.5 8.5l.94-2.06 2.06-.94-2.06-.94L8.5 2.5l-.94 2.06-2.06.94zm10 10l.94 2.06.94-2.06 2.06-.94-2.06-.94-.94-2.06-.94 2.06-2.06.94z\"/><path d=\"M17.41 7.96l-1.37-1.37c-.4-.4-.92-.59-1.43-.59-.52 0-1.04.2-1.43.59L10.3 9.45l-7.72 7.72c-.78.78-.78 2.05 0 2.83L4 21.41c.39.39.9.59 1.41.59.51 0 1.02-.2 1.41-.59l7.78-7.78 2.81-2.81c.8-.78.8-2.07 0-2.86zM5.41 20L4 18.59l7.72-7.72 1.47 1.35L5.41 20z\"/>\n",
              "  </svg>\n",
              "      </button>\n",
              "      \n",
              "  <style>\n",
              "    .colab-df-container {\n",
              "      display:flex;\n",
              "      flex-wrap:wrap;\n",
              "      gap: 12px;\n",
              "    }\n",
              "\n",
              "    .colab-df-convert {\n",
              "      background-color: #E8F0FE;\n",
              "      border: none;\n",
              "      border-radius: 50%;\n",
              "      cursor: pointer;\n",
              "      display: none;\n",
              "      fill: #1967D2;\n",
              "      height: 32px;\n",
              "      padding: 0 0 0 0;\n",
              "      width: 32px;\n",
              "    }\n",
              "\n",
              "    .colab-df-convert:hover {\n",
              "      background-color: #E2EBFA;\n",
              "      box-shadow: 0px 1px 2px rgba(60, 64, 67, 0.3), 0px 1px 3px 1px rgba(60, 64, 67, 0.15);\n",
              "      fill: #174EA6;\n",
              "    }\n",
              "\n",
              "    [theme=dark] .colab-df-convert {\n",
              "      background-color: #3B4455;\n",
              "      fill: #D2E3FC;\n",
              "    }\n",
              "\n",
              "    [theme=dark] .colab-df-convert:hover {\n",
              "      background-color: #434B5C;\n",
              "      box-shadow: 0px 1px 3px 1px rgba(0, 0, 0, 0.15);\n",
              "      filter: drop-shadow(0px 1px 2px rgba(0, 0, 0, 0.3));\n",
              "      fill: #FFFFFF;\n",
              "    }\n",
              "  </style>\n",
              "\n",
              "      <script>\n",
              "        const buttonEl =\n",
              "          document.querySelector('#df-4e539224-697e-4c73-a42a-2a64cebc152d button.colab-df-convert');\n",
              "        buttonEl.style.display =\n",
              "          google.colab.kernel.accessAllowed ? 'block' : 'none';\n",
              "\n",
              "        async function convertToInteractive(key) {\n",
              "          const element = document.querySelector('#df-4e539224-697e-4c73-a42a-2a64cebc152d');\n",
              "          const dataTable =\n",
              "            await google.colab.kernel.invokeFunction('convertToInteractive',\n",
              "                                                     [key], {});\n",
              "          if (!dataTable) return;\n",
              "\n",
              "          const docLinkHtml = 'Like what you see? Visit the ' +\n",
              "            '<a target=\"_blank\" href=https://colab.research.google.com/notebooks/data_table.ipynb>data table notebook</a>'\n",
              "            + ' to learn more about interactive tables.';\n",
              "          element.innerHTML = '';\n",
              "          dataTable['output_type'] = 'display_data';\n",
              "          await google.colab.output.renderOutput(dataTable, element);\n",
              "          const docLink = document.createElement('div');\n",
              "          docLink.innerHTML = docLinkHtml;\n",
              "          element.appendChild(docLink);\n",
              "        }\n",
              "      </script>\n",
              "    </div>\n",
              "  </div>\n",
              "  "
            ],
            "text/plain": [
              "   gene_0    gene_1    gene_2    gene_3     gene_4    gene_6    gene_7  \\\n",
              "0     0.0  2.017209  3.265527  5.478487  10.431999  7.175175  0.591871   \n",
              "1     0.0  0.592732  1.588421  7.586157   9.623011  6.816049  0.000000   \n",
              "2     0.0  3.511759  4.327199  6.881787   9.870730  6.972130  0.452595   \n",
              "\n",
              "   gene_8  gene_9   gene_10  ...  gene_20521  gene_20522  gene_20523  \\\n",
              "0     0.0     0.0  0.591871  ...    4.926711    8.210257    9.723516   \n",
              "1     0.0     0.0  0.000000  ...    4.593372    7.323865    9.740931   \n",
              "2     0.0     0.0  0.000000  ...    5.125213    8.127123   10.908640   \n",
              "\n",
              "   gene_20524  gene_20525  gene_20526  gene_20527  gene_20528  gene_20529  \\\n",
              "0    7.220030    9.119813   12.003135    9.650743    8.921326    5.286759   \n",
              "1    6.256586    8.381612   12.674552   10.517059    9.397854    2.094168   \n",
              "2    5.401607    9.911597    9.045255    9.788359   10.090470    1.683023   \n",
              "\n",
              "   gene_20530  \n",
              "0         0.0  \n",
              "1         0.0  \n",
              "2         0.0  \n",
              "\n",
              "[3 rows x 20264 columns]"
            ]
          },
          "execution_count": 58,
          "metadata": {},
          "output_type": "execute_result"
        }
      ],
      "source": [
        "X.head(3)"
      ]
    },
    {
      "cell_type": "code",
      "execution_count": null,
      "metadata": {
        "id": "qrlpBGaILmHW"
      },
      "outputs": [],
      "source": []
    },
    {
      "cell_type": "code",
      "execution_count": null,
      "metadata": {
        "id": "DxhTm2E8g3IW"
      },
      "outputs": [],
      "source": [
        "X=pd.DataFrame(X).to_numpy()\n",
        "y=pd.DataFrame(y).to_numpy()"
      ]
    },
    {
      "cell_type": "code",
      "execution_count": null,
      "metadata": {
        "id": "qn22sPXeWVnE"
      },
      "outputs": [],
      "source": [
        "target=y"
      ]
    },
    {
      "cell_type": "code",
      "execution_count": null,
      "metadata": {
        "id": "wGhbTlWIc0Yw"
      },
      "outputs": [],
      "source": [
        "from sklearn.preprocessing import LabelEncoder, OneHotEncoder\n",
        "label_encoder = LabelEncoder()\n",
        "integer_encoded = label_encoder.fit_transform(target)\n",
        "onehot_encoder = OneHotEncoder(sparse=False,categories='auto')\n",
        "integer_encoded = integer_encoded.reshape(len(integer_encoded), 1)\n",
        "target_encoded = onehot_encoder.fit_transform(integer_encoded)"
      ]
    },
    {
      "cell_type": "code",
      "execution_count": null,
      "metadata": {
        "colab": {
          "base_uri": "https://localhost:8080/"
        },
        "id": "Xi1mYcYMRrRw",
        "outputId": "fbf49db2-2334-4a84-cee9-5e046b296866"
      },
      "outputs": [
        {
          "data": {
            "text/plain": [
              "array([1., 0., 0., 0., 0.])"
            ]
          },
          "execution_count": 62,
          "metadata": {},
          "output_type": "execute_result"
        }
      ],
      "source": [
        "target_encoded[0]"
      ]
    },
    {
      "cell_type": "code",
      "execution_count": null,
      "metadata": {
        "id": "xziaSgBerj5U"
      },
      "outputs": [],
      "source": [
        "X_train,X_test,y_train,y_test=train_test_split(X,target_encoded,test_size=0.20,random_state=42,shuffle=True)"
      ]
    },
    {
      "cell_type": "code",
      "execution_count": null,
      "metadata": {
        "id": "BA42MfuWHZ8T"
      },
      "outputs": [],
      "source": [
        "from sklearn.preprocessing import StandardScaler\n",
        "sc=StandardScaler()\n",
        "X_train=sc.fit_transform(X_train)\n",
        "X_test=sc.transform(X_test)"
      ]
    },
    {
      "cell_type": "code",
      "execution_count": null,
      "metadata": {
        "colab": {
          "base_uri": "https://localhost:8080/"
        },
        "id": "QAav3aGir4le",
        "outputId": "9c2caeec-c777-4ac3-d211-dd3b45caf324"
      },
      "outputs": [
        {
          "data": {
            "text/plain": [
              "array([[-0.18260929,  1.90922841,  0.55666368, ...,  2.56930826,\n",
              "        -0.08594483, -0.26295175]])"
            ]
          },
          "execution_count": 65,
          "metadata": {},
          "output_type": "execute_result"
        }
      ],
      "source": [
        "X_train[[0]]"
      ]
    },
    {
      "cell_type": "code",
      "execution_count": null,
      "metadata": {
        "colab": {
          "base_uri": "https://localhost:8080/"
        },
        "id": "5htYOwVlKZ7T",
        "outputId": "36fc9e24-e446-4976-a3d0-8a5940a98e28"
      },
      "outputs": [
        {
          "data": {
            "text/plain": [
              "(1, 20264)"
            ]
          },
          "execution_count": 66,
          "metadata": {},
          "output_type": "execute_result"
        }
      ],
      "source": [
        "X_train[[0]].shape"
      ]
    },
    {
      "cell_type": "code",
      "execution_count": null,
      "metadata": {
        "colab": {
          "base_uri": "https://localhost:8080/"
        },
        "id": "r_XTeCfyr764",
        "outputId": "0f0250a2-1115-435f-90d3-11b3ab5fad51"
      },
      "outputs": [
        {
          "data": {
            "text/plain": [
              "array([[0., 0., 1., 0., 0.]])"
            ]
          },
          "execution_count": 67,
          "metadata": {},
          "output_type": "execute_result"
        }
      ],
      "source": [
        "y_train[[0]]"
      ]
    },
    {
      "cell_type": "code",
      "execution_count": null,
      "metadata": {
        "colab": {
          "base_uri": "https://localhost:8080/"
        },
        "id": "Vjdz8P06KiNx",
        "outputId": "a45f368e-77ae-4367-c503-3aaff1c2aecd"
      },
      "outputs": [
        {
          "data": {
            "text/plain": [
              "array([2])"
            ]
          },
          "execution_count": 70,
          "metadata": {},
          "output_type": "execute_result"
        }
      ],
      "source": [
        "y_train[[0]].argmax(axis=1)"
      ]
    },
    {
      "cell_type": "code",
      "execution_count": null,
      "metadata": {
        "id": "GBa_VbqUv9qG"
      },
      "outputs": [],
      "source": [
        "savePath='/content/drive/MyDrive/Thesis_Data_CSE4000/model/'"
      ]
    },
    {
      "cell_type": "markdown",
      "metadata": {
        "id": "KM4z9RB6wKsN"
      },
      "source": [
        "## Create a ANN Model"
      ]
    },
    {
      "cell_type": "code",
      "execution_count": null,
      "metadata": {
        "id": "zcK1m3HrwJ4m"
      },
      "outputs": [],
      "source": [
        "# Implement callback function to stop training\n",
        "# when accuracy reaches ACCURACY_THRESHOLD\n",
        "ACCURACY_THRESHOLD = 0.9998\n",
        "class myCallback(tf.keras.callbacks.Callback):\n",
        "    def on_epoch_end(self, epochs, logs={}) :\n",
        "        if(logs.get('accuracy') >= ACCURACY_THRESHOLD) :\n",
        "            print(\"\\nReached %2.2f%% accuracy, so stopping training!!\" %(ACCURACY_THRESHOLD*100))\n",
        "            self.model.stop_training = True\n",
        "\n",
        "callbacks = myCallback()"
      ]
    },
    {
      "cell_type": "code",
      "execution_count": null,
      "metadata": {
        "id": "k1GaF_OVwJox"
      },
      "outputs": [],
      "source": [
        "def ann_model():\n",
        "    current_features=20264\n",
        "    optimizer = tf.keras.optimizers.Adam(0.00001)\n",
        "    model =tf.keras.Sequential()\n",
        "    model.add(tf.keras.layers.Dense(8,activation='relu',input_shape=(current_features,)))\n",
        "    model.add(tf.keras.layers.Dense(16,activation='relu'))\n",
        "    model.add(tf.keras.layers.Dense(32,activation='relu'))\n",
        "    model.add(tf.keras.layers.Dense(5,activation='softmax'))\n",
        "    model.compile(loss='categorical_crossentropy',optimizer=optimizer,metrics=['accuracy'])\n",
        "    model.summary()\n",
        "    return model"
      ]
    },
    {
      "cell_type": "code",
      "execution_count": null,
      "metadata": {
        "colab": {
          "base_uri": "https://localhost:8080/"
        },
        "id": "0bAkOJuxMFQ5",
        "outputId": "764628d5-62db-4887-9de6-d8d4ae554e81"
      },
      "outputs": [
        {
          "name": "stdout",
          "output_type": "stream",
          "text": [
            "Model: \"sequential_1\"\n",
            "_________________________________________________________________\n",
            " Layer (type)                Output Shape              Param #   \n",
            "=================================================================\n",
            " dense_4 (Dense)             (None, 8)                 162120    \n",
            "                                                                 \n",
            " dense_5 (Dense)             (None, 16)                144       \n",
            "                                                                 \n",
            " dense_6 (Dense)             (None, 32)                544       \n",
            "                                                                 \n",
            " dense_7 (Dense)             (None, 5)                 165       \n",
            "                                                                 \n",
            "=================================================================\n",
            "Total params: 162,973\n",
            "Trainable params: 162,973\n",
            "Non-trainable params: 0\n",
            "_________________________________________________________________\n"
          ]
        }
      ],
      "source": [
        "model_ann = ann_model()"
      ]
    },
    {
      "cell_type": "code",
      "execution_count": null,
      "metadata": {
        "colab": {
          "base_uri": "https://localhost:8080/"
        },
        "id": "-w2ViYJDRFkS",
        "outputId": "755d6b8e-b04b-4e85-bf8a-087b916be81b"
      },
      "outputs": [
        {
          "name": "stdout",
          "output_type": "stream",
          "text": [
            "Epoch 1/100\n",
            "64/64 [==============================] - 1s 7ms/step - loss: 1.4559 - accuracy: 0.3574 - val_loss: 1.2522 - val_accuracy: 0.6250\n",
            "Epoch 2/100\n",
            "64/64 [==============================] - 0s 5ms/step - loss: 1.1434 - accuracy: 0.7012 - val_loss: 0.9834 - val_accuracy: 0.7891\n",
            "Epoch 3/100\n",
            "64/64 [==============================] - 0s 4ms/step - loss: 0.9290 - accuracy: 0.7715 - val_loss: 0.8080 - val_accuracy: 0.8125\n",
            "Epoch 4/100\n",
            "64/64 [==============================] - 0s 4ms/step - loss: 0.7827 - accuracy: 0.7871 - val_loss: 0.6902 - val_accuracy: 0.8125\n",
            "Epoch 5/100\n",
            "64/64 [==============================] - 0s 5ms/step - loss: 0.6778 - accuracy: 0.7891 - val_loss: 0.6052 - val_accuracy: 0.8203\n",
            "Epoch 6/100\n",
            "64/64 [==============================] - 0s 4ms/step - loss: 0.5974 - accuracy: 0.8008 - val_loss: 0.5372 - val_accuracy: 0.8281\n",
            "Epoch 7/100\n",
            "64/64 [==============================] - 0s 5ms/step - loss: 0.5319 - accuracy: 0.8125 - val_loss: 0.4849 - val_accuracy: 0.8281\n",
            "Epoch 8/100\n",
            "64/64 [==============================] - 0s 4ms/step - loss: 0.4823 - accuracy: 0.8223 - val_loss: 0.4427 - val_accuracy: 0.8438\n",
            "Epoch 9/100\n",
            "64/64 [==============================] - 0s 5ms/step - loss: 0.4428 - accuracy: 0.8281 - val_loss: 0.4087 - val_accuracy: 0.8438\n",
            "Epoch 10/100\n",
            "64/64 [==============================] - 0s 5ms/step - loss: 0.4119 - accuracy: 0.8320 - val_loss: 0.3819 - val_accuracy: 0.8438\n",
            "Epoch 11/100\n",
            "64/64 [==============================] - 0s 4ms/step - loss: 0.3871 - accuracy: 0.8281 - val_loss: 0.3600 - val_accuracy: 0.8516\n",
            "Epoch 12/100\n",
            "64/64 [==============================] - 0s 4ms/step - loss: 0.3667 - accuracy: 0.8281 - val_loss: 0.3416 - val_accuracy: 0.8516\n",
            "Epoch 13/100\n",
            "64/64 [==============================] - 0s 4ms/step - loss: 0.3493 - accuracy: 0.8262 - val_loss: 0.3263 - val_accuracy: 0.8516\n",
            "Epoch 14/100\n",
            "64/64 [==============================] - 0s 4ms/step - loss: 0.3343 - accuracy: 0.8262 - val_loss: 0.3127 - val_accuracy: 0.8516\n",
            "Epoch 15/100\n",
            "64/64 [==============================] - 0s 4ms/step - loss: 0.3208 - accuracy: 0.8262 - val_loss: 0.3003 - val_accuracy: 0.8516\n",
            "Epoch 16/100\n",
            "64/64 [==============================] - 0s 4ms/step - loss: 0.3080 - accuracy: 0.8242 - val_loss: 0.2889 - val_accuracy: 0.8516\n",
            "Epoch 17/100\n",
            "64/64 [==============================] - 0s 5ms/step - loss: 0.2956 - accuracy: 0.8242 - val_loss: 0.2777 - val_accuracy: 0.8516\n",
            "Epoch 18/100\n",
            "64/64 [==============================] - 0s 4ms/step - loss: 0.2833 - accuracy: 0.8242 - val_loss: 0.2669 - val_accuracy: 0.8516\n",
            "Epoch 19/100\n",
            "64/64 [==============================] - 0s 5ms/step - loss: 0.2704 - accuracy: 0.8281 - val_loss: 0.2559 - val_accuracy: 0.8516\n",
            "Epoch 20/100\n",
            "64/64 [==============================] - 0s 5ms/step - loss: 0.2560 - accuracy: 0.8340 - val_loss: 0.2437 - val_accuracy: 0.8594\n",
            "Epoch 21/100\n",
            "64/64 [==============================] - 0s 5ms/step - loss: 0.2409 - accuracy: 0.8457 - val_loss: 0.2316 - val_accuracy: 0.8672\n",
            "Epoch 22/100\n",
            "64/64 [==============================] - 0s 5ms/step - loss: 0.2249 - accuracy: 0.8555 - val_loss: 0.2182 - val_accuracy: 0.8906\n",
            "Epoch 23/100\n",
            "64/64 [==============================] - 0s 5ms/step - loss: 0.2082 - accuracy: 0.9102 - val_loss: 0.2044 - val_accuracy: 0.9766\n",
            "Epoch 24/100\n",
            "64/64 [==============================] - 0s 5ms/step - loss: 0.1906 - accuracy: 0.9766 - val_loss: 0.1887 - val_accuracy: 0.9766\n",
            "Epoch 25/100\n",
            "64/64 [==============================] - 0s 4ms/step - loss: 0.1725 - accuracy: 0.9844 - val_loss: 0.1741 - val_accuracy: 0.9766\n",
            "Epoch 26/100\n",
            "64/64 [==============================] - 0s 4ms/step - loss: 0.1538 - accuracy: 0.9883 - val_loss: 0.1584 - val_accuracy: 0.9766\n",
            "Epoch 27/100\n",
            "64/64 [==============================] - 0s 5ms/step - loss: 0.1359 - accuracy: 0.9883 - val_loss: 0.1441 - val_accuracy: 0.9844\n",
            "Epoch 28/100\n",
            "64/64 [==============================] - 0s 4ms/step - loss: 0.1189 - accuracy: 0.9883 - val_loss: 0.1321 - val_accuracy: 0.9922\n",
            "Epoch 29/100\n",
            "64/64 [==============================] - 0s 5ms/step - loss: 0.1044 - accuracy: 0.9883 - val_loss: 0.1202 - val_accuracy: 0.9922\n",
            "Epoch 30/100\n",
            "64/64 [==============================] - 0s 4ms/step - loss: 0.0916 - accuracy: 0.9883 - val_loss: 0.1094 - val_accuracy: 0.9922\n",
            "Epoch 31/100\n",
            "64/64 [==============================] - 0s 5ms/step - loss: 0.0802 - accuracy: 0.9883 - val_loss: 0.1005 - val_accuracy: 0.9922\n",
            "Epoch 32/100\n",
            "64/64 [==============================] - 0s 5ms/step - loss: 0.0714 - accuracy: 0.9883 - val_loss: 0.0923 - val_accuracy: 0.9922\n",
            "Epoch 33/100\n",
            "64/64 [==============================] - 0s 4ms/step - loss: 0.0631 - accuracy: 0.9941 - val_loss: 0.0859 - val_accuracy: 0.9922\n",
            "Epoch 34/100\n",
            "64/64 [==============================] - 0s 5ms/step - loss: 0.0568 - accuracy: 0.9922 - val_loss: 0.0810 - val_accuracy: 0.9922\n",
            "Epoch 35/100\n",
            "64/64 [==============================] - 0s 4ms/step - loss: 0.0516 - accuracy: 0.9922 - val_loss: 0.0757 - val_accuracy: 1.0000\n",
            "Epoch 36/100\n",
            "64/64 [==============================] - 0s 4ms/step - loss: 0.0471 - accuracy: 0.9941 - val_loss: 0.0717 - val_accuracy: 0.9922\n",
            "Epoch 37/100\n",
            "64/64 [==============================] - 0s 4ms/step - loss: 0.0443 - accuracy: 0.9922 - val_loss: 0.0684 - val_accuracy: 1.0000\n",
            "Epoch 38/100\n",
            "64/64 [==============================] - 0s 5ms/step - loss: 0.0407 - accuracy: 0.9941 - val_loss: 0.0652 - val_accuracy: 0.9922\n",
            "Epoch 39/100\n",
            "64/64 [==============================] - 0s 5ms/step - loss: 0.0380 - accuracy: 0.9922 - val_loss: 0.0638 - val_accuracy: 0.9922\n",
            "Epoch 40/100\n",
            "64/64 [==============================] - 0s 4ms/step - loss: 0.0354 - accuracy: 0.9961 - val_loss: 0.0618 - val_accuracy: 0.9922\n",
            "Epoch 41/100\n",
            "64/64 [==============================] - 0s 4ms/step - loss: 0.0333 - accuracy: 0.9941 - val_loss: 0.0604 - val_accuracy: 0.9922\n",
            "Epoch 42/100\n",
            "64/64 [==============================] - 0s 5ms/step - loss: 0.0312 - accuracy: 0.9980 - val_loss: 0.0581 - val_accuracy: 0.9922\n",
            "Epoch 43/100\n",
            "64/64 [==============================] - 0s 4ms/step - loss: 0.0296 - accuracy: 0.9961 - val_loss: 0.0571 - val_accuracy: 0.9922\n",
            "Epoch 44/100\n",
            "64/64 [==============================] - 0s 4ms/step - loss: 0.0280 - accuracy: 0.9961 - val_loss: 0.0555 - val_accuracy: 0.9844\n",
            "Epoch 45/100\n",
            "64/64 [==============================] - 0s 5ms/step - loss: 0.0267 - accuracy: 0.9961 - val_loss: 0.0545 - val_accuracy: 0.9844\n",
            "Epoch 46/100\n",
            "64/64 [==============================] - 0s 4ms/step - loss: 0.0258 - accuracy: 0.9980 - val_loss: 0.0534 - val_accuracy: 0.9844\n",
            "Epoch 47/100\n",
            "64/64 [==============================] - 0s 5ms/step - loss: 0.0245 - accuracy: 0.9980 - val_loss: 0.0536 - val_accuracy: 0.9844\n",
            "Epoch 48/100\n",
            "64/64 [==============================] - 0s 5ms/step - loss: 0.0235 - accuracy: 0.9980 - val_loss: 0.0505 - val_accuracy: 0.9844\n",
            "Epoch 49/100\n",
            "64/64 [==============================] - 0s 4ms/step - loss: 0.0226 - accuracy: 0.9961 - val_loss: 0.0523 - val_accuracy: 0.9844\n",
            "Epoch 50/100\n",
            "64/64 [==============================] - 0s 5ms/step - loss: 0.0217 - accuracy: 0.9980 - val_loss: 0.0492 - val_accuracy: 0.9844\n",
            "Epoch 51/100\n",
            "64/64 [==============================] - 0s 4ms/step - loss: 0.0210 - accuracy: 0.9980 - val_loss: 0.0506 - val_accuracy: 0.9844\n",
            "Epoch 52/100\n",
            "57/64 [=========================>....] - ETA: 0s - loss: 0.0215 - accuracy: 1.0000\n",
            "Reached 99.98% accuracy, so stopping training!!\n",
            "64/64 [==============================] - 0s 4ms/step - loss: 0.0200 - accuracy: 1.0000 - val_loss: 0.0496 - val_accuracy: 0.9844\n"
          ]
        }
      ],
      "source": [
        "history_ann = model_ann.fit(X_train,y_train,epochs=100,batch_size=8,validation_split=0.2,callbacks=[callbacks])"
      ]
    },
    {
      "cell_type": "code",
      "execution_count": null,
      "metadata": {
        "id": "eZ8R-8WrTIYe"
      },
      "outputs": [],
      "source": [
        "def plot(history):\n",
        "    acc = history.history['accuracy']\n",
        "    val_acc = history.history['val_accuracy']\n",
        "\n",
        "    epochs = range(len(acc))\n",
        "    plt.figure(figsize=(7,7))\n",
        "    plt.plot(epochs,acc,'b')\n",
        "    plt.plot(epochs,val_acc,'r')\n",
        "    plt.title('Model Accuracy')\n",
        "    plt.ylabel('Accuracy')\n",
        "    plt.xlabel('Epoch')\n",
        "    plt.savefig(path+'modelAcc.png')\n",
        "    plt.legend(['Train', 'Val'], loc='upper left')\n",
        "\n",
        "\n",
        "    plt.figure(figsize=(7,7))\n",
        "    loss = history.history['loss']\n",
        "    val_loss = history.history['val_loss']\n",
        "    plt.plot(epochs,loss,'b')\n",
        "    plt.plot(epochs,val_loss,'r')\n",
        "    plt.title('Model Loss')\n",
        "    plt.ylabel('Loss')\n",
        "    plt.xlabel('Epoch')\n",
        "    plt.savefig(path+'modelLoss.png')\n",
        "    plt.legend(['Train', 'Val'], loc='upper right')\n",
        "\n",
        "    plt.show()"
      ]
    },
    {
      "cell_type": "code",
      "execution_count": null,
      "metadata": {
        "colab": {
          "base_uri": "https://localhost:8080/",
          "height": 899
        },
        "id": "TkDZiXL3eeNf",
        "outputId": "b93b7ffb-1480-45d9-99d1-e18c4c4f3583"
      },
      "outputs": [
        {
          "data": {
            "image/png": "[encoded data removed]",
            "text/plain": [
              "<Figure size 504x504 with 1 Axes>"
            ]
          },
          "metadata": {
            "needs_background": "light"
          },
          "output_type": "display_data"
        },
        {
          "data": {
            "image/png": "[encoded data removed]",
            "text/plain": [
              "<Figure size 504x504 with 1 Axes>"
            ]
          },
          "metadata": {
            "needs_background": "light"
          },
          "output_type": "display_data"
        }
      ],
      "source": [
        "plot(history_ann)"
      ]
    },
    {
      "cell_type": "code",
      "execution_count": null,
      "metadata": {
        "id": "3BbJl5NgNy2T"
      },
      "outputs": [],
      "source": [
        "model_ann.save(savePath+'test_model.h5')"
      ]
    },
    {
      "cell_type": "code",
      "execution_count": null,
      "metadata": {
        "colab": {
          "base_uri": "https://localhost:8080/"
        },
        "id": "GMJ9MWDTjE7y",
        "outputId": "a40fa014-038c-4dd0-b93a-7d382f4948fd"
      },
      "outputs": [
        {
          "name": "stdout",
          "output_type": "stream",
          "text": [
            "ann_model.h5\n"
          ]
        }
      ],
      "source": [
        "!ls '/content/drive/MyDrive/Thesis_Data_CSE4000/model'"
      ]
    },
    {
      "cell_type": "code",
      "execution_count": null,
      "metadata": {
        "id": "QHgf5xRDOjXc"
      },
      "outputs": [],
      "source": [
        "## load model\n",
        "from keras.models import load_model\n",
        "model_ann_load = load_model(savePath+'test_model.h5')"
      ]
    },
    {
      "cell_type": "markdown",
      "metadata": {
        "id": "Eaw95lHALFNz"
      },
      "source": [
        "### Model evaluation"
      ]
    },
    {
      "cell_type": "code",
      "execution_count": null,
      "metadata": {
        "colab": {
          "base_uri": "https://localhost:8080/"
        },
        "id": "JzaJdVPlylv0",
        "outputId": "56fb754e-5059-43e5-d4e7-aef8ecabd9bf"
      },
      "outputs": [
        {
          "name": "stdout",
          "output_type": "stream",
          "text": [
            "6/6 [==============================] - 1s 11ms/step - loss: 0.0300 - accuracy: 0.9876\n",
            "accuracy: 98.76%\n"
          ]
        }
      ],
      "source": [
        "score=model_ann.evaluate(X_test,y_test)\n",
        "ann_acc=score[1]*100\n",
        "print(\"%s: %.2f%%\" % (model_ann.metrics_names[1], ann_acc))"
      ]
    },
    {
      "cell_type": "code",
      "execution_count": null,
      "metadata": {
        "colab": {
          "base_uri": "https://localhost:8080/"
        },
        "id": "p7Aq9_Gtykue",
        "outputId": "8d689b36-38ba-475f-f855-0bdcbfeaa404"
      },
      "outputs": [
        {
          "name": "stdout",
          "output_type": "stream",
          "text": [
            "Confusion matrix:  [[29  0  0  0  0]\n",
            " [ 0 27  0  0  2]\n",
            " [ 0  0 61  0  0]\n",
            " [ 0  0  0 25  0]\n",
            " [ 0  0  0  0 17]]\n"
          ]
        }
      ],
      "source": [
        "#Making the confusing Matrix\n",
        "y_pred=model_ann.predict(X_test)\n",
        "from sklearn.metrics import confusion_matrix\n",
        "cm_ann=confusion_matrix(y_test.argmax(axis=1), y_pred.argmax(axis=1))\n",
        "print(\"Confusion matrix: \",cm_ann)"
      ]
    },
    {
      "cell_type": "code",
      "execution_count": null,
      "metadata": {
        "colab": {
          "base_uri": "https://localhost:8080/",
          "height": 266
        },
        "id": "qeUxEYWW1f_F",
        "outputId": "b9ab6946-48d9-45a1-dff0-a46f5672a834"
      },
      "outputs": [
        {
          "data": {
            "image/png": "[encoded data removed]",
            "text/plain": [
              "<Figure size 432x288 with 2 Axes>"
            ]
          },
          "metadata": {
            "needs_background": "light"
          },
          "output_type": "display_data"
        }
      ],
      "source": [
        "sns.heatmap(cm_ann,annot=True)\n",
        "plt.savefig(savePath+'ANN_CM.png')"
      ]
    },
    {
      "cell_type": "code",
      "execution_count": null,
      "metadata": {
        "id": "WwekXLe9NmjW"
      },
      "outputs": [],
      "source": [
        "# Creating a dataframe for a array-formatted Confusion matrix,so it will be easy for plotting.\n",
        "cmAnn_df = pd.DataFrame(cm_ann,index = ['PRAD', 'LUAD' ,'BRCA' ,'KIRC' ,'COAD'], columns = ['PRAD', 'LUAD', 'BRCA' ,'KIRC' ,'COAD'])"
      ]
    },
    {
      "cell_type": "code",
      "execution_count": null,
      "metadata": {
        "colab": {
          "base_uri": "https://localhost:8080/",
          "height": 295
        },
        "id": "j_E1efrUO5ip",
        "outputId": "94a0e221-fb9c-4a70-963b-49373d68b20c"
      },
      "outputs": [
        {
          "data": {
            "image/png": "[encoded data removed]",
            "text/plain": [
              "<Figure size 360x288 with 2 Axes>"
            ]
          },
          "metadata": {
            "needs_background": "light"
          },
          "output_type": "display_data"
        }
      ],
      "source": [
        "#Plotting the confusion matrix\n",
        "plt.figure(figsize=(5,4))\n",
        "sns.heatmap(cmAnn_df, annot=True)\n",
        "plt.savefig(path+'annh.png')\n",
        "plt.title('ANN Confusion Matrix')\n",
        "plt.ylabel('Actal Values')\n",
        "plt.xlabel('Predicted Values')\n",
        "plt.show()"
      ]
    },
    {
      "cell_type": "code",
      "execution_count": null,
      "metadata": {
        "colab": {
          "base_uri": "https://localhost:8080/"
        },
        "id": "rSw8OZm7IdC_",
        "outputId": "89111e63-8e23-460b-cca7-7fa5f8a196b2"
      },
      "outputs": [
        {
          "name": "stdout",
          "output_type": "stream",
          "text": [
            "ANN               precision    recall  f1-score   support\n",
            "\n",
            "           0       1.00      1.00      1.00        29\n",
            "           1       1.00      0.93      0.96        29\n",
            "           2       1.00      1.00      1.00        61\n",
            "           3       1.00      1.00      1.00        25\n",
            "           4       0.89      1.00      0.94        17\n",
            "\n",
            "    accuracy                           0.99       161\n",
            "   macro avg       0.98      0.99      0.98       161\n",
            "weighted avg       0.99      0.99      0.99       161\n",
            "\n"
          ]
        }
      ],
      "source": [
        "ann_metrics = metrics.classification_report( y_test.argmax(axis=1), y_pred.argmax(axis=1))\n",
        "print('ANN',ann_metrics)"
      ]
    },
    {
      "cell_type": "markdown",
      "metadata": {
        "id": "R0dY9_s7OzMc"
      },
      "source": [
        "#### Testing on Data"
      ]
    },
    {
      "cell_type": "code",
      "execution_count": null,
      "metadata": {
        "colab": {
          "base_uri": "https://localhost:8080/"
        },
        "id": "HfKjS1k_PbRD",
        "outputId": "60395467-ed12-4905-cd78-60ac505e0f9e"
      },
      "outputs": [
        {
          "data": {
            "text/plain": [
              "(161, 20264)"
            ]
          },
          "execution_count": 107,
          "metadata": {},
          "output_type": "execute_result"
        }
      ],
      "source": [
        "X_test.shape"
      ]
    },
    {
      "cell_type": "code",
      "execution_count": null,
      "metadata": {
        "colab": {
          "base_uri": "https://localhost:8080/"
        },
        "id": "Vaalx9nQPHun",
        "outputId": "446259b8-b602-4ebd-9dbf-04dfac39a38b"
      },
      "outputs": [
        {
          "data": {
            "text/plain": [
              "(1, 20264)"
            ]
          },
          "execution_count": 103,
          "metadata": {},
          "output_type": "execute_result"
        }
      ],
      "source": [
        "X_test[[0]].shape"
      ]
    },
    {
      "cell_type": "code",
      "execution_count": null,
      "metadata": {
        "colab": {
          "base_uri": "https://localhost:8080/"
        },
        "id": "uVz2PvD-Oyxl",
        "outputId": "d190b18f-a9a2-453c-aa11-ae23fe3f5daa"
      },
      "outputs": [
        {
          "name": "stdout",
          "output_type": "stream",
          "text": [
            "1 2 1 3 2 2 2 4 0 1 4 2 1 0 3 1 1 0 2 1 1 4 3 2 2 2 4 2 0 0 2 0 0 4 2 2 1 2 1 2 4 2 2 2 3 0 3 4 2 2 0 1 3 2 3 2 3 2 4 1 1 3 0 2 0 2 1 0 3 2 2 1 2 2 2 1 0 0 3 2 3 2 2 3 1 2 2 0 4 4 4 3 2 2 2 0 1 4 4 2 2 2 2 1 2 3 2 3 2 2 0 3 0 2 1 0 2 1 1 0 3 3 2 1 1 0 2 2 1 2 2 2 0 3 4 2 0 4 0 2 2 3 0 1 0 4 3 2 0 3 2 0 2 3 3 4 0 4 1 2 4 "
          ]
        }
      ],
      "source": [
        "for i in range(X_test.shape[0]):\n",
        "  y_pred1=model_ann.predict(X_test[[i]])\n",
        "  print(y_pred1.argmax(axis=1)[0],end=' ')"
      ]
    },
    {
      "cell_type": "code",
      "execution_count": null,
      "metadata": {
        "colab": {
          "base_uri": "https://localhost:8080/"
        },
        "id": "L9h9iEilPsat",
        "outputId": "9ce2203a-25d4-492f-db6c-274e97fa27ef"
      },
      "outputs": [
        {
          "name": "stdout",
          "output_type": "stream",
          "text": [
            "1 2 1 3 2 2 2 4 0 1 4 2 1 0 3 1 1 0 2 1 1 4 3 2 2 2 4 2 0 0 2 0 0 4 2 2 1 2 1 2 4 2 2 2 3 0 3 4 2 2 0 1 3 2 3 2 3 2 1 1 1 3 0 2 0 2 1 0 3 2 2 1 2 2 2 1 0 0 3 2 3 2 2 3 1 2 2 0 4 4 4 3 2 2 2 0 1 4 4 2 2 2 2 1 2 3 2 3 2 2 0 3 0 2 1 0 2 1 1 0 3 3 2 1 1 0 2 2 1 2 2 2 0 3 4 2 0 1 0 2 2 3 0 1 0 4 3 2 0 3 2 0 2 3 3 4 0 4 1 2 4 "
          ]
        }
      ],
      "source": [
        "for i in range(y_test.shape[0]):\n",
        "  print(y_test[[i]].argmax(axis=1)[0],end=' ')"
      ]
    },
    {
      "cell_type": "code",
      "execution_count": null,
      "metadata": {
        "colab": {
          "base_uri": "https://localhost:8080/"
        },
        "id": "VQxqUyuIQ1Ue",
        "outputId": "c868b535-164b-4137-d0a2-93262aca40d7"
      },
      "outputs": [
        {
          "name": "stdout",
          "output_type": "stream",
          "text": [
            "no\n",
            "no\n"
          ]
        }
      ],
      "source": [
        "for i in range(X_test.shape[0]):\n",
        "  y_pred1=model_ann.predict(X_test[[i]])\n",
        "  val1=y_pred1.argmax(axis=1)[0]\n",
        "  val2=y_test[[i]].argmax(axis=1)[0]\n",
        "  if(val1!=val2):\n",
        "    print(\"no\")\n",
        "  # print(y_pred1.argmax(axis=1)[0],end=' ')"
      ]
    },
    {
      "cell_type": "code",
      "execution_count": null,
      "metadata": {
        "colab": {
          "base_uri": "https://localhost:8080/"
        },
        "id": "FwCYOVxzOttZ",
        "outputId": "0b6ef409-fae9-4457-86b6-03d77f9930dd"
      },
      "outputs": [
        {
          "data": {
            "text/plain": [
              "array([1])"
            ]
          },
          "execution_count": 106,
          "metadata": {},
          "output_type": "execute_result"
        }
      ],
      "source": [
        "y_test[[0]].argmax(axis=1)"
      ]
    },
    {
      "cell_type": "markdown",
      "metadata": {
        "id": "jRxaz51JyRMT"
      },
      "source": [
        "## SVM"
      ]
    },
    {
      "cell_type": "code",
      "execution_count": null,
      "metadata": {
        "id": "yOrwLBLiyPXQ"
      },
      "outputs": [],
      "source": [
        "#We use Support Vector classifier as a classifier\n",
        "from sklearn.svm import SVC"
      ]
    },
    {
      "cell_type": "code",
      "execution_count": null,
      "metadata": {
        "id": "IcHaGcPor2xs"
      },
      "outputs": [],
      "source": [
        "X_trn,X_tst,y_trn,y_tst=train_test_split(X,y,test_size=0.20,random_state=42,shuffle=True)"
      ]
    },
    {
      "cell_type": "code",
      "execution_count": null,
      "metadata": {
        "id": "tQkAausurw6A"
      },
      "outputs": [],
      "source": [
        "from sklearn.preprocessing import StandardScaler\n",
        "sc=StandardScaler()\n",
        "X_trn=sc.fit_transform(X_trn)\n",
        "X_tst=sc.transform(X_tst)"
      ]
    },
    {
      "cell_type": "code",
      "execution_count": null,
      "metadata": {
        "colab": {
          "base_uri": "https://localhost:8080/"
        },
        "id": "Awz83xvKQT5L",
        "outputId": "eb72374c-1148-4dd9-8a2e-b98264256037"
      },
      "outputs": [
        {
          "name": "stdout",
          "output_type": "stream",
          "text": [
            "train score:  1.0\n",
            "test Score :  0.9937888198757764\n"
          ]
        }
      ],
      "source": [
        "#training the classifier using X_Train and y_train\n",
        "svm_model = SVC(C= 1.2, kernel='rbf', gamma='scale')\n",
        "svm_model.fit(X_trn, y_trn)\n",
        "\n",
        "# check the accuracy on the training set\n",
        "print(\"train score: \",svm_model.score(X_trn, y_trn))\n",
        "print(\"test Score : \",svm_model.score(X_tst, y_tst))"
      ]
    },
    {
      "cell_type": "code",
      "execution_count": null,
      "metadata": {
        "colab": {
          "base_uri": "https://localhost:8080/"
        },
        "id": "d7QZKs9oKVDp",
        "outputId": "ecb41140-72ce-4687-f38b-92f0b7c13b40"
      },
      "outputs": [
        {
          "name": "stdout",
          "output_type": "stream",
          "text": [
            "Confusion matrix:  [[28  0  1  0  0]\n",
            " [ 0 29  0  0  0]\n",
            " [ 0  0 61  0  0]\n",
            " [ 0  0  0 25  0]\n",
            " [ 0  0  0  0 17]]\n"
          ]
        }
      ],
      "source": [
        "#Making the confusing Matrix\n",
        "y_pred=svm_model.predict(X_tst)\n",
        "cm_svm=confusion_matrix(y_tst, y_pred)\n",
        "print(\"Confusion matrix: \",cm_svm)"
      ]
    },
    {
      "cell_type": "code",
      "execution_count": null,
      "metadata": {
        "id": "ZG2x3nDGh-tn"
      },
      "outputs": [],
      "source": [
        "# Creating a dataframe for a array-formatted Confusion matrix,so it will be easy for plotting.\n",
        "cmSvm_df = pd.DataFrame(cm_svm,index = ['PRAD', 'LUAD' ,'BRCA' ,'KIRC' ,'COAD'], columns = ['PRAD', 'LUAD', 'BRCA' ,'KIRC' ,'COAD'])"
      ]
    },
    {
      "cell_type": "code",
      "execution_count": null,
      "metadata": {
        "colab": {
          "base_uri": "https://localhost:8080/",
          "height": 295
        },
        "id": "doPEuZg3MupI",
        "outputId": "8898fce0-f17d-46dd-b9d5-0b9ee014db80"
      },
      "outputs": [
        {
          "data": {
            "image/png": "[encoded data removed]",
            "text/plain": [
              "<Figure size 360x288 with 2 Axes>"
            ]
          },
          "metadata": {
            "needs_background": "light"
          },
          "output_type": "display_data"
        }
      ],
      "source": [
        "#Plotting the confusion matrix\n",
        "plt.figure(figsize=(5,4))\n",
        "sns.heatmap(cmSvm_df, annot=True)\n",
        "plt.savefig(savePath+'svm_CM.png')\n",
        "plt.title('SVM Confusion Matrix')\n",
        "plt.ylabel('Actual Values')\n",
        "plt.xlabel('Predicted Values')\n",
        "plt.show()"
      ]
    },
    {
      "cell_type": "code",
      "execution_count": null,
      "metadata": {
        "colab": {
          "base_uri": "https://localhost:8080/"
        },
        "id": "RDTHdKjDO3fv",
        "outputId": "6c7aa6d0-c823-4785-a11a-d2d2351e8a02"
      },
      "outputs": [
        {
          "name": "stdout",
          "output_type": "stream",
          "text": [
            "SVM:                precision    recall  f1-score   support\n",
            "\n",
            "           0       1.00      0.97      0.98        29\n",
            "           1       1.00      1.00      1.00        29\n",
            "           2       0.98      1.00      0.99        61\n",
            "           3       1.00      1.00      1.00        25\n",
            "           4       1.00      1.00      1.00        17\n",
            "\n",
            "    accuracy                           0.99       161\n",
            "   macro avg       1.00      0.99      0.99       161\n",
            "weighted avg       0.99      0.99      0.99       161\n",
            "\n"
          ]
        }
      ],
      "source": [
        "svm_metrics = metrics.classification_report( y_tst, y_pred)\n",
        "print('SVM: ',svm_metrics)"
      ]
    },
    {
      "cell_type": "markdown",
      "metadata": {
        "id": "Su6efXU2h_NN"
      },
      "source": [
        "\n",
        "## KNN __ with albow method"
      ]
    },
    {
      "cell_type": "code",
      "execution_count": null,
      "metadata": {
        "colab": {
          "base_uri": "https://localhost:8080/"
        },
        "id": "Lnh2HYyxiCXe",
        "outputId": "d03a6af1-fd13-41b5-979a-98d8f3d425fe"
      },
      "outputs": [
        {
          "name": "stdout",
          "output_type": "stream",
          "text": [
            "0.0\n",
            "0.002484472049689441\n",
            "0.002484472049689441\n",
            "0.004968944099378882\n",
            "0.002484472049689441\n",
            "0.004968944099378882\n",
            "0.004968944099378882\n",
            "0.0037267080745341614\n",
            "0.002484472049689441\n",
            "0.0037267080745341614\n",
            "0.002484472049689441\n",
            "0.0037267080745341614\n",
            "0.0037267080745341614\n",
            "0.002484472049689441\n",
            "0.002484472049689441\n",
            "0.002484472049689441\n",
            "0.0\n",
            "0.0\n",
            "0.0\n",
            "0.0\n",
            "0.0\n",
            "0.0\n",
            "0.0\n",
            "0.0\n",
            "0.0\n",
            "0.002484472049689441\n",
            "0.0012422360248447205\n",
            "0.002484472049689441\n",
            "0.0012422360248447205\n",
            "0.0012422360248447205\n",
            "0.0012422360248447205\n",
            "0.002484472049689441\n",
            "0.002484472049689441\n",
            "0.0037267080745341614\n",
            "0.002484472049689441\n",
            "0.002484472049689441\n",
            "0.0012422360248447205\n",
            "0.0012422360248447205\n",
            "0.0012422360248447205\n"
          ]
        }
      ],
      "source": [
        "error = []\n",
        "# Calculating error for K values between 1 and 40\n",
        "neighbour=5\n",
        "min_val=99999\n",
        "for i in range(1, 40):\n",
        "    knn = KNeighborsClassifier(n_neighbors=i)\n",
        "    knn.fit(X_train, y_train)\n",
        "    pred_i = knn.predict(X_test)\n",
        "    # pred_i=pred_i.reshape(18,1)\n",
        "    temp=np.mean(pred_i != y_test)\n",
        "    # if(min_val>temp):\n",
        "    #     min_val=temp\n",
        "    #     neighbour=i\n",
        "    error.append(temp)\n",
        "    print(temp)"
      ]
    },
    {
      "cell_type": "code",
      "execution_count": null,
      "metadata": {
        "colab": {
          "base_uri": "https://localhost:8080/",
          "height": 421
        },
        "id": "7TmOh18KiDiJ",
        "outputId": "aaa48837-ba4d-45bd-a93d-ac0a2ca3c9e3"
      },
      "outputs": [
        {
          "data": {
            "text/plain": [
              "Text(0, 0.5, 'Mean Error')"
            ]
          },
          "execution_count": 127,
          "metadata": {},
          "output_type": "execute_result"
        },
        {
          "data": {
            "image/png": "[encoded data removed]",
            "text/plain": [
              "<Figure size 864x432 with 1 Axes>"
            ]
          },
          "metadata": {
            "needs_background": "light"
          },
          "output_type": "display_data"
        }
      ],
      "source": [
        "plt.figure(figsize=(12, 6))\n",
        "plt.plot(range(1, 40), error, color='red', linestyle='dashed', marker='o',\n",
        "         markerfacecolor='blue', markersize=10)\n",
        "plt.title('Error Rate K Value')\n",
        "plt.xlabel('K Value')\n",
        "plt.ylabel('Mean Error')"
      ]
    },
    {
      "cell_type": "code",
      "execution_count": null,
      "metadata": {
        "colab": {
          "base_uri": "https://localhost:8080/"
        },
        "id": "LxNMksWTiDen",
        "outputId": "7d90b478-97c9-4a48-eab4-89946d4f26c3"
      },
      "outputs": [
        {
          "data": {
            "text/plain": [
              "KNeighborsClassifier(n_neighbors=20)"
            ]
          },
          "execution_count": 128,
          "metadata": {},
          "output_type": "execute_result"
        }
      ],
      "source": [
        "from sklearn.neighbors import KNeighborsClassifier\n",
        "KNN = KNeighborsClassifier(n_neighbors=20)\n",
        "KNN.fit(X_train, y_train)"
      ]
    },
    {
      "cell_type": "code",
      "execution_count": null,
      "metadata": {
        "colab": {
          "base_uri": "https://localhost:8080/"
        },
        "id": "KDhUworOiDPF",
        "outputId": "26c24f32-0da8-4812-b2fe-8670198a9525"
      },
      "outputs": [
        {
          "data": {
            "text/plain": [
              "1"
            ]
          },
          "execution_count": 129,
          "metadata": {},
          "output_type": "execute_result"
        }
      ],
      "source": [
        "y_pred = KNN.predict(X_test)\n",
        "y_pred[[0]].argmax(axis=1)[0]"
      ]
    },
    {
      "cell_type": "code",
      "execution_count": null,
      "metadata": {
        "colab": {
          "base_uri": "https://localhost:8080/"
        },
        "id": "fdVIV8ipE_7S",
        "outputId": "8c22accf-1939-4dbb-e020-9e6f8a1aa30c"
      },
      "outputs": [
        {
          "name": "stdout",
          "output_type": "stream",
          "text": [
            "Accuracy on KNN: 100.00 %\n",
            "KNN Confusion Metrics:\n",
            " [[29  0  0  0  0]\n",
            " [ 0 29  0  0  0]\n",
            " [ 0  0 61  0  0]\n",
            " [ 0  0  0 25  0]\n",
            " [ 0  0  0  0 17]]\n"
          ]
        }
      ],
      "source": [
        "#Accuray of the model\n",
        "KNN_acc =metrics.accuracy_score(y_test.argmax(axis=1), y_pred.argmax(axis=1))\n",
        "\n",
        "print(\"Accuracy on KNN: %.2f\" % (KNN_acc*100),\"%\")\n",
        "cm_knn=confusion_matrix(y_test.argmax(axis=1), y_pred.argmax(axis=1))\n",
        "print(\"KNN Confusion Metrics:\\n\",cm_knn)"
      ]
    },
    {
      "cell_type": "code",
      "execution_count": null,
      "metadata": {
        "colab": {
          "base_uri": "https://localhost:8080/"
        },
        "id": "5lAX29rPFF9h",
        "outputId": "de7ddcc4-a236-462f-ae2b-d5560d302ba4"
      },
      "outputs": [
        {
          "name": "stdout",
          "output_type": "stream",
          "text": [
            "KNN:                precision    recall  f1-score   support\n",
            "\n",
            "           0       1.00      1.00      1.00        29\n",
            "           1       1.00      1.00      1.00        29\n",
            "           2       1.00      1.00      1.00        61\n",
            "           3       1.00      1.00      1.00        25\n",
            "           4       1.00      1.00      1.00        17\n",
            "\n",
            "    accuracy                           1.00       161\n",
            "   macro avg       1.00      1.00      1.00       161\n",
            "weighted avg       1.00      1.00      1.00       161\n",
            "\n"
          ]
        }
      ],
      "source": [
        "knn_metrics = metrics.classification_report( y_test.argmax(axis=1), y_pred.argmax(axis=1))\n",
        "print('KNN: ',knn_metrics)"
      ]
    },
    {
      "cell_type": "code",
      "execution_count": null,
      "metadata": {
        "id": "iVkGr12Qt844"
      },
      "outputs": [],
      "source": []
    },
    {
      "cell_type": "code",
      "execution_count": null,
      "metadata": {
        "colab": {
          "base_uri": "https://localhost:8080/",
          "height": 295
        },
        "id": "7Ff6wqZ2GMrB",
        "outputId": "fd16aea3-06f5-484b-bd53-9f232ecfb48b"
      },
      "outputs": [
        {
          "data": {
            "image/png": "[encoded data removed]",
            "text/plain": [
              "<Figure size 432x288 with 2 Axes>"
            ]
          },
          "metadata": {
            "needs_background": "light"
          },
          "output_type": "display_data"
        }
      ],
      "source": [
        "import seaborn as sns\n",
        "\n",
        "T5_lables = ['PRAD', 'LUAD' ,'BRCA' ,'KIRC' ,'COAD']\n",
        "\n",
        "ax= plt.subplot()\n",
        "\n",
        "cm_knn = confusion_matrix(np.asarray(y_test).argmax(axis=1), np.asarray(y_pred).argmax(axis=1))\n",
        "sns.heatmap(cm_knn, annot=True, fmt='g', ax=ax);  #annot=True to annotate cells, ftm='g' to disable scientific notation\n",
        "plt.savefig(savePath+'KNN_CM.png')\n",
        "# labels, title and ticks\n",
        "ax.set_xlabel('Predicted labels');ax.set_ylabel('True labels');\n",
        "ax.set_title('KNN Confusion Matrix');\n",
        "ax.xaxis.set_ticklabels(T5_lables); ax.yaxis.set_ticklabels(T5_lables);"
      ]
    },
    {
      "cell_type": "code",
      "execution_count": null,
      "metadata": {
        "id": "73PSsTmKP3fn"
      },
      "outputs": [],
      "source": []
    },
    {
      "cell_type": "markdown",
      "metadata": {
        "id": "dCWckcAMBC26"
      },
      "source": [
        "## Decision Tree Classification"
      ]
    },
    {
      "cell_type": "code",
      "execution_count": null,
      "metadata": {
        "colab": {
          "base_uri": "https://localhost:8080/"
        },
        "id": "DuvMpCPPBCLK",
        "outputId": "4e926038-b876-47bc-86e5-2e0847e60248"
      },
      "outputs": [
        {
          "name": "stdout",
          "output_type": "stream",
          "text": [
            "Accuracy on DT: 96.89 %\n"
          ]
        }
      ],
      "source": [
        "# Create Decision Tree classifer object\n",
        "DT = DecisionTreeClassifier(criterion='entropy')\n",
        "# Train Decision Tree Classifer\n",
        "DT = DT.fit(X_train,y_train)\n",
        "#Predict the response for test dataset\n",
        "y_pred = DT.predict(X_test)\n",
        "# Model Accuracy, how often is the classifier correct?\n",
        "print(\"Accuracy on DT: %.2f\" % (accuracy_score(y_test, y_pred)*100),\"%\")"
      ]
    },
    {
      "cell_type": "code",
      "execution_count": null,
      "metadata": {
        "colab": {
          "base_uri": "https://localhost:8080/"
        },
        "id": "8h_2-htJBMYk",
        "outputId": "039f15b9-910b-45c2-a68e-746cf4ddd936"
      },
      "outputs": [
        {
          "name": "stdout",
          "output_type": "stream",
          "text": [
            "DT Confusion matrix:  [[58  0  0  2  1]\n",
            " [ 0 17  0  0  0]\n",
            " [ 0  0 25  0  0]\n",
            " [ 0  0  0 29  0]\n",
            " [ 2  0  0  0 27]]\n"
          ]
        }
      ],
      "source": [
        "#Making the confusing Matrix\n",
        "from sklearn.metrics import confusion_matrix\n",
        "cm_DT=confusion_matrix(y_test.argmax(axis=1), y_pred.argmax(axis=1))\n",
        "print(\"DT Confusion matrix: \",cm_DT)"
      ]
    },
    {
      "cell_type": "code",
      "execution_count": null,
      "metadata": {
        "colab": {
          "base_uri": "https://localhost:8080/"
        },
        "id": "VZs8iYDUuDTW",
        "outputId": "16ea0cc0-35b1-4594-94ff-a2b9f7371869"
      },
      "outputs": [
        {
          "name": "stdout",
          "output_type": "stream",
          "text": [
            "DT:                precision    recall  f1-score   support\n",
            "\n",
            "           0       0.97      0.95      0.96        61\n",
            "           1       1.00      1.00      1.00        17\n",
            "           2       1.00      1.00      1.00        25\n",
            "           3       0.94      1.00      0.97        29\n",
            "           4       0.96      0.93      0.95        29\n",
            "\n",
            "    accuracy                           0.97       161\n",
            "   macro avg       0.97      0.98      0.97       161\n",
            "weighted avg       0.97      0.97      0.97       161\n",
            "\n"
          ]
        }
      ],
      "source": [
        "DT_metrics = metrics.classification_report( y_test.argmax(axis=1), y_pred.argmax(axis=1))\n",
        "print('DT: ',DT_metrics)"
      ]
    },
    {
      "cell_type": "code",
      "execution_count": null,
      "metadata": {
        "colab": {
          "base_uri": "https://localhost:8080/",
          "height": 295
        },
        "id": "JmUaYz0KsWsQ",
        "outputId": "f7c7fdf7-abcb-4b61-8b26-2d4d4b2ed423"
      },
      "outputs": [
        {
          "data": {
            "image/png": "[encoded data removed]",
            "text/plain": [
              "<Figure size 432x288 with 2 Axes>"
            ]
          },
          "metadata": {
            "needs_background": "light"
          },
          "output_type": "display_data"
        }
      ],
      "source": [
        "import seaborn as sns\n",
        "\n",
        "T5_lables = ['PRAD', 'LUAD' ,'BRCA' ,'KIRC' ,'COAD']\n",
        "\n",
        "ax= plt.subplot()\n",
        "\n",
        "cm_knn = confusion_matrix(np.asarray(y_test).argmax(axis=1), np.asarray(y_pred).argmax(axis=1))\n",
        "sns.heatmap(cm_knn, annot=True, fmt='g', ax=ax);  #annot=True to annotate cells, ftm='g' to disable scientific notation\n",
        "plt.savefig(savePath+'DT_CM.png')\n",
        "# labels, title and ticks\n",
        "ax.set_xlabel('Predicted labels');ax.set_ylabel('True labels');\n",
        "ax.set_title('KNN Confusion Matrix');\n",
        "ax.xaxis.set_ticklabels(T5_lables); ax.yaxis.set_ticklabels(T5_lables);"
      ]
    },
    {
      "cell_type": "code",
      "execution_count": null,
      "metadata": {
        "id": "JbkLXqKxsXm0"
      },
      "outputs": [],
      "source": []
    },
    {
      "cell_type": "code",
      "execution_count": null,
      "metadata": {
        "colab": {
          "base_uri": "https://localhost:8080/"
        },
        "id": "_pd0irLPpakX",
        "outputId": "b9b6bdb6-0b9e-4866-bc6e-c2323999ca18"
      },
      "outputs": [
        {
          "data": {
            "text/plain": [
              "Index(['gene_0', 'gene_1', 'gene_2', 'gene_3', 'gene_4', 'gene_5', 'gene_6',\n",
              "       'gene_7', 'gene_8', 'gene_9',\n",
              "       ...\n",
              "       'gene_20521', 'gene_20522', 'gene_20523', 'gene_20524', 'gene_20525',\n",
              "       'gene_20526', 'gene_20527', 'gene_20528', 'gene_20529', 'gene_20530'],\n",
              "      dtype='object', length=20531)"
            ]
          },
          "execution_count": 137,
          "metadata": {},
          "output_type": "execute_result"
        }
      ],
      "source": [
        "dataset.columns"
      ]
    },
    {
      "cell_type": "code",
      "execution_count": null,
      "metadata": {
        "id": "Sd4hoF5MTBOy"
      },
      "outputs": [],
      "source": []
    },
    {
      "cell_type": "code",
      "execution_count": null,
      "metadata": {
        "colab": {
          "base_uri": "https://localhost:8080/"
        },
        "id": "Qm4bVYo7TbQC",
        "outputId": "cb076c5a-5f0a-4b4e-ef7c-b33c9fd50b31"
      },
      "outputs": [
        {
          "data": {
            "text/plain": [
              "Index(['gene_0', 'gene_1', 'gene_2', 'gene_3', 'gene_4', 'gene_6', 'gene_7',\n",
              "       'gene_8', 'gene_9', 'gene_10',\n",
              "       ...\n",
              "       'gene_20521', 'gene_20522', 'gene_20523', 'gene_20524', 'gene_20525',\n",
              "       'gene_20526', 'gene_20527', 'gene_20528', 'gene_20529', 'gene_20530'],\n",
              "      dtype='object', length=20264)"
            ]
          },
          "execution_count": 147,
          "metadata": {},
          "output_type": "execute_result"
        }
      ],
      "source": [
        "dt.columns"
      ]
    },
    {
      "cell_type": "code",
      "execution_count": null,
      "metadata": {
        "colab": {
          "base_uri": "https://localhost:8080/"
        },
        "id": "x0jqmDknTTCe",
        "outputId": "29adca3b-31cd-43ca-b36d-a3725e39e93c"
      },
      "outputs": [
        {
          "data": {
            "text/plain": [
              "int"
            ]
          },
          "execution_count": 145,
          "metadata": {},
          "output_type": "execute_result"
        }
      ],
      "source": []
    },
    {
      "cell_type": "code",
      "execution_count": null,
      "metadata": {
        "colab": {
          "base_uri": "https://localhost:8080/",
          "height": 1000
        },
        "id": "qjGP9PA2BWVy",
        "outputId": "edd4637d-b500-400e-c316-20961200cd48"
      },
      "outputs": [
        {
          "data": {
            "image/svg+xml": [
              "<?xml version=\"1.0\" encoding=\"UTF-8\" standalone=\"no\"?>\n",
              "<!DOCTYPE svg PUBLIC \"-//W3C//DTD SVG 1.1//EN\"\n",
              " \"http://www.w3.org/Graphics/SVG/1.1/DTD/svg11.dtd\">\n",
              "<!-- Generated by graphviz version 2.40.1 (20161225.0304)\n",
              " -->\n",
              "<!-- Title: Tree Pages: 1 -->\n",
              "<svg width=\"806pt\" height=\"864pt\"\n",
              " viewBox=\"0.00 0.00 806.00 864.00\" xmlns=\"http://www.w3.org/2000/svg\" xmlns:xlink=\"http://www.w3.org/1999/xlink\">\n",
              "<g id=\"graph0\" class=\"graph\" transform=\"scale(1 1) rotate(0) translate(4 860)\">\n",
              "<title>Tree</title>\n",
              "<polygon fill=\"#ffffff\" stroke=\"transparent\" points=\"-4,4 -4,-860 802,-860 802,4 -4,4\"/>\n",
              "<!-- 0 -->\n",
              "<g id=\"node1\" class=\"node\">\n",
              "<title>0</title>\n",
              "<path fill=\"#ffffff\" stroke=\"#000000\" d=\"M596,-856C596,-856 477,-856 477,-856 471,-856 465,-850 465,-844 465,-844 465,-740 465,-740 465,-734 471,-728 477,-728 477,-728 596,-728 596,-728 602,-728 608,-734 608,-740 608,-740 608,-844 608,-844 608,-850 602,-856 596,-856\"/>\n",
              "<text text-anchor=\"start\" x=\"473\" y=\"-840.8\" font-family=\"Helvetica,sans-Serif\" font-size=\"14.00\" fill=\"#000000\">gene_18746 ≤ 0.17</text>\n",
              "<text text-anchor=\"start\" x=\"485.5\" y=\"-825.8\" font-family=\"Helvetica,sans-Serif\" font-size=\"14.00\" fill=\"#000000\">entropy = 0.685</text>\n",
              "<text text-anchor=\"start\" x=\"488.5\" y=\"-810.8\" font-family=\"Helvetica,sans-Serif\" font-size=\"14.00\" fill=\"#000000\">samples = 640</text>\n",
              "<text text-anchor=\"start\" x=\"476.5\" y=\"-795.8\" font-family=\"Helvetica,sans-Serif\" font-size=\"14.00\" fill=\"#000000\">value = [[533, 107]</text>\n",
              "<text text-anchor=\"start\" x=\"504\" y=\"-780.8\" font-family=\"Helvetica,sans-Serif\" font-size=\"14.00\" fill=\"#000000\">[528, 112]</text>\n",
              "<text text-anchor=\"start\" x=\"504\" y=\"-765.8\" font-family=\"Helvetica,sans-Serif\" font-size=\"14.00\" fill=\"#000000\">[401, 239]</text>\n",
              "<text text-anchor=\"start\" x=\"504\" y=\"-750.8\" font-family=\"Helvetica,sans-Serif\" font-size=\"14.00\" fill=\"#000000\">[519, 121]</text>\n",
              "<text text-anchor=\"start\" x=\"506\" y=\"-735.8\" font-family=\"Helvetica,sans-Serif\" font-size=\"14.00\" fill=\"#000000\">[579, 61]]</text>\n",
              "</g>\n",
              "<!-- 1 -->\n",
              "<g id=\"node2\" class=\"node\">\n",
              "<title>1</title>\n",
              "<path fill=\"#fef9f5\" stroke=\"#000000\" d=\"M516,-692C516,-692 389,-692 389,-692 383,-692 377,-686 377,-680 377,-680 377,-576 377,-576 377,-570 383,-564 389,-564 389,-564 516,-564 516,-564 522,-564 528,-570 528,-576 528,-576 528,-680 528,-680 528,-686 522,-692 516,-692\"/>\n",
              "<text text-anchor=\"start\" x=\"385\" y=\"-676.8\" font-family=\"Helvetica,sans-Serif\" font-size=\"14.00\" fill=\"#000000\">gene_12983 ≤ 0.957</text>\n",
              "<text text-anchor=\"start\" x=\"401.5\" y=\"-661.8\" font-family=\"Helvetica,sans-Serif\" font-size=\"14.00\" fill=\"#000000\">entropy = 0.651</text>\n",
              "<text text-anchor=\"start\" x=\"404.5\" y=\"-646.8\" font-family=\"Helvetica,sans-Serif\" font-size=\"14.00\" fill=\"#000000\">samples = 404</text>\n",
              "<text text-anchor=\"start\" x=\"392.5\" y=\"-631.8\" font-family=\"Helvetica,sans-Serif\" font-size=\"14.00\" fill=\"#000000\">value = [[298, 106]</text>\n",
              "<text text-anchor=\"start\" x=\"420\" y=\"-616.8\" font-family=\"Helvetica,sans-Serif\" font-size=\"14.00\" fill=\"#000000\">[292, 112]</text>\n",
              "<text text-anchor=\"start\" x=\"428\" y=\"-601.8\" font-family=\"Helvetica,sans-Serif\" font-size=\"14.00\" fill=\"#000000\">[400, 4]</text>\n",
              "<text text-anchor=\"start\" x=\"420\" y=\"-586.8\" font-family=\"Helvetica,sans-Serif\" font-size=\"14.00\" fill=\"#000000\">[283, 121]</text>\n",
              "<text text-anchor=\"start\" x=\"422\" y=\"-571.8\" font-family=\"Helvetica,sans-Serif\" font-size=\"14.00\" fill=\"#000000\">[343, 61]]</text>\n",
              "</g>\n",
              "<!-- 0&#45;&gt;1 -->\n",
              "<g id=\"edge1\" class=\"edge\">\n",
              "<title>0&#45;&gt;1</title>\n",
              "<path fill=\"none\" stroke=\"#000000\" d=\"M503.5421,-727.6536C499.1074,-718.9953 494.5314,-710.0614 490.025,-701.2632\"/>\n",
              "<polygon fill=\"#000000\" stroke=\"#000000\" points=\"493.0369,-699.4657 485.3629,-692.1609 486.8065,-702.6569 493.0369,-699.4657\"/>\n",
              "<text text-anchor=\"middle\" x=\"477.6878\" y=\"-712.2536\" font-family=\"Helvetica,sans-Serif\" font-size=\"14.00\" fill=\"#000000\">True</text>\n",
              "</g>\n",
              "<!-- 12 -->\n",
              "<g id=\"node13\" class=\"node\">\n",
              "<title>12</title>\n",
              "<path fill=\"#e6843e\" stroke=\"#000000\" d=\"M685,-692C685,-692 558,-692 558,-692 552,-692 546,-686 546,-680 546,-680 546,-576 546,-576 546,-570 552,-564 558,-564 558,-564 685,-564 685,-564 691,-564 697,-570 697,-576 697,-576 697,-680 697,-680 697,-686 691,-692 685,-692\"/>\n",
              "<text text-anchor=\"start\" x=\"554\" y=\"-676.8\" font-family=\"Helvetica,sans-Serif\" font-size=\"14.00\" fill=\"#000000\">gene_10922 ≤ 3.007</text>\n",
              "<text text-anchor=\"start\" x=\"570.5\" y=\"-661.8\" font-family=\"Helvetica,sans-Serif\" font-size=\"14.00\" fill=\"#000000\">entropy = 0.016</text>\n",
              "<text text-anchor=\"start\" x=\"573.5\" y=\"-646.8\" font-family=\"Helvetica,sans-Serif\" font-size=\"14.00\" fill=\"#000000\">samples = 236</text>\n",
              "<text text-anchor=\"start\" x=\"570\" y=\"-631.8\" font-family=\"Helvetica,sans-Serif\" font-size=\"14.00\" fill=\"#000000\">value = [[235, 1]</text>\n",
              "<text text-anchor=\"start\" x=\"597\" y=\"-616.8\" font-family=\"Helvetica,sans-Serif\" font-size=\"14.00\" fill=\"#000000\">[236, 0]</text>\n",
              "<text text-anchor=\"start\" x=\"597\" y=\"-601.8\" font-family=\"Helvetica,sans-Serif\" font-size=\"14.00\" fill=\"#000000\">[1, 235]</text>\n",
              "<text text-anchor=\"start\" x=\"597\" y=\"-586.8\" font-family=\"Helvetica,sans-Serif\" font-size=\"14.00\" fill=\"#000000\">[236, 0]</text>\n",
              "<text text-anchor=\"start\" x=\"595.5\" y=\"-571.8\" font-family=\"Helvetica,sans-Serif\" font-size=\"14.00\" fill=\"#000000\">[236, 0]]</text>\n",
              "</g>\n",
              "<!-- 0&#45;&gt;12 -->\n",
              "<g id=\"edge12\" class=\"edge\">\n",
              "<title>0&#45;&gt;12</title>\n",
              "<path fill=\"none\" stroke=\"#000000\" d=\"M569.8503,-727.6536C574.3378,-718.9953 578.9682,-710.0614 583.5282,-701.2632\"/>\n",
              "<polygon fill=\"#000000\" stroke=\"#000000\" points=\"586.7517,-702.6498 588.2459,-692.1609 580.5368,-699.4287 586.7517,-702.6498\"/>\n",
              "<text text-anchor=\"middle\" x=\"595.8062\" y=\"-712.2903\" font-family=\"Helvetica,sans-Serif\" font-size=\"14.00\" fill=\"#000000\">False</text>\n",
              "</g>\n",
              "<!-- 2 -->\n",
              "<g id=\"node3\" class=\"node\">\n",
              "<title>2</title>\n",
              "<path fill=\"#fae7da\" stroke=\"#000000\" d=\"M350.5,-528C350.5,-528 238.5,-528 238.5,-528 232.5,-528 226.5,-522 226.5,-516 226.5,-516 226.5,-412 226.5,-412 226.5,-406 232.5,-400 238.5,-400 238.5,-400 350.5,-400 350.5,-400 356.5,-400 362.5,-406 362.5,-412 362.5,-412 362.5,-516 362.5,-516 362.5,-522 356.5,-528 350.5,-528\"/>\n",
              "<text text-anchor=\"start\" x=\"235.5\" y=\"-512.8\" font-family=\"Helvetica,sans-Serif\" font-size=\"14.00\" fill=\"#000000\">gene_203 ≤ 0.819</text>\n",
              "<text text-anchor=\"start\" x=\"243.5\" y=\"-497.8\" font-family=\"Helvetica,sans-Serif\" font-size=\"14.00\" fill=\"#000000\">entropy = 0.557</text>\n",
              "<text text-anchor=\"start\" x=\"246.5\" y=\"-482.8\" font-family=\"Helvetica,sans-Serif\" font-size=\"14.00\" fill=\"#000000\">samples = 282</text>\n",
              "<text text-anchor=\"start\" x=\"234.5\" y=\"-467.8\" font-family=\"Helvetica,sans-Serif\" font-size=\"14.00\" fill=\"#000000\">value = [[176, 106]</text>\n",
              "<text text-anchor=\"start\" x=\"262\" y=\"-452.8\" font-family=\"Helvetica,sans-Serif\" font-size=\"14.00\" fill=\"#000000\">[171, 111]</text>\n",
              "<text text-anchor=\"start\" x=\"270\" y=\"-437.8\" font-family=\"Helvetica,sans-Serif\" font-size=\"14.00\" fill=\"#000000\">[278, 4]</text>\n",
              "<text text-anchor=\"start\" x=\"270\" y=\"-422.8\" font-family=\"Helvetica,sans-Serif\" font-size=\"14.00\" fill=\"#000000\">[282, 0]</text>\n",
              "<text text-anchor=\"start\" x=\"264\" y=\"-407.8\" font-family=\"Helvetica,sans-Serif\" font-size=\"14.00\" fill=\"#000000\">[221, 61]]</text>\n",
              "</g>\n",
              "<!-- 1&#45;&gt;2 -->\n",
              "<g id=\"edge2\" class=\"edge\">\n",
              "<title>1&#45;&gt;2</title>\n",
              "<path fill=\"none\" stroke=\"#000000\" d=\"M390.5077,-563.6536C381.6394,-554.4485 372.4709,-544.9318 363.4784,-535.5979\"/>\n",
              "<polygon fill=\"#000000\" stroke=\"#000000\" points=\"365.7722,-532.9341 356.3135,-528.1609 360.7311,-537.7908 365.7722,-532.9341\"/>\n",
              "</g>\n",
              "<!-- 9 -->\n",
              "<g id=\"node10\" class=\"node\">\n",
              "<title>9</title>\n",
              "<path fill=\"#e68641\" stroke=\"#000000\" d=\"M520,-528C520,-528 393,-528 393,-528 387,-528 381,-522 381,-516 381,-516 381,-412 381,-412 381,-406 387,-400 393,-400 393,-400 520,-400 520,-400 526,-400 532,-406 532,-412 532,-412 532,-516 532,-516 532,-522 526,-528 520,-528\"/>\n",
              "<text text-anchor=\"start\" x=\"389\" y=\"-512.8\" font-family=\"Helvetica,sans-Serif\" font-size=\"14.00\" fill=\"#000000\">gene_19351 ≤ 4.106</text>\n",
              "<text text-anchor=\"start\" x=\"405.5\" y=\"-497.8\" font-family=\"Helvetica,sans-Serif\" font-size=\"14.00\" fill=\"#000000\">entropy = 0.027</text>\n",
              "<text text-anchor=\"start\" x=\"408.5\" y=\"-482.8\" font-family=\"Helvetica,sans-Serif\" font-size=\"14.00\" fill=\"#000000\">samples = 122</text>\n",
              "<text text-anchor=\"start\" x=\"405\" y=\"-467.8\" font-family=\"Helvetica,sans-Serif\" font-size=\"14.00\" fill=\"#000000\">value = [[122, 0]</text>\n",
              "<text text-anchor=\"start\" x=\"432\" y=\"-452.8\" font-family=\"Helvetica,sans-Serif\" font-size=\"14.00\" fill=\"#000000\">[121, 1]</text>\n",
              "<text text-anchor=\"start\" x=\"432\" y=\"-437.8\" font-family=\"Helvetica,sans-Serif\" font-size=\"14.00\" fill=\"#000000\">[122, 0]</text>\n",
              "<text text-anchor=\"start\" x=\"432\" y=\"-422.8\" font-family=\"Helvetica,sans-Serif\" font-size=\"14.00\" fill=\"#000000\">[1, 121]</text>\n",
              "<text text-anchor=\"start\" x=\"430.5\" y=\"-407.8\" font-family=\"Helvetica,sans-Serif\" font-size=\"14.00\" fill=\"#000000\">[122, 0]]</text>\n",
              "</g>\n",
              "<!-- 1&#45;&gt;9 -->\n",
              "<g id=\"edge9\" class=\"edge\">\n",
              "<title>1&#45;&gt;9</title>\n",
              "<path fill=\"none\" stroke=\"#000000\" d=\"M454.0694,-563.6536C454.2717,-555.3599 454.4802,-546.8132 454.686,-538.3752\"/>\n",
              "<polygon fill=\"#000000\" stroke=\"#000000\" points=\"458.1901,-538.2433 454.9351,-528.1609 451.1922,-538.0725 458.1901,-538.2433\"/>\n",
              "</g>\n",
              "<!-- 3 -->\n",
              "<g id=\"node4\" class=\"node\">\n",
              "<title>3</title>\n",
              "<path fill=\"#f4ccaf\" stroke=\"#000000\" d=\"M212,-364C212,-364 93,-364 93,-364 87,-364 81,-358 81,-352 81,-352 81,-248 81,-248 81,-242 87,-236 93,-236 93,-236 212,-236 212,-236 218,-236 224,-242 224,-248 224,-248 224,-352 224,-352 224,-358 218,-364 212,-364\"/>\n",
              "<text text-anchor=\"start\" x=\"89\" y=\"-348.8\" font-family=\"Helvetica,sans-Serif\" font-size=\"14.00\" fill=\"#000000\">gene_3523 ≤ 1.074</text>\n",
              "<text text-anchor=\"start\" x=\"101.5\" y=\"-333.8\" font-family=\"Helvetica,sans-Serif\" font-size=\"14.00\" fill=\"#000000\">entropy = 0.408</text>\n",
              "<text text-anchor=\"start\" x=\"104.5\" y=\"-318.8\" font-family=\"Helvetica,sans-Serif\" font-size=\"14.00\" fill=\"#000000\">samples = 176</text>\n",
              "<text text-anchor=\"start\" x=\"101\" y=\"-303.8\" font-family=\"Helvetica,sans-Serif\" font-size=\"14.00\" fill=\"#000000\">value = [[176, 0]</text>\n",
              "<text text-anchor=\"start\" x=\"124\" y=\"-288.8\" font-family=\"Helvetica,sans-Serif\" font-size=\"14.00\" fill=\"#000000\">[65, 111]</text>\n",
              "<text text-anchor=\"start\" x=\"128\" y=\"-273.8\" font-family=\"Helvetica,sans-Serif\" font-size=\"14.00\" fill=\"#000000\">[172, 4]</text>\n",
              "<text text-anchor=\"start\" x=\"128\" y=\"-258.8\" font-family=\"Helvetica,sans-Serif\" font-size=\"14.00\" fill=\"#000000\">[176, 0]</text>\n",
              "<text text-anchor=\"start\" x=\"122\" y=\"-243.8\" font-family=\"Helvetica,sans-Serif\" font-size=\"14.00\" fill=\"#000000\">[115, 61]]</text>\n",
              "</g>\n",
              "<!-- 2&#45;&gt;3 -->\n",
              "<g id=\"edge3\" class=\"edge\">\n",
              "<title>2&#45;&gt;3</title>\n",
              "<path fill=\"none\" stroke=\"#000000\" d=\"M238.7854,-399.6536C230.894,-390.5396 222.7382,-381.1202 214.7334,-371.8752\"/>\n",
              "<polygon fill=\"#000000\" stroke=\"#000000\" points=\"217.2457,-369.4298 208.0539,-364.1609 211.9538,-374.0119 217.2457,-369.4298\"/>\n",
              "</g>\n",
              "<!-- 8 -->\n",
              "<g id=\"node9\" class=\"node\">\n",
              "<title>8</title>\n",
              "<path fill=\"#e58139\" stroke=\"#000000\" d=\"M349,-356.5C349,-356.5 254,-356.5 254,-356.5 248,-356.5 242,-350.5 242,-344.5 242,-344.5 242,-255.5 242,-255.5 242,-249.5 248,-243.5 254,-243.5 254,-243.5 349,-243.5 349,-243.5 355,-243.5 361,-249.5 361,-255.5 361,-255.5 361,-344.5 361,-344.5 361,-350.5 355,-356.5 349,-356.5\"/>\n",
              "<text text-anchor=\"start\" x=\"259\" y=\"-341.3\" font-family=\"Helvetica,sans-Serif\" font-size=\"14.00\" fill=\"#000000\">entropy = 0.0</text>\n",
              "<text text-anchor=\"start\" x=\"253.5\" y=\"-326.3\" font-family=\"Helvetica,sans-Serif\" font-size=\"14.00\" fill=\"#000000\">samples = 106</text>\n",
              "<text text-anchor=\"start\" x=\"250\" y=\"-311.3\" font-family=\"Helvetica,sans-Serif\" font-size=\"14.00\" fill=\"#000000\">value = [[0, 106]</text>\n",
              "<text text-anchor=\"start\" x=\"277\" y=\"-296.3\" font-family=\"Helvetica,sans-Serif\" font-size=\"14.00\" fill=\"#000000\">[106, 0]</text>\n",
              "<text text-anchor=\"start\" x=\"277\" y=\"-281.3\" font-family=\"Helvetica,sans-Serif\" font-size=\"14.00\" fill=\"#000000\">[106, 0]</text>\n",
              "<text text-anchor=\"start\" x=\"277\" y=\"-266.3\" font-family=\"Helvetica,sans-Serif\" font-size=\"14.00\" fill=\"#000000\">[106, 0]</text>\n",
              "<text text-anchor=\"start\" x=\"275.5\" y=\"-251.3\" font-family=\"Helvetica,sans-Serif\" font-size=\"14.00\" fill=\"#000000\">[106, 0]]</text>\n",
              "</g>\n",
              "<!-- 2&#45;&gt;8 -->\n",
              "<g id=\"edge8\" class=\"edge\">\n",
              "<title>2&#45;&gt;8</title>\n",
              "<path fill=\"none\" stroke=\"#000000\" d=\"M297.2465,-399.6536C297.7051,-388.9089 298.1818,-377.7397 298.6431,-366.9322\"/>\n",
              "<polygon fill=\"#000000\" stroke=\"#000000\" points=\"302.1499,-366.847 299.0796,-356.7068 295.1562,-366.5485 302.1499,-366.847\"/>\n",
              "</g>\n",
              "<!-- 4 -->\n",
              "<g id=\"node5\" class=\"node\">\n",
              "<title>4</title>\n",
              "<path fill=\"#e89152\" stroke=\"#000000\" d=\"M143,-200C143,-200 12,-200 12,-200 6,-200 0,-194 0,-188 0,-188 0,-84 0,-84 0,-78 6,-72 12,-72 12,-72 143,-72 143,-72 149,-72 155,-78 155,-84 155,-84 155,-188 155,-188 155,-194 149,-200 143,-200\"/>\n",
              "<text text-anchor=\"start\" x=\"8\" y=\"-184.8\" font-family=\"Helvetica,sans-Serif\" font-size=\"14.00\" fill=\"#000000\">gene_15896 ≤ &#45;0.154</text>\n",
              "<text text-anchor=\"start\" x=\"26.5\" y=\"-169.8\" font-family=\"Helvetica,sans-Serif\" font-size=\"14.00\" fill=\"#000000\">entropy = 0.087</text>\n",
              "<text text-anchor=\"start\" x=\"29.5\" y=\"-154.8\" font-family=\"Helvetica,sans-Serif\" font-size=\"14.00\" fill=\"#000000\">samples = 115</text>\n",
              "<text text-anchor=\"start\" x=\"26\" y=\"-139.8\" font-family=\"Helvetica,sans-Serif\" font-size=\"14.00\" fill=\"#000000\">value = [[115, 0]</text>\n",
              "<text text-anchor=\"start\" x=\"53\" y=\"-124.8\" font-family=\"Helvetica,sans-Serif\" font-size=\"14.00\" fill=\"#000000\">[4, 111]</text>\n",
              "<text text-anchor=\"start\" x=\"53\" y=\"-109.8\" font-family=\"Helvetica,sans-Serif\" font-size=\"14.00\" fill=\"#000000\">[111, 4]</text>\n",
              "<text text-anchor=\"start\" x=\"53\" y=\"-94.8\" font-family=\"Helvetica,sans-Serif\" font-size=\"14.00\" fill=\"#000000\">[115, 0]</text>\n",
              "<text text-anchor=\"start\" x=\"51.5\" y=\"-79.8\" font-family=\"Helvetica,sans-Serif\" font-size=\"14.00\" fill=\"#000000\">[115, 0]]</text>\n",
              "</g>\n",
              "<!-- 3&#45;&gt;4 -->\n",
              "<g id=\"edge4\" class=\"edge\">\n",
              "<title>3&#45;&gt;4</title>\n",
              "<path fill=\"none\" stroke=\"#000000\" d=\"M123.0733,-235.6536C119.1137,-226.9953 115.0281,-218.0614 111.0045,-209.2632\"/>\n",
              "<polygon fill=\"#000000\" stroke=\"#000000\" points=\"114.1838,-207.7994 106.8419,-200.1609 107.8179,-210.7107 114.1838,-207.7994\"/>\n",
              "</g>\n",
              "<!-- 7 -->\n",
              "<g id=\"node8\" class=\"node\">\n",
              "<title>7</title>\n",
              "<path fill=\"#e58139\" stroke=\"#000000\" d=\"M272,-192.5C272,-192.5 185,-192.5 185,-192.5 179,-192.5 173,-186.5 173,-180.5 173,-180.5 173,-91.5 173,-91.5 173,-85.5 179,-79.5 185,-79.5 185,-79.5 272,-79.5 272,-79.5 278,-79.5 284,-85.5 284,-91.5 284,-91.5 284,-180.5 284,-180.5 284,-186.5 278,-192.5 272,-192.5\"/>\n",
              "<text text-anchor=\"start\" x=\"186\" y=\"-177.3\" font-family=\"Helvetica,sans-Serif\" font-size=\"14.00\" fill=\"#000000\">entropy = 0.0</text>\n",
              "<text text-anchor=\"start\" x=\"184.5\" y=\"-162.3\" font-family=\"Helvetica,sans-Serif\" font-size=\"14.00\" fill=\"#000000\">samples = 61</text>\n",
              "<text text-anchor=\"start\" x=\"181\" y=\"-147.3\" font-family=\"Helvetica,sans-Serif\" font-size=\"14.00\" fill=\"#000000\">value = [[61, 0]</text>\n",
              "<text text-anchor=\"start\" x=\"208.5\" y=\"-132.3\" font-family=\"Helvetica,sans-Serif\" font-size=\"14.00\" fill=\"#000000\">[61, 0]</text>\n",
              "<text text-anchor=\"start\" x=\"208.5\" y=\"-117.3\" font-family=\"Helvetica,sans-Serif\" font-size=\"14.00\" fill=\"#000000\">[61, 0]</text>\n",
              "<text text-anchor=\"start\" x=\"208.5\" y=\"-102.3\" font-family=\"Helvetica,sans-Serif\" font-size=\"14.00\" fill=\"#000000\">[61, 0]</text>\n",
              "<text text-anchor=\"start\" x=\"206.5\" y=\"-87.3\" font-family=\"Helvetica,sans-Serif\" font-size=\"14.00\" fill=\"#000000\">[0, 61]]</text>\n",
              "</g>\n",
              "<!-- 3&#45;&gt;7 -->\n",
              "<g id=\"edge7\" class=\"edge\">\n",
              "<title>3&#45;&gt;7</title>\n",
              "<path fill=\"none\" stroke=\"#000000\" d=\"M182.3191,-235.6536C187.4523,-224.5766 192.7946,-213.0485 197.9468,-201.9305\"/>\n",
              "<polygon fill=\"#000000\" stroke=\"#000000\" points=\"201.1921,-203.2516 202.2212,-192.7068 194.841,-200.3083 201.1921,-203.2516\"/>\n",
              "</g>\n",
              "<!-- 5 -->\n",
              "<g id=\"node6\" class=\"node\">\n",
              "<title>5</title>\n",
              "<path fill=\"#c0c0c0\" stroke=\"#000000\" d=\"M56.5,-36C56.5,-36 26.5,-36 26.5,-36 20.5,-36 14.5,-30 14.5,-24 14.5,-24 14.5,-12 14.5,-12 14.5,-6 20.5,0 26.5,0 26.5,0 56.5,0 56.5,0 62.5,0 68.5,-6 68.5,-12 68.5,-12 68.5,-24 68.5,-24 68.5,-30 62.5,-36 56.5,-36\"/>\n",
              "<text text-anchor=\"middle\" x=\"41.5\" y=\"-14.3\" font-family=\"Helvetica,sans-Serif\" font-size=\"14.00\" fill=\"#000000\">(...)</text>\n",
              "</g>\n",
              "<!-- 4&#45;&gt;5 -->\n",
              "<g id=\"edge5\" class=\"edge\">\n",
              "<title>4&#45;&gt;5</title>\n",
              "<path fill=\"none\" stroke=\"#000000\" d=\"M57.9198,-71.8204C55.1678,-62.8 52.4654,-53.9423 50.0727,-46.0995\"/>\n",
              "<polygon fill=\"#000000\" stroke=\"#000000\" points=\"53.3933,-44.989 47.1275,-36.4456 46.6979,-47.0317 53.3933,-44.989\"/>\n",
              "</g>\n",
              "<!-- 6 -->\n",
              "<g id=\"node7\" class=\"node\">\n",
              "<title>6</title>\n",
              "<path fill=\"#c0c0c0\" stroke=\"#000000\" d=\"M128.5,-36C128.5,-36 98.5,-36 98.5,-36 92.5,-36 86.5,-30 86.5,-24 86.5,-24 86.5,-12 86.5,-12 86.5,-6 92.5,0 98.5,0 98.5,0 128.5,0 128.5,0 134.5,0 140.5,-6 140.5,-12 140.5,-12 140.5,-24 140.5,-24 140.5,-30 134.5,-36 128.5,-36\"/>\n",
              "<text text-anchor=\"middle\" x=\"113.5\" y=\"-14.3\" font-family=\"Helvetica,sans-Serif\" font-size=\"14.00\" fill=\"#000000\">(...)</text>\n",
              "</g>\n",
              "<!-- 4&#45;&gt;6 -->\n",
              "<g id=\"edge6\" class=\"edge\">\n",
              "<title>4&#45;&gt;6</title>\n",
              "<path fill=\"none\" stroke=\"#000000\" d=\"M97.0802,-71.8204C99.8322,-62.8 102.5346,-53.9423 104.9273,-46.0995\"/>\n",
              "<polygon fill=\"#000000\" stroke=\"#000000\" points=\"108.3021,-47.0317 107.8725,-36.4456 101.6067,-44.989 108.3021,-47.0317\"/>\n",
              "</g>\n",
              "<!-- 10 -->\n",
              "<g id=\"node11\" class=\"node\">\n",
              "<title>10</title>\n",
              "<path fill=\"#e58139\" stroke=\"#000000\" d=\"M498,-356.5C498,-356.5 403,-356.5 403,-356.5 397,-356.5 391,-350.5 391,-344.5 391,-344.5 391,-255.5 391,-255.5 391,-249.5 397,-243.5 403,-243.5 403,-243.5 498,-243.5 498,-243.5 504,-243.5 510,-249.5 510,-255.5 510,-255.5 510,-344.5 510,-344.5 510,-350.5 504,-356.5 498,-356.5\"/>\n",
              "<text text-anchor=\"start\" x=\"408\" y=\"-341.3\" font-family=\"Helvetica,sans-Serif\" font-size=\"14.00\" fill=\"#000000\">entropy = 0.0</text>\n",
              "<text text-anchor=\"start\" x=\"402.5\" y=\"-326.3\" font-family=\"Helvetica,sans-Serif\" font-size=\"14.00\" fill=\"#000000\">samples = 121</text>\n",
              "<text text-anchor=\"start\" x=\"399\" y=\"-311.3\" font-family=\"Helvetica,sans-Serif\" font-size=\"14.00\" fill=\"#000000\">value = [[121, 0]</text>\n",
              "<text text-anchor=\"start\" x=\"426\" y=\"-296.3\" font-family=\"Helvetica,sans-Serif\" font-size=\"14.00\" fill=\"#000000\">[121, 0]</text>\n",
              "<text text-anchor=\"start\" x=\"426\" y=\"-281.3\" font-family=\"Helvetica,sans-Serif\" font-size=\"14.00\" fill=\"#000000\">[121, 0]</text>\n",
              "<text text-anchor=\"start\" x=\"426\" y=\"-266.3\" font-family=\"Helvetica,sans-Serif\" font-size=\"14.00\" fill=\"#000000\">[0, 121]</text>\n",
              "<text text-anchor=\"start\" x=\"424.5\" y=\"-251.3\" font-family=\"Helvetica,sans-Serif\" font-size=\"14.00\" fill=\"#000000\">[121, 0]]</text>\n",
              "</g>\n",
              "<!-- 9&#45;&gt;10 -->\n",
              "<g id=\"edge10\" class=\"edge\">\n",
              "<title>9&#45;&gt;10</title>\n",
              "<path fill=\"none\" stroke=\"#000000\" d=\"M454.1459,-399.6536C453.7528,-388.9089 453.3441,-377.7397 452.9487,-366.9322\"/>\n",
              "<polygon fill=\"#000000\" stroke=\"#000000\" points=\"456.438,-366.5722 452.5746,-356.7068 449.4427,-366.8281 456.438,-366.5722\"/>\n",
              "</g>\n",
              "<!-- 11 -->\n",
              "<g id=\"node12\" class=\"node\">\n",
              "<title>11</title>\n",
              "<path fill=\"#e58139\" stroke=\"#000000\" d=\"M619,-356.5C619,-356.5 540,-356.5 540,-356.5 534,-356.5 528,-350.5 528,-344.5 528,-344.5 528,-255.5 528,-255.5 528,-249.5 534,-243.5 540,-243.5 540,-243.5 619,-243.5 619,-243.5 625,-243.5 631,-249.5 631,-255.5 631,-255.5 631,-344.5 631,-344.5 631,-350.5 625,-356.5 619,-356.5\"/>\n",
              "<text text-anchor=\"start\" x=\"537\" y=\"-341.3\" font-family=\"Helvetica,sans-Serif\" font-size=\"14.00\" fill=\"#000000\">entropy = 0.0</text>\n",
              "<text text-anchor=\"start\" x=\"540\" y=\"-326.3\" font-family=\"Helvetica,sans-Serif\" font-size=\"14.00\" fill=\"#000000\">samples = 1</text>\n",
              "<text text-anchor=\"start\" x=\"536\" y=\"-311.3\" font-family=\"Helvetica,sans-Serif\" font-size=\"14.00\" fill=\"#000000\">value = [[1, 0]</text>\n",
              "<text text-anchor=\"start\" x=\"563.5\" y=\"-296.3\" font-family=\"Helvetica,sans-Serif\" font-size=\"14.00\" fill=\"#000000\">[0, 1]</text>\n",
              "<text text-anchor=\"start\" x=\"563.5\" y=\"-281.3\" font-family=\"Helvetica,sans-Serif\" font-size=\"14.00\" fill=\"#000000\">[1, 0]</text>\n",
              "<text text-anchor=\"start\" x=\"563.5\" y=\"-266.3\" font-family=\"Helvetica,sans-Serif\" font-size=\"14.00\" fill=\"#000000\">[1, 0]</text>\n",
              "<text text-anchor=\"start\" x=\"561.5\" y=\"-251.3\" font-family=\"Helvetica,sans-Serif\" font-size=\"14.00\" fill=\"#000000\">[1, 0]]</text>\n",
              "</g>\n",
              "<!-- 9&#45;&gt;11 -->\n",
              "<g id=\"edge11\" class=\"edge\">\n",
              "<title>9&#45;&gt;11</title>\n",
              "<path fill=\"none\" stroke=\"#000000\" d=\"M504.7598,-399.6536C513.3168,-388.2443 522.2327,-376.3564 530.8017,-364.931\"/>\n",
              "<polygon fill=\"#000000\" stroke=\"#000000\" points=\"533.7698,-366.8069 536.9699,-356.7068 528.1698,-362.6068 533.7698,-366.8069\"/>\n",
              "</g>\n",
              "<!-- 13 -->\n",
              "<g id=\"node14\" class=\"node\">\n",
              "<title>13</title>\n",
              "<path fill=\"#e58139\" stroke=\"#000000\" d=\"M665,-520.5C665,-520.5 570,-520.5 570,-520.5 564,-520.5 558,-514.5 558,-508.5 558,-508.5 558,-419.5 558,-419.5 558,-413.5 564,-407.5 570,-407.5 570,-407.5 665,-407.5 665,-407.5 671,-407.5 677,-413.5 677,-419.5 677,-419.5 677,-508.5 677,-508.5 677,-514.5 671,-520.5 665,-520.5\"/>\n",
              "<text text-anchor=\"start\" x=\"575\" y=\"-505.3\" font-family=\"Helvetica,sans-Serif\" font-size=\"14.00\" fill=\"#000000\">entropy = 0.0</text>\n",
              "<text text-anchor=\"start\" x=\"569.5\" y=\"-490.3\" font-family=\"Helvetica,sans-Serif\" font-size=\"14.00\" fill=\"#000000\">samples = 235</text>\n",
              "<text text-anchor=\"start\" x=\"566\" y=\"-475.3\" font-family=\"Helvetica,sans-Serif\" font-size=\"14.00\" fill=\"#000000\">value = [[235, 0]</text>\n",
              "<text text-anchor=\"start\" x=\"593\" y=\"-460.3\" font-family=\"Helvetica,sans-Serif\" font-size=\"14.00\" fill=\"#000000\">[235, 0]</text>\n",
              "<text text-anchor=\"start\" x=\"593\" y=\"-445.3\" font-family=\"Helvetica,sans-Serif\" font-size=\"14.00\" fill=\"#000000\">[0, 235]</text>\n",
              "<text text-anchor=\"start\" x=\"593\" y=\"-430.3\" font-family=\"Helvetica,sans-Serif\" font-size=\"14.00\" fill=\"#000000\">[235, 0]</text>\n",
              "<text text-anchor=\"start\" x=\"591.5\" y=\"-415.3\" font-family=\"Helvetica,sans-Serif\" font-size=\"14.00\" fill=\"#000000\">[235, 0]]</text>\n",
              "</g>\n",
              "<!-- 12&#45;&gt;13 -->\n",
              "<g id=\"edge13\" class=\"edge\">\n",
              "<title>12&#45;&gt;13</title>\n",
              "<path fill=\"none\" stroke=\"#000000\" d=\"M619.9306,-563.6536C619.6685,-552.9089 619.3961,-541.7397 619.1325,-530.9322\"/>\n",
              "<polygon fill=\"#000000\" stroke=\"#000000\" points=\"622.626,-530.6185 618.8831,-520.7068 615.6281,-530.7892 622.626,-530.6185\"/>\n",
              "</g>\n",
              "<!-- 14 -->\n",
              "<g id=\"node15\" class=\"node\">\n",
              "<title>14</title>\n",
              "<path fill=\"#e58139\" stroke=\"#000000\" d=\"M786,-520.5C786,-520.5 707,-520.5 707,-520.5 701,-520.5 695,-514.5 695,-508.5 695,-508.5 695,-419.5 695,-419.5 695,-413.5 701,-407.5 707,-407.5 707,-407.5 786,-407.5 786,-407.5 792,-407.5 798,-413.5 798,-419.5 798,-419.5 798,-508.5 798,-508.5 798,-514.5 792,-520.5 786,-520.5\"/>\n",
              "<text text-anchor=\"start\" x=\"704\" y=\"-505.3\" font-family=\"Helvetica,sans-Serif\" font-size=\"14.00\" fill=\"#000000\">entropy = 0.0</text>\n",
              "<text text-anchor=\"start\" x=\"707\" y=\"-490.3\" font-family=\"Helvetica,sans-Serif\" font-size=\"14.00\" fill=\"#000000\">samples = 1</text>\n",
              "<text text-anchor=\"start\" x=\"703\" y=\"-475.3\" font-family=\"Helvetica,sans-Serif\" font-size=\"14.00\" fill=\"#000000\">value = [[0, 1]</text>\n",
              "<text text-anchor=\"start\" x=\"730.5\" y=\"-460.3\" font-family=\"Helvetica,sans-Serif\" font-size=\"14.00\" fill=\"#000000\">[1, 0]</text>\n",
              "<text text-anchor=\"start\" x=\"730.5\" y=\"-445.3\" font-family=\"Helvetica,sans-Serif\" font-size=\"14.00\" fill=\"#000000\">[1, 0]</text>\n",
              "<text text-anchor=\"start\" x=\"730.5\" y=\"-430.3\" font-family=\"Helvetica,sans-Serif\" font-size=\"14.00\" fill=\"#000000\">[1, 0]</text>\n",
              "<text text-anchor=\"start\" x=\"728.5\" y=\"-415.3\" font-family=\"Helvetica,sans-Serif\" font-size=\"14.00\" fill=\"#000000\">[1, 0]]</text>\n",
              "</g>\n",
              "<!-- 12&#45;&gt;14 -->\n",
              "<g id=\"edge14\" class=\"edge\">\n",
              "<title>12&#45;&gt;14</title>\n",
              "<path fill=\"none\" stroke=\"#000000\" d=\"M670.5445,-563.6536C679.2406,-552.2443 688.3016,-540.3564 697.0099,-528.931\"/>\n",
              "<polygon fill=\"#000000\" stroke=\"#000000\" points=\"700,-530.7817 703.2783,-520.7068 694.4328,-526.5384 700,-530.7817\"/>\n",
              "</g>\n",
              "</g>\n",
              "</svg>\n"
            ],
            "text/plain": [
              "<graphviz.files.Source at 0x7f1b4197d7d0>"
            ]
          },
          "execution_count": 148,
          "metadata": {},
          "output_type": "execute_result"
        }
      ],
      "source": [
        "import graphviz\n",
        "dot_data = tree.export_graphviz(DT, out_file=None,\n",
        "                      max_depth = 4,\n",
        "                      feature_names=dt.columns,\n",
        "                      class_names= ['PRAD', 'LUAD', 'BRCA' ,'KIRC' ,'COAD'],\n",
        "                      filled=True, rounded=True,\n",
        "                      special_characters=True,)\n",
        "graph = graphviz.Source(dot_data)\n",
        "graph"
      ]
    },
    {
      "cell_type": "code",
      "execution_count": null,
      "metadata": {
        "id": "P1YtqBUHe660"
      },
      "outputs": [],
      "source": []
    },
    {
      "cell_type": "code",
      "execution_count": null,
      "metadata": {
        "id": "El0tGvTce63S"
      },
      "outputs": [],
      "source": []
    },
    {
      "cell_type": "code",
      "execution_count": null,
      "metadata": {
        "colab": {
          "base_uri": "https://localhost:8080/",
          "height": 249
        },
        "id": "sSpbUTAETmd3",
        "outputId": "d552fb2c-2c65-4e3e-ba6d-db2230a6e810"
      },
      "outputs": [
        {
          "data": {
            "image/png": "[encoded data removed]",
            "text/plain": [
              "<Figure size 432x288 with 1 Axes>"
            ]
          },
          "metadata": {},
          "output_type": "display_data"
        }
      ],
      "source": [
        "import matplotlib.pyplot as plt\n",
        "data = {'BRCA':300,\n",
        "        'KIRC':146,\n",
        "        'LUAD':141,\n",
        "        'PRAD':136,\n",
        "        'COAD':78}\n",
        "colors = ['orange', 'green', 'cyan', 'skyblue', 'yellow']\n",
        "highlight =(0,0,0,0,0)\n",
        "plt.pie(list(data.values()), explode=highlight, labels=data.keys(), colors=colors, autopct='%2.2f%%', shadow=True, startangle=90)\n",
        "plt.axis('equal')\n",
        "plt.show()"
      ]
    },
    {
      "cell_type": "code",
      "execution_count": null,
      "metadata": {
        "id": "e6T0hMdwTma_"
      },
      "outputs": [],
      "source": []
    },
    {
      "cell_type": "markdown",
      "metadata": {
        "id": "-yW1idthZfs1"
      },
      "source": []
    },
    {
      "cell_type": "code",
      "execution_count": null,
      "metadata": {
        "id": "FLL5pmpCZfGy"
      },
      "outputs": [],
      "source": []
    },
    {
      "cell_type": "markdown",
      "metadata": {
        "id": "l7PzkPbzZgaZ"
      },
      "source": [
        "##### Plot the data"
      ]
    },
    {
      "cell_type": "code",
      "execution_count": null,
      "metadata": {
        "id": "4qPJm8rmqPND"
      },
      "outputs": [],
      "source": []
    }
  ],
  "metadata": {
    "colab": {
      "provenance": []
    },
    "kernelspec": {
      "display_name": "Python 3",
      "name": "python3"
    },
    "language_info": {
      "name": "python"
    }
  },
  "nbformat": 4,
  "nbformat_minor": 0
}
